{
  "nbformat": 4,
  "nbformat_minor": 0,
  "metadata": {
    "kernelspec": {
      "display_name": "Python 3",
      "language": "python",
      "name": "python3"
    },
    "language_info": {
      "codemirror_mode": {
        "name": "ipython",
        "version": 3
      },
      "file_extension": ".py",
      "mimetype": "text/x-python",
      "name": "python",
      "nbconvert_exporter": "python",
      "pygments_lexer": "ipython3",
      "version": "3.7.8"
    },
    "toc": {
      "base_numbering": 1,
      "nav_menu": {},
      "number_sections": true,
      "sideBar": true,
      "skip_h1_title": true,
      "title_cell": "Table of Contents",
      "title_sidebar": "Contents",
      "toc_cell": false,
      "toc_position": {},
      "toc_section_display": true,
      "toc_window_display": false
    },
    "colab": {
      "name": "Игровые платформы (сборный проект 1).ipynb",
      "provenance": []
    }
  },
  "cells": [
    {
      "cell_type": "markdown",
      "metadata": {
        "id": "g6zW2pwR7F7r"
      },
      "source": [
        "# Сборный проект (интернет-магазин игровых платформ)"
      ]
    },
    {
      "cell_type": "markdown",
      "metadata": {
        "id": "m8_0koIu7F7t"
      },
      "source": [
        "#### Описание данных\n",
        "- Name — название игры\n",
        "- Platform — платформа\n",
        "- Year_of_Release — год выпуска\n",
        "- Genre — жанр игры\n",
        "- NA_sales — продажи в Северной Америке (миллионы проданных копий)\n",
        "- EU_sales — продажи в Европе (миллионы проданных копий)\n",
        "- JP_sales — продажи в Японии (миллионы проданных копий)\n",
        "- Other_sales — продажи в других странах (миллионы проданных копий)\n",
        "- Critic_Score — оценка критиков (максимум 100)\n",
        "- User_Score — оценка пользователей (максимум 10)\n",
        "- Rating — рейтинг от организации ESRB (англ. Entertainment Software Rating Board). Эта ассоциация определяет рейтинг компьютерных игр и присваивает им подходящую возрастную категорию."
      ]
    },
    {
      "cell_type": "markdown",
      "metadata": {
        "id": "8exLs3G47F7v"
      },
      "source": [
        "## План работы\n",
        "1. [Общая информация](#info)\n",
        "2. [Предобработка данных](#preprocessing)\n",
        "    - [Замена названий столбцов](#columns)\n",
        "    - [Приведение данных к нужному типу](#datatype)\n",
        "    - [Обработка пропусков](#misseddata)\n",
        "    - [Суммарные продажи во всех регионах](#totalsales)\n",
        "3. [Исследовательский анализ данных](#dataanalysis)\n",
        "4. [Портрет пользователя каждого региона](#region)\n",
        "    - [Самые популярные платформы (топ-5). Опишите различия в долях продаж.](#top5platforms)\n",
        "    - [Самые популярные жанры (топ-5). Поясните разницу.](#top5genres)\n",
        "    - [Влияет ли рейтинг ESRB на продажи в отдельном регионе?](#rating)\n",
        "5. [Проверка гипотез](#hypotheses)\n",
        "    - [Средние пользовательские рейтинги платформ Xbox One и PC одинаковые;](#platform_user_score)\n",
        "    - [Средние пользовательские рейтинги жанров Action (англ. «действие», экшен-игры) и Sports (англ. «спортивные соревнования») разные.](#genre_user_score)\n",
        "6. [Общий вывод](#conclusion)"
      ]
    },
    {
      "cell_type": "code",
      "metadata": {
        "id": "iH3CGnxW7F7x"
      },
      "source": [
        "import pandas as pd\n",
        "import numpy as np\n",
        "import matplotlib.pyplot as plt\n",
        "from scipy import stats as st\n",
        "from datetime import datetime\n",
        "import seaborn as sns"
      ],
      "execution_count": null,
      "outputs": []
    },
    {
      "cell_type": "markdown",
      "metadata": {
        "id": "Rky8oNgU7F7z"
      },
      "source": [
        "## 1. Общая информация о данных\n",
        "<a id=\"info\"></a>"
      ]
    },
    {
      "cell_type": "markdown",
      "metadata": {
        "id": "6OWoB7dz7F70"
      },
      "source": [
        "Откроем данные и изучим о них общую информацию. "
      ]
    },
    {
      "cell_type": "code",
      "metadata": {
        "id": "cUA2pwId7F71"
      },
      "source": [
        "data = pd.read_csv('/datasets/games.csv')"
      ],
      "execution_count": null,
      "outputs": []
    },
    {
      "cell_type": "code",
      "metadata": {
        "id": "ckav0cEi7F72",
        "outputId": "5b8cb809-e37d-4635-8dcd-0b29289115e3"
      },
      "source": [
        "data.info()"
      ],
      "execution_count": null,
      "outputs": [
        {
          "output_type": "stream",
          "text": [
            "<class 'pandas.core.frame.DataFrame'>\n",
            "RangeIndex: 16715 entries, 0 to 16714\n",
            "Data columns (total 11 columns):\n",
            "Name               16713 non-null object\n",
            "Platform           16715 non-null object\n",
            "Year_of_Release    16446 non-null float64\n",
            "Genre              16713 non-null object\n",
            "NA_sales           16715 non-null float64\n",
            "EU_sales           16715 non-null float64\n",
            "JP_sales           16715 non-null float64\n",
            "Other_sales        16715 non-null float64\n",
            "Critic_Score       8137 non-null float64\n",
            "User_Score         10014 non-null object\n",
            "Rating             9949 non-null object\n",
            "dtypes: float64(6), object(5)\n",
            "memory usage: 1.4+ MB\n"
          ],
          "name": "stdout"
        }
      ]
    },
    {
      "cell_type": "code",
      "metadata": {
        "id": "45PNpM-a7F74",
        "outputId": "e0e62f60-6126-432d-c245-fc23cd7a3b72"
      },
      "source": [
        "data.head(10)"
      ],
      "execution_count": null,
      "outputs": [
        {
          "output_type": "execute_result",
          "data": {
            "text/html": [
              "<div>\n",
              "<style scoped>\n",
              "    .dataframe tbody tr th:only-of-type {\n",
              "        vertical-align: middle;\n",
              "    }\n",
              "\n",
              "    .dataframe tbody tr th {\n",
              "        vertical-align: top;\n",
              "    }\n",
              "\n",
              "    .dataframe thead th {\n",
              "        text-align: right;\n",
              "    }\n",
              "</style>\n",
              "<table border=\"1\" class=\"dataframe\">\n",
              "  <thead>\n",
              "    <tr style=\"text-align: right;\">\n",
              "      <th></th>\n",
              "      <th>Name</th>\n",
              "      <th>Platform</th>\n",
              "      <th>Year_of_Release</th>\n",
              "      <th>Genre</th>\n",
              "      <th>NA_sales</th>\n",
              "      <th>EU_sales</th>\n",
              "      <th>JP_sales</th>\n",
              "      <th>Other_sales</th>\n",
              "      <th>Critic_Score</th>\n",
              "      <th>User_Score</th>\n",
              "      <th>Rating</th>\n",
              "    </tr>\n",
              "  </thead>\n",
              "  <tbody>\n",
              "    <tr>\n",
              "      <td>0</td>\n",
              "      <td>Wii Sports</td>\n",
              "      <td>Wii</td>\n",
              "      <td>2006.0</td>\n",
              "      <td>Sports</td>\n",
              "      <td>41.36</td>\n",
              "      <td>28.96</td>\n",
              "      <td>3.77</td>\n",
              "      <td>8.45</td>\n",
              "      <td>76.0</td>\n",
              "      <td>8</td>\n",
              "      <td>E</td>\n",
              "    </tr>\n",
              "    <tr>\n",
              "      <td>1</td>\n",
              "      <td>Super Mario Bros.</td>\n",
              "      <td>NES</td>\n",
              "      <td>1985.0</td>\n",
              "      <td>Platform</td>\n",
              "      <td>29.08</td>\n",
              "      <td>3.58</td>\n",
              "      <td>6.81</td>\n",
              "      <td>0.77</td>\n",
              "      <td>NaN</td>\n",
              "      <td>NaN</td>\n",
              "      <td>NaN</td>\n",
              "    </tr>\n",
              "    <tr>\n",
              "      <td>2</td>\n",
              "      <td>Mario Kart Wii</td>\n",
              "      <td>Wii</td>\n",
              "      <td>2008.0</td>\n",
              "      <td>Racing</td>\n",
              "      <td>15.68</td>\n",
              "      <td>12.76</td>\n",
              "      <td>3.79</td>\n",
              "      <td>3.29</td>\n",
              "      <td>82.0</td>\n",
              "      <td>8.3</td>\n",
              "      <td>E</td>\n",
              "    </tr>\n",
              "    <tr>\n",
              "      <td>3</td>\n",
              "      <td>Wii Sports Resort</td>\n",
              "      <td>Wii</td>\n",
              "      <td>2009.0</td>\n",
              "      <td>Sports</td>\n",
              "      <td>15.61</td>\n",
              "      <td>10.93</td>\n",
              "      <td>3.28</td>\n",
              "      <td>2.95</td>\n",
              "      <td>80.0</td>\n",
              "      <td>8</td>\n",
              "      <td>E</td>\n",
              "    </tr>\n",
              "    <tr>\n",
              "      <td>4</td>\n",
              "      <td>Pokemon Red/Pokemon Blue</td>\n",
              "      <td>GB</td>\n",
              "      <td>1996.0</td>\n",
              "      <td>Role-Playing</td>\n",
              "      <td>11.27</td>\n",
              "      <td>8.89</td>\n",
              "      <td>10.22</td>\n",
              "      <td>1.00</td>\n",
              "      <td>NaN</td>\n",
              "      <td>NaN</td>\n",
              "      <td>NaN</td>\n",
              "    </tr>\n",
              "    <tr>\n",
              "      <td>5</td>\n",
              "      <td>Tetris</td>\n",
              "      <td>GB</td>\n",
              "      <td>1989.0</td>\n",
              "      <td>Puzzle</td>\n",
              "      <td>23.20</td>\n",
              "      <td>2.26</td>\n",
              "      <td>4.22</td>\n",
              "      <td>0.58</td>\n",
              "      <td>NaN</td>\n",
              "      <td>NaN</td>\n",
              "      <td>NaN</td>\n",
              "    </tr>\n",
              "    <tr>\n",
              "      <td>6</td>\n",
              "      <td>New Super Mario Bros.</td>\n",
              "      <td>DS</td>\n",
              "      <td>2006.0</td>\n",
              "      <td>Platform</td>\n",
              "      <td>11.28</td>\n",
              "      <td>9.14</td>\n",
              "      <td>6.50</td>\n",
              "      <td>2.88</td>\n",
              "      <td>89.0</td>\n",
              "      <td>8.5</td>\n",
              "      <td>E</td>\n",
              "    </tr>\n",
              "    <tr>\n",
              "      <td>7</td>\n",
              "      <td>Wii Play</td>\n",
              "      <td>Wii</td>\n",
              "      <td>2006.0</td>\n",
              "      <td>Misc</td>\n",
              "      <td>13.96</td>\n",
              "      <td>9.18</td>\n",
              "      <td>2.93</td>\n",
              "      <td>2.84</td>\n",
              "      <td>58.0</td>\n",
              "      <td>6.6</td>\n",
              "      <td>E</td>\n",
              "    </tr>\n",
              "    <tr>\n",
              "      <td>8</td>\n",
              "      <td>New Super Mario Bros. Wii</td>\n",
              "      <td>Wii</td>\n",
              "      <td>2009.0</td>\n",
              "      <td>Platform</td>\n",
              "      <td>14.44</td>\n",
              "      <td>6.94</td>\n",
              "      <td>4.70</td>\n",
              "      <td>2.24</td>\n",
              "      <td>87.0</td>\n",
              "      <td>8.4</td>\n",
              "      <td>E</td>\n",
              "    </tr>\n",
              "    <tr>\n",
              "      <td>9</td>\n",
              "      <td>Duck Hunt</td>\n",
              "      <td>NES</td>\n",
              "      <td>1984.0</td>\n",
              "      <td>Shooter</td>\n",
              "      <td>26.93</td>\n",
              "      <td>0.63</td>\n",
              "      <td>0.28</td>\n",
              "      <td>0.47</td>\n",
              "      <td>NaN</td>\n",
              "      <td>NaN</td>\n",
              "      <td>NaN</td>\n",
              "    </tr>\n",
              "  </tbody>\n",
              "</table>\n",
              "</div>"
            ],
            "text/plain": [
              "                        Name Platform  Year_of_Release         Genre  \\\n",
              "0                 Wii Sports      Wii           2006.0        Sports   \n",
              "1          Super Mario Bros.      NES           1985.0      Platform   \n",
              "2             Mario Kart Wii      Wii           2008.0        Racing   \n",
              "3          Wii Sports Resort      Wii           2009.0        Sports   \n",
              "4   Pokemon Red/Pokemon Blue       GB           1996.0  Role-Playing   \n",
              "5                     Tetris       GB           1989.0        Puzzle   \n",
              "6      New Super Mario Bros.       DS           2006.0      Platform   \n",
              "7                   Wii Play      Wii           2006.0          Misc   \n",
              "8  New Super Mario Bros. Wii      Wii           2009.0      Platform   \n",
              "9                  Duck Hunt      NES           1984.0       Shooter   \n",
              "\n",
              "   NA_sales  EU_sales  JP_sales  Other_sales  Critic_Score User_Score Rating  \n",
              "0     41.36     28.96      3.77         8.45          76.0          8      E  \n",
              "1     29.08      3.58      6.81         0.77           NaN        NaN    NaN  \n",
              "2     15.68     12.76      3.79         3.29          82.0        8.3      E  \n",
              "3     15.61     10.93      3.28         2.95          80.0          8      E  \n",
              "4     11.27      8.89     10.22         1.00           NaN        NaN    NaN  \n",
              "5     23.20      2.26      4.22         0.58           NaN        NaN    NaN  \n",
              "6     11.28      9.14      6.50         2.88          89.0        8.5      E  \n",
              "7     13.96      9.18      2.93         2.84          58.0        6.6      E  \n",
              "8     14.44      6.94      4.70         2.24          87.0        8.4      E  \n",
              "9     26.93      0.63      0.28         0.47           NaN        NaN    NaN  "
            ]
          },
          "metadata": {
            "tags": []
          },
          "execution_count": 4
        }
      ]
    },
    {
      "cell_type": "markdown",
      "metadata": {
        "id": "t8R7bzm-7F75"
      },
      "source": [
        "### Вывод:\n",
        "В первом блоке нашего исследования изучили информацию о представленных данных. Нам дана таблица с информацией о выпущенных играх, игровых платформах, годах производста, жанрах, их продажах в Северной Америке, Европе и Японии, а также информацией об оценке пользователей и критиков и рейтинге игр. Замечаем, что в данных присутствуют пропуски, также необходимо заменить тип некоторых данных. Все столбцы написаны с заглавной буквы, что усложнит впоследствие обращение к определенным столбцам, удобнее будет привести названия к нижнему регистру. В следующем разделе проведем предобработку данных. Затем на основе имеющихся данных проведем исследование и постараемся выявить определяющие успешность игры закономерности."
      ]
    },
    {
      "cell_type": "markdown",
      "metadata": {
        "id": "U63lRO7y7F77"
      },
      "source": [
        "## 2. Преодобработка данных\n",
        "<a id=\"preprocessing\"></a>"
      ]
    },
    {
      "cell_type": "markdown",
      "metadata": {
        "id": "luYDxri-7F78"
      },
      "source": [
        "Приведем названия столбцов к нижнему регистру, чтобы впоследствие было удобнее к ним обращаться.\n",
        "<a id=\"columns\"></a>"
      ]
    },
    {
      "cell_type": "code",
      "metadata": {
        "id": "I5Sq5ovp7F79"
      },
      "source": [
        "data.columns = data.columns.str.lower()"
      ],
      "execution_count": null,
      "outputs": []
    },
    {
      "cell_type": "code",
      "metadata": {
        "id": "1povsb-47F79",
        "outputId": "485d0f34-a08f-4570-8a66-66e2d7d87d3b"
      },
      "source": [
        "data.columns"
      ],
      "execution_count": null,
      "outputs": [
        {
          "output_type": "execute_result",
          "data": {
            "text/plain": [
              "Index(['name', 'platform', 'year_of_release', 'genre', 'na_sales', 'eu_sales',\n",
              "       'jp_sales', 'other_sales', 'critic_score', 'user_score', 'rating'],\n",
              "      dtype='object')"
            ]
          },
          "metadata": {
            "tags": []
          },
          "execution_count": 6
        }
      ]
    },
    {
      "cell_type": "markdown",
      "metadata": {
        "id": "zq4fI3Dh7F7-"
      },
      "source": [
        "Приведем данные к нужному типу\n",
        "<a id=\"datatype\"></a>"
      ]
    },
    {
      "cell_type": "code",
      "metadata": {
        "id": "ovXqx0Dz7F7_",
        "outputId": "8d8d5532-4035-4b98-d39d-b29424ba3675"
      },
      "source": [
        "data['year_of_release'] = pd.to_datetime(data['year_of_release'], format='%Y').astype('datetime64[Y]')\n",
        "data.info()\n",
        "                                        "
      ],
      "execution_count": null,
      "outputs": [
        {
          "output_type": "stream",
          "text": [
            "<class 'pandas.core.frame.DataFrame'>\n",
            "RangeIndex: 16715 entries, 0 to 16714\n",
            "Data columns (total 11 columns):\n",
            "name               16713 non-null object\n",
            "platform           16715 non-null object\n",
            "year_of_release    16446 non-null datetime64[ns]\n",
            "genre              16713 non-null object\n",
            "na_sales           16715 non-null float64\n",
            "eu_sales           16715 non-null float64\n",
            "jp_sales           16715 non-null float64\n",
            "other_sales        16715 non-null float64\n",
            "critic_score       8137 non-null float64\n",
            "user_score         10014 non-null object\n",
            "rating             9949 non-null object\n",
            "dtypes: datetime64[ns](1), float64(5), object(5)\n",
            "memory usage: 1.4+ MB\n"
          ],
          "name": "stdout"
        }
      ]
    },
    {
      "cell_type": "code",
      "metadata": {
        "id": "8ol6Tmqv7F8A"
      },
      "source": [
        "data['year_of_release'] = data['year_of_release'].dt.year"
      ],
      "execution_count": null,
      "outputs": []
    },
    {
      "cell_type": "code",
      "metadata": {
        "scrolled": true,
        "id": "CVYyDLwi7F8A",
        "outputId": "1b46ad98-e39d-4dac-87ce-b92a7d158ed2"
      },
      "source": [
        "data.head()"
      ],
      "execution_count": null,
      "outputs": [
        {
          "output_type": "execute_result",
          "data": {
            "text/html": [
              "<div>\n",
              "<style scoped>\n",
              "    .dataframe tbody tr th:only-of-type {\n",
              "        vertical-align: middle;\n",
              "    }\n",
              "\n",
              "    .dataframe tbody tr th {\n",
              "        vertical-align: top;\n",
              "    }\n",
              "\n",
              "    .dataframe thead th {\n",
              "        text-align: right;\n",
              "    }\n",
              "</style>\n",
              "<table border=\"1\" class=\"dataframe\">\n",
              "  <thead>\n",
              "    <tr style=\"text-align: right;\">\n",
              "      <th></th>\n",
              "      <th>name</th>\n",
              "      <th>platform</th>\n",
              "      <th>year_of_release</th>\n",
              "      <th>genre</th>\n",
              "      <th>na_sales</th>\n",
              "      <th>eu_sales</th>\n",
              "      <th>jp_sales</th>\n",
              "      <th>other_sales</th>\n",
              "      <th>critic_score</th>\n",
              "      <th>user_score</th>\n",
              "      <th>rating</th>\n",
              "    </tr>\n",
              "  </thead>\n",
              "  <tbody>\n",
              "    <tr>\n",
              "      <td>0</td>\n",
              "      <td>Wii Sports</td>\n",
              "      <td>Wii</td>\n",
              "      <td>2006.0</td>\n",
              "      <td>Sports</td>\n",
              "      <td>41.36</td>\n",
              "      <td>28.96</td>\n",
              "      <td>3.77</td>\n",
              "      <td>8.45</td>\n",
              "      <td>76.0</td>\n",
              "      <td>8</td>\n",
              "      <td>E</td>\n",
              "    </tr>\n",
              "    <tr>\n",
              "      <td>1</td>\n",
              "      <td>Super Mario Bros.</td>\n",
              "      <td>NES</td>\n",
              "      <td>1985.0</td>\n",
              "      <td>Platform</td>\n",
              "      <td>29.08</td>\n",
              "      <td>3.58</td>\n",
              "      <td>6.81</td>\n",
              "      <td>0.77</td>\n",
              "      <td>NaN</td>\n",
              "      <td>NaN</td>\n",
              "      <td>NaN</td>\n",
              "    </tr>\n",
              "    <tr>\n",
              "      <td>2</td>\n",
              "      <td>Mario Kart Wii</td>\n",
              "      <td>Wii</td>\n",
              "      <td>2008.0</td>\n",
              "      <td>Racing</td>\n",
              "      <td>15.68</td>\n",
              "      <td>12.76</td>\n",
              "      <td>3.79</td>\n",
              "      <td>3.29</td>\n",
              "      <td>82.0</td>\n",
              "      <td>8.3</td>\n",
              "      <td>E</td>\n",
              "    </tr>\n",
              "    <tr>\n",
              "      <td>3</td>\n",
              "      <td>Wii Sports Resort</td>\n",
              "      <td>Wii</td>\n",
              "      <td>2009.0</td>\n",
              "      <td>Sports</td>\n",
              "      <td>15.61</td>\n",
              "      <td>10.93</td>\n",
              "      <td>3.28</td>\n",
              "      <td>2.95</td>\n",
              "      <td>80.0</td>\n",
              "      <td>8</td>\n",
              "      <td>E</td>\n",
              "    </tr>\n",
              "    <tr>\n",
              "      <td>4</td>\n",
              "      <td>Pokemon Red/Pokemon Blue</td>\n",
              "      <td>GB</td>\n",
              "      <td>1996.0</td>\n",
              "      <td>Role-Playing</td>\n",
              "      <td>11.27</td>\n",
              "      <td>8.89</td>\n",
              "      <td>10.22</td>\n",
              "      <td>1.00</td>\n",
              "      <td>NaN</td>\n",
              "      <td>NaN</td>\n",
              "      <td>NaN</td>\n",
              "    </tr>\n",
              "  </tbody>\n",
              "</table>\n",
              "</div>"
            ],
            "text/plain": [
              "                       name platform  year_of_release         genre  na_sales  \\\n",
              "0                Wii Sports      Wii           2006.0        Sports     41.36   \n",
              "1         Super Mario Bros.      NES           1985.0      Platform     29.08   \n",
              "2            Mario Kart Wii      Wii           2008.0        Racing     15.68   \n",
              "3         Wii Sports Resort      Wii           2009.0        Sports     15.61   \n",
              "4  Pokemon Red/Pokemon Blue       GB           1996.0  Role-Playing     11.27   \n",
              "\n",
              "   eu_sales  jp_sales  other_sales  critic_score user_score rating  \n",
              "0     28.96      3.77         8.45          76.0          8      E  \n",
              "1      3.58      6.81         0.77           NaN        NaN    NaN  \n",
              "2     12.76      3.79         3.29          82.0        8.3      E  \n",
              "3     10.93      3.28         2.95          80.0          8      E  \n",
              "4      8.89     10.22         1.00           NaN        NaN    NaN  "
            ]
          },
          "metadata": {
            "tags": []
          },
          "execution_count": 9
        }
      ]
    },
    {
      "cell_type": "markdown",
      "metadata": {
        "id": "6mb4w_sw7F8B"
      },
      "source": [
        "столбец `user_score` имеет тип вещественный тип данных. Заменим на числовой."
      ]
    },
    {
      "cell_type": "markdown",
      "metadata": {
        "id": "1OG_yKJc7F8C"
      },
      "source": [
        "При попытке заменить методом astype тип на числовой, вылезает ошибка. Посмотрим на уникальные значения этого столбца"
      ]
    },
    {
      "cell_type": "code",
      "metadata": {
        "id": "bUUJDtie7F8D",
        "outputId": "8bcd685a-8826-4bf1-bb8e-b868184fa7e0"
      },
      "source": [
        "data['user_score'].unique()"
      ],
      "execution_count": null,
      "outputs": [
        {
          "output_type": "execute_result",
          "data": {
            "text/plain": [
              "array(['8', nan, '8.3', '8.5', '6.6', '8.4', '8.6', '7.7', '6.3', '7.4',\n",
              "       '8.2', '9', '7.9', '8.1', '8.7', '7.1', '3.4', '5.3', '4.8', '3.2',\n",
              "       '8.9', '6.4', '7.8', '7.5', '2.6', '7.2', '9.2', '7', '7.3', '4.3',\n",
              "       '7.6', '5.7', '5', '9.1', '6.5', 'tbd', '8.8', '6.9', '9.4', '6.8',\n",
              "       '6.1', '6.7', '5.4', '4', '4.9', '4.5', '9.3', '6.2', '4.2', '6',\n",
              "       '3.7', '4.1', '5.8', '5.6', '5.5', '4.4', '4.6', '5.9', '3.9',\n",
              "       '3.1', '2.9', '5.2', '3.3', '4.7', '5.1', '3.5', '2.5', '1.9', '3',\n",
              "       '2.7', '2.2', '2', '9.5', '2.1', '3.6', '2.8', '1.8', '3.8', '0',\n",
              "       '1.6', '9.6', '2.4', '1.7', '1.1', '0.3', '1.5', '0.7', '1.2',\n",
              "       '2.3', '0.5', '1.3', '0.2', '0.6', '1.4', '0.9', '1', '9.7'],\n",
              "      dtype=object)"
            ]
          },
          "metadata": {
            "tags": []
          },
          "execution_count": 10
        }
      ]
    },
    {
      "cell_type": "markdown",
      "metadata": {
        "id": "ACD7N2L67F8D"
      },
      "source": [
        "Среди чисел видим аббревиатуру tbd. Так как заменить эти данные мы ничем не сможем, заменим их на nan"
      ]
    },
    {
      "cell_type": "code",
      "metadata": {
        "id": "ZedzwZx27F8E"
      },
      "source": [
        "data.loc[data['user_score'] == 'tbd', 'user_score'] = np.nan"
      ],
      "execution_count": null,
      "outputs": []
    },
    {
      "cell_type": "code",
      "metadata": {
        "id": "5IGC6T3A7F8P"
      },
      "source": [
        "data['user_score'] = data['user_score'].astype('float')"
      ],
      "execution_count": null,
      "outputs": []
    },
    {
      "cell_type": "code",
      "metadata": {
        "id": "_7gAyq2A7F8Q",
        "outputId": "5d412421-5976-4cd6-87e3-f1631751a201"
      },
      "source": [
        "data.info()"
      ],
      "execution_count": null,
      "outputs": [
        {
          "output_type": "stream",
          "text": [
            "<class 'pandas.core.frame.DataFrame'>\n",
            "RangeIndex: 16715 entries, 0 to 16714\n",
            "Data columns (total 11 columns):\n",
            "name               16713 non-null object\n",
            "platform           16715 non-null object\n",
            "year_of_release    16446 non-null float64\n",
            "genre              16713 non-null object\n",
            "na_sales           16715 non-null float64\n",
            "eu_sales           16715 non-null float64\n",
            "jp_sales           16715 non-null float64\n",
            "other_sales        16715 non-null float64\n",
            "critic_score       8137 non-null float64\n",
            "user_score         7590 non-null float64\n",
            "rating             9949 non-null object\n",
            "dtypes: float64(7), object(4)\n",
            "memory usage: 1.4+ MB\n"
          ],
          "name": "stdout"
        }
      ]
    },
    {
      "cell_type": "markdown",
      "metadata": {
        "id": "xc6U4vkt7F8Q"
      },
      "source": [
        "Обработаем пропуски\n",
        "<a id=\"misseddata\"></a>"
      ]
    },
    {
      "cell_type": "code",
      "metadata": {
        "id": "omWXNIsN7F8R",
        "outputId": "2b92adc1-ea39-42a1-97af-37ae62a87330"
      },
      "source": [
        "data.isnull().sum()"
      ],
      "execution_count": null,
      "outputs": [
        {
          "output_type": "execute_result",
          "data": {
            "text/plain": [
              "name                  2\n",
              "platform              0\n",
              "year_of_release     269\n",
              "genre                 2\n",
              "na_sales              0\n",
              "eu_sales              0\n",
              "jp_sales              0\n",
              "other_sales           0\n",
              "critic_score       8578\n",
              "user_score         9125\n",
              "rating             6766\n",
              "dtype: int64"
            ]
          },
          "metadata": {
            "tags": []
          },
          "execution_count": 14
        }
      ]
    },
    {
      "cell_type": "code",
      "metadata": {
        "id": "NKNrvxKa7F8S",
        "outputId": "60895638-f450-4b72-85c2-741500a446e3"
      },
      "source": [
        "data['critic_score'].unique()"
      ],
      "execution_count": null,
      "outputs": [
        {
          "output_type": "execute_result",
          "data": {
            "text/plain": [
              "array([76., nan, 82., 80., 89., 58., 87., 91., 61., 97., 95., 77., 88.,\n",
              "       83., 94., 93., 85., 86., 98., 96., 90., 84., 73., 74., 78., 92.,\n",
              "       71., 72., 68., 62., 49., 67., 81., 66., 56., 79., 70., 59., 64.,\n",
              "       75., 60., 63., 69., 50., 25., 42., 44., 55., 48., 57., 29., 47.,\n",
              "       65., 54., 20., 53., 37., 38., 33., 52., 30., 32., 43., 45., 51.,\n",
              "       40., 46., 39., 34., 35., 41., 36., 28., 31., 27., 26., 19., 23.,\n",
              "       24., 21., 17., 22., 13.])"
            ]
          },
          "metadata": {
            "tags": []
          },
          "execution_count": 15
        }
      ]
    },
    {
      "cell_type": "code",
      "metadata": {
        "id": "LDiIOI3g7F8T",
        "outputId": "176ceaee-252b-4166-ef72-f0dbc111dbd4"
      },
      "source": [
        "data['user_score'].unique()"
      ],
      "execution_count": null,
      "outputs": [
        {
          "output_type": "execute_result",
          "data": {
            "text/plain": [
              "array([8. , nan, 8.3, 8.5, 6.6, 8.4, 8.6, 7.7, 6.3, 7.4, 8.2, 9. , 7.9,\n",
              "       8.1, 8.7, 7.1, 3.4, 5.3, 4.8, 3.2, 8.9, 6.4, 7.8, 7.5, 2.6, 7.2,\n",
              "       9.2, 7. , 7.3, 4.3, 7.6, 5.7, 5. , 9.1, 6.5, 8.8, 6.9, 9.4, 6.8,\n",
              "       6.1, 6.7, 5.4, 4. , 4.9, 4.5, 9.3, 6.2, 4.2, 6. , 3.7, 4.1, 5.8,\n",
              "       5.6, 5.5, 4.4, 4.6, 5.9, 3.9, 3.1, 2.9, 5.2, 3.3, 4.7, 5.1, 3.5,\n",
              "       2.5, 1.9, 3. , 2.7, 2.2, 2. , 9.5, 2.1, 3.6, 2.8, 1.8, 3.8, 0. ,\n",
              "       1.6, 9.6, 2.4, 1.7, 1.1, 0.3, 1.5, 0.7, 1.2, 2.3, 0.5, 1.3, 0.2,\n",
              "       0.6, 1.4, 0.9, 1. , 9.7])"
            ]
          },
          "metadata": {
            "tags": []
          },
          "execution_count": 16
        }
      ]
    },
    {
      "cell_type": "markdown",
      "metadata": {
        "id": "3cyeiAea7F8U"
      },
      "source": [
        "Заменим пропуски в столбцах `user_score` и `critic_score` значениями, которых нет в данных. Например \"-1\". Нулями не заполняем, чтобы не смешались с реальным рейтингом равным нулю."
      ]
    },
    {
      "cell_type": "code",
      "metadata": {
        "id": "PyMRtAvK7F8U"
      },
      "source": [
        "#data['critic_score'] = data['critic_score'].fillna(-1)\n",
        "#data['user_score'] = data['user_score'].fillna(-1)"
      ],
      "execution_count": null,
      "outputs": []
    },
    {
      "cell_type": "code",
      "metadata": {
        "scrolled": true,
        "id": "WAG2eDae7F8W",
        "outputId": "7ed26989-8b51-4193-c18d-ee19999fa878"
      },
      "source": [
        "data.isnull().sum()"
      ],
      "execution_count": null,
      "outputs": [
        {
          "output_type": "execute_result",
          "data": {
            "text/plain": [
              "name                  2\n",
              "platform              0\n",
              "year_of_release     269\n",
              "genre                 2\n",
              "na_sales              0\n",
              "eu_sales              0\n",
              "jp_sales              0\n",
              "other_sales           0\n",
              "critic_score       8578\n",
              "user_score         9125\n",
              "rating             6766\n",
              "dtype: int64"
            ]
          },
          "metadata": {
            "tags": []
          },
          "execution_count": 18
        }
      ]
    },
    {
      "cell_type": "code",
      "metadata": {
        "id": "Auyi0bnA7F8Y",
        "outputId": "4827b138-e2f9-498a-b65d-59454c391f3e"
      },
      "source": [
        "data['rating'].unique()"
      ],
      "execution_count": null,
      "outputs": [
        {
          "output_type": "execute_result",
          "data": {
            "text/plain": [
              "array(['E', nan, 'M', 'T', 'E10+', 'K-A', 'AO', 'EC', 'RP'], dtype=object)"
            ]
          },
          "metadata": {
            "tags": []
          },
          "execution_count": 19
        }
      ]
    },
    {
      "cell_type": "code",
      "metadata": {
        "id": "Wj8F0bLH7F8Y"
      },
      "source": [
        "data['rating'] = data['rating'].fillna('Unknown')"
      ],
      "execution_count": null,
      "outputs": []
    },
    {
      "cell_type": "code",
      "metadata": {
        "scrolled": true,
        "id": "9g-U3KR47F8Z",
        "outputId": "27f17cd5-371e-448d-e1d3-67b83740b4df"
      },
      "source": [
        "data.isnull().sum()"
      ],
      "execution_count": null,
      "outputs": [
        {
          "output_type": "execute_result",
          "data": {
            "text/plain": [
              "name                  2\n",
              "platform              0\n",
              "year_of_release     269\n",
              "genre                 2\n",
              "na_sales              0\n",
              "eu_sales              0\n",
              "jp_sales              0\n",
              "other_sales           0\n",
              "critic_score       8578\n",
              "user_score         9125\n",
              "rating                0\n",
              "dtype: int64"
            ]
          },
          "metadata": {
            "tags": []
          },
          "execution_count": 21
        }
      ]
    },
    {
      "cell_type": "markdown",
      "metadata": {
        "id": "97NM0LXY7F8c"
      },
      "source": [
        "Что касается пропусков в столбцах `name` и `genre`, то их всего по два в каждом столбце. Это очень маленькое значение. Можно было бы удалить эти строки вообще, но я считаю, что если мы их оставим, на исследовании они никак не повлияют. Плюс, ниже видим, что в этих строчках вообще мало полезных для исследования данных. На счет года выпуска, этих строчек 269, что также составляет очень малую долю от всех данных. Заполнить эти пропуски какими-либо реалистичными данными мы не можем, поэтому оставим так, как есть.\n",
        "    \n",
        "Значительное количество пропусков в таких столбцах, как `user_score`, `critic_score` и `rating` могли возникнуть вследствие ошибки при вводе данных или из-за непопулярности игр и изначальном отсутствии у них этих данных."
      ]
    },
    {
      "cell_type": "code",
      "metadata": {
        "id": "dKbkFKVg7F8e",
        "outputId": "a8c8cfa1-494e-4269-b5bd-35c7bab8ff36"
      },
      "source": [
        "data.loc[data['genre'].isnull()]"
      ],
      "execution_count": null,
      "outputs": [
        {
          "output_type": "execute_result",
          "data": {
            "text/html": [
              "<div>\n",
              "<style scoped>\n",
              "    .dataframe tbody tr th:only-of-type {\n",
              "        vertical-align: middle;\n",
              "    }\n",
              "\n",
              "    .dataframe tbody tr th {\n",
              "        vertical-align: top;\n",
              "    }\n",
              "\n",
              "    .dataframe thead th {\n",
              "        text-align: right;\n",
              "    }\n",
              "</style>\n",
              "<table border=\"1\" class=\"dataframe\">\n",
              "  <thead>\n",
              "    <tr style=\"text-align: right;\">\n",
              "      <th></th>\n",
              "      <th>name</th>\n",
              "      <th>platform</th>\n",
              "      <th>year_of_release</th>\n",
              "      <th>genre</th>\n",
              "      <th>na_sales</th>\n",
              "      <th>eu_sales</th>\n",
              "      <th>jp_sales</th>\n",
              "      <th>other_sales</th>\n",
              "      <th>critic_score</th>\n",
              "      <th>user_score</th>\n",
              "      <th>rating</th>\n",
              "    </tr>\n",
              "  </thead>\n",
              "  <tbody>\n",
              "    <tr>\n",
              "      <td>659</td>\n",
              "      <td>NaN</td>\n",
              "      <td>GEN</td>\n",
              "      <td>1993.0</td>\n",
              "      <td>NaN</td>\n",
              "      <td>1.78</td>\n",
              "      <td>0.53</td>\n",
              "      <td>0.00</td>\n",
              "      <td>0.08</td>\n",
              "      <td>NaN</td>\n",
              "      <td>NaN</td>\n",
              "      <td>Unknown</td>\n",
              "    </tr>\n",
              "    <tr>\n",
              "      <td>14244</td>\n",
              "      <td>NaN</td>\n",
              "      <td>GEN</td>\n",
              "      <td>1993.0</td>\n",
              "      <td>NaN</td>\n",
              "      <td>0.00</td>\n",
              "      <td>0.00</td>\n",
              "      <td>0.03</td>\n",
              "      <td>0.00</td>\n",
              "      <td>NaN</td>\n",
              "      <td>NaN</td>\n",
              "      <td>Unknown</td>\n",
              "    </tr>\n",
              "  </tbody>\n",
              "</table>\n",
              "</div>"
            ],
            "text/plain": [
              "      name platform  year_of_release genre  na_sales  eu_sales  jp_sales  \\\n",
              "659    NaN      GEN           1993.0   NaN      1.78      0.53      0.00   \n",
              "14244  NaN      GEN           1993.0   NaN      0.00      0.00      0.03   \n",
              "\n",
              "       other_sales  critic_score  user_score   rating  \n",
              "659           0.08           NaN         NaN  Unknown  \n",
              "14244         0.00           NaN         NaN  Unknown  "
            ]
          },
          "metadata": {
            "tags": []
          },
          "execution_count": 22
        }
      ]
    },
    {
      "cell_type": "code",
      "metadata": {
        "id": "dcl2K-NU7F8f",
        "outputId": "88b625c3-21dc-4768-a5ca-0b3ef918171b"
      },
      "source": [
        "len(data.loc[data['year_of_release'].isnull().sum()]) / len(data)"
      ],
      "execution_count": null,
      "outputs": [
        {
          "output_type": "execute_result",
          "data": {
            "text/plain": [
              "0.0006580915345498055"
            ]
          },
          "metadata": {
            "tags": []
          },
          "execution_count": 23
        }
      ]
    },
    {
      "cell_type": "markdown",
      "metadata": {
        "id": "mGDfnkia7F8g"
      },
      "source": [
        "Посчитаем суммарные продажи во всех регионах и выведем в отдельный столбец\n",
        "<a id=\"totalsales\"></a>"
      ]
    },
    {
      "cell_type": "code",
      "metadata": {
        "id": "xXoAntdb7F8g"
      },
      "source": [
        "data['total_sales'] = data['na_sales'] + data['eu_sales'] + data['jp_sales'] + data['other_sales']"
      ],
      "execution_count": null,
      "outputs": []
    },
    {
      "cell_type": "code",
      "metadata": {
        "id": "IeHBTQwq7F8h",
        "outputId": "86f5e9ea-f2f1-4ab4-dd0a-af29fa68c2f8"
      },
      "source": [
        "data.head()"
      ],
      "execution_count": null,
      "outputs": [
        {
          "output_type": "execute_result",
          "data": {
            "text/html": [
              "<div>\n",
              "<style scoped>\n",
              "    .dataframe tbody tr th:only-of-type {\n",
              "        vertical-align: middle;\n",
              "    }\n",
              "\n",
              "    .dataframe tbody tr th {\n",
              "        vertical-align: top;\n",
              "    }\n",
              "\n",
              "    .dataframe thead th {\n",
              "        text-align: right;\n",
              "    }\n",
              "</style>\n",
              "<table border=\"1\" class=\"dataframe\">\n",
              "  <thead>\n",
              "    <tr style=\"text-align: right;\">\n",
              "      <th></th>\n",
              "      <th>name</th>\n",
              "      <th>platform</th>\n",
              "      <th>year_of_release</th>\n",
              "      <th>genre</th>\n",
              "      <th>na_sales</th>\n",
              "      <th>eu_sales</th>\n",
              "      <th>jp_sales</th>\n",
              "      <th>other_sales</th>\n",
              "      <th>critic_score</th>\n",
              "      <th>user_score</th>\n",
              "      <th>rating</th>\n",
              "      <th>total_sales</th>\n",
              "    </tr>\n",
              "  </thead>\n",
              "  <tbody>\n",
              "    <tr>\n",
              "      <td>0</td>\n",
              "      <td>Wii Sports</td>\n",
              "      <td>Wii</td>\n",
              "      <td>2006.0</td>\n",
              "      <td>Sports</td>\n",
              "      <td>41.36</td>\n",
              "      <td>28.96</td>\n",
              "      <td>3.77</td>\n",
              "      <td>8.45</td>\n",
              "      <td>76.0</td>\n",
              "      <td>8.0</td>\n",
              "      <td>E</td>\n",
              "      <td>82.54</td>\n",
              "    </tr>\n",
              "    <tr>\n",
              "      <td>1</td>\n",
              "      <td>Super Mario Bros.</td>\n",
              "      <td>NES</td>\n",
              "      <td>1985.0</td>\n",
              "      <td>Platform</td>\n",
              "      <td>29.08</td>\n",
              "      <td>3.58</td>\n",
              "      <td>6.81</td>\n",
              "      <td>0.77</td>\n",
              "      <td>NaN</td>\n",
              "      <td>NaN</td>\n",
              "      <td>Unknown</td>\n",
              "      <td>40.24</td>\n",
              "    </tr>\n",
              "    <tr>\n",
              "      <td>2</td>\n",
              "      <td>Mario Kart Wii</td>\n",
              "      <td>Wii</td>\n",
              "      <td>2008.0</td>\n",
              "      <td>Racing</td>\n",
              "      <td>15.68</td>\n",
              "      <td>12.76</td>\n",
              "      <td>3.79</td>\n",
              "      <td>3.29</td>\n",
              "      <td>82.0</td>\n",
              "      <td>8.3</td>\n",
              "      <td>E</td>\n",
              "      <td>35.52</td>\n",
              "    </tr>\n",
              "    <tr>\n",
              "      <td>3</td>\n",
              "      <td>Wii Sports Resort</td>\n",
              "      <td>Wii</td>\n",
              "      <td>2009.0</td>\n",
              "      <td>Sports</td>\n",
              "      <td>15.61</td>\n",
              "      <td>10.93</td>\n",
              "      <td>3.28</td>\n",
              "      <td>2.95</td>\n",
              "      <td>80.0</td>\n",
              "      <td>8.0</td>\n",
              "      <td>E</td>\n",
              "      <td>32.77</td>\n",
              "    </tr>\n",
              "    <tr>\n",
              "      <td>4</td>\n",
              "      <td>Pokemon Red/Pokemon Blue</td>\n",
              "      <td>GB</td>\n",
              "      <td>1996.0</td>\n",
              "      <td>Role-Playing</td>\n",
              "      <td>11.27</td>\n",
              "      <td>8.89</td>\n",
              "      <td>10.22</td>\n",
              "      <td>1.00</td>\n",
              "      <td>NaN</td>\n",
              "      <td>NaN</td>\n",
              "      <td>Unknown</td>\n",
              "      <td>31.38</td>\n",
              "    </tr>\n",
              "  </tbody>\n",
              "</table>\n",
              "</div>"
            ],
            "text/plain": [
              "                       name platform  year_of_release         genre  na_sales  \\\n",
              "0                Wii Sports      Wii           2006.0        Sports     41.36   \n",
              "1         Super Mario Bros.      NES           1985.0      Platform     29.08   \n",
              "2            Mario Kart Wii      Wii           2008.0        Racing     15.68   \n",
              "3         Wii Sports Resort      Wii           2009.0        Sports     15.61   \n",
              "4  Pokemon Red/Pokemon Blue       GB           1996.0  Role-Playing     11.27   \n",
              "\n",
              "   eu_sales  jp_sales  other_sales  critic_score  user_score   rating  \\\n",
              "0     28.96      3.77         8.45          76.0         8.0        E   \n",
              "1      3.58      6.81         0.77           NaN         NaN  Unknown   \n",
              "2     12.76      3.79         3.29          82.0         8.3        E   \n",
              "3     10.93      3.28         2.95          80.0         8.0        E   \n",
              "4      8.89     10.22         1.00           NaN         NaN  Unknown   \n",
              "\n",
              "   total_sales  \n",
              "0        82.54  \n",
              "1        40.24  \n",
              "2        35.52  \n",
              "3        32.77  \n",
              "4        31.38  "
            ]
          },
          "metadata": {
            "tags": []
          },
          "execution_count": 25
        }
      ]
    },
    {
      "cell_type": "markdown",
      "metadata": {
        "id": "w_QW2gyB7F8i"
      },
      "source": [
        "### Вывод:\n",
        "В данном блоке мы обработали пропуски данных, привели названия столбцов к нижнему регистру, заменили тип некоторых данных. Также добавили столбец с общими суммарными продажами по всем регионам. Теперь приступим к исследовательскому анализу данных."
      ]
    },
    {
      "cell_type": "markdown",
      "metadata": {
        "id": "RSjJc-hP7F8j"
      },
      "source": [
        "## 3. Исследовательский анализ данных\n",
        "<a id=\"dataanalysis\"></a>"
      ]
    },
    {
      "cell_type": "markdown",
      "metadata": {
        "id": "SNU6Ii_f7F8k"
      },
      "source": [
        "Посмотрим, сколько игр выпускалось в разные годы. Важны ли данные за все периоды?"
      ]
    },
    {
      "cell_type": "code",
      "metadata": {
        "id": "odKOb7Rm7F8k",
        "outputId": "db70d6d9-9310-4268-98b7-14a435261dd5"
      },
      "source": [
        "data['year_of_release'].hist() \n",
        "plt.title('Распределение количества выпущенных игр по годам')\n",
        "plt.xlabel('год выпуска')\n",
        "plt.ylabel('количество игр')\n",
        "plt.show()"
      ],
      "execution_count": null,
      "outputs": [
        {
          "output_type": "display_data",
          "data": {
            "image/png": "[encoded data removed]",
            "text/plain": [
              "<Figure size 432x288 with 1 Axes>"
            ]
          },
          "metadata": {
            "tags": [],
            "needs_background": "light"
          }
        }
      ]
    },
    {
      "cell_type": "code",
      "metadata": {
        "id": "zzk0EGBB7F8m",
        "outputId": "5e18ec85-03fd-46bb-ccb5-50c7b9596d2b"
      },
      "source": [
        "data['year_of_release'].value_counts().sort_index()\\\n",
        ".plot(kind='bar', grid=True, figsize=(9,7), color='r')\n",
        "plt.title('График распределения количества выпущенных игр по годам')\n",
        "plt.xlabel('год выпуска')\n",
        "plt.ylabel('количество игр')\n",
        "plt.show()"
      ],
      "execution_count": null,
      "outputs": [
        {
          "output_type": "display_data",
          "data": {
            "image/png": "[encoded data removed]",
            "text/plain": [
              "<Figure size 648x504 with 1 Axes>"
            ]
          },
          "metadata": {
            "tags": [],
            "needs_background": "light"
          }
        }
      ]
    },
    {
      "cell_type": "markdown",
      "metadata": {
        "id": "UYpHqUNa7F8n"
      },
      "source": [
        "Более подробный график распределения выпущенных игр по каждому году."
      ]
    },
    {
      "cell_type": "markdown",
      "metadata": {
        "id": "aQ5ojMUQ7F8o"
      },
      "source": [
        "Резкий скачок в производстве игр наблюдается после 2000-х годов. С этого времени была произведена большая часть игр. Также, замечаем, что после 2008 года наблюдается снижение в количестве произведенных игр за год. "
      ]
    },
    {
      "cell_type": "code",
      "metadata": {
        "id": "JoYUQs8q7F8o",
        "outputId": "03dc9cf4-a1ef-4903-f853-81dfdbc71a3b"
      },
      "source": [
        "data.groupby('year_of_release')['total_sales'].agg('sum')\\\n",
        ".plot(kind='bar', figsize=(9,7), grid=True, color='g')\n",
        "plt.title('График суммарных продаж игр по годам')\n",
        "plt.xlabel('год продажи')\n",
        "plt.ylabel('сумма проданных игр')\n",
        "plt.show()"
      ],
      "execution_count": null,
      "outputs": [
        {
          "output_type": "display_data",
          "data": {
            "image/png": "[encoded data removed]",
            "text/plain": [
              "<Figure size 648x504 with 1 Axes>"
            ]
          },
          "metadata": {
            "tags": [],
            "needs_background": "light"
          }
        }
      ]
    },
    {
      "cell_type": "markdown",
      "metadata": {
        "id": "pJdOn7Qd7F8p"
      },
      "source": [
        "Снижаются также и суммарные продажи в последние годы."
      ]
    },
    {
      "cell_type": "markdown",
      "metadata": {
        "id": "sWfMqvu37F8q"
      },
      "source": [
        "Посмотрим, как менялись продажи по платформам. Выберем платформы с наибольшими суммарными продажами и построим распределение по годам. За какой характерный срок появляются новые и исчезают старые платформы?"
      ]
    },
    {
      "cell_type": "code",
      "metadata": {
        "id": "LybAKAyt7F8r",
        "outputId": "b6a4086a-bcf5-41bf-cece-645e8aa220e1"
      },
      "source": [
        "data.groupby('platform')['total_sales'].agg('sum').sort_values(ascending=False)"
      ],
      "execution_count": null,
      "outputs": [
        {
          "output_type": "execute_result",
          "data": {
            "text/plain": [
              "platform\n",
              "PS2     1255.77\n",
              "X360     971.42\n",
              "PS3      939.65\n",
              "Wii      907.51\n",
              "DS       806.12\n",
              "PS       730.86\n",
              "GBA      317.85\n",
              "PS4      314.14\n",
              "PSP      294.05\n",
              "PC       259.52\n",
              "3DS      259.00\n",
              "XB       257.74\n",
              "GB       255.46\n",
              "NES      251.05\n",
              "N64      218.68\n",
              "SNES     200.04\n",
              "GC       198.93\n",
              "XOne     159.32\n",
              "2600      96.98\n",
              "WiiU      82.19\n",
              "PSV       54.07\n",
              "SAT       33.59\n",
              "GEN       30.77\n",
              "DC        15.95\n",
              "SCD        1.86\n",
              "NG         1.44\n",
              "WS         1.42\n",
              "TG16       0.16\n",
              "3DO        0.10\n",
              "GG         0.04\n",
              "PCFX       0.03\n",
              "Name: total_sales, dtype: float64"
            ]
          },
          "metadata": {
            "tags": []
          },
          "execution_count": 29
        }
      ]
    },
    {
      "cell_type": "markdown",
      "metadata": {
        "id": "NHEVCv1f7F8s"
      },
      "source": [
        "По суммарным продажам лидируют следующие платформы: Sony PlayStation2, Xbox 360, Wii, Sony PlayStation3."
      ]
    },
    {
      "cell_type": "code",
      "metadata": {
        "id": "PmpF7bss7F8s",
        "outputId": "1c64531d-01ff-4d6e-ad2f-6964555f0950"
      },
      "source": [
        "data.loc[data['platform'] == 'PS2'].groupby('year_of_release')['total_sales']\\\n",
        ".agg('sum').plot(kind='bar', color='g', grid=True)\n",
        "plt.title('Суммарные продажи игр на платформе PlayStation2 по годам')\n",
        "plt.xlabel('год продажи')\n",
        "plt.ylabel('количество игр')\n",
        "plt.show()"
      ],
      "execution_count": null,
      "outputs": [
        {
          "output_type": "display_data",
          "data": {
            "image/png": "[encoded data removed]",
            "text/plain": [
              "<Figure size 432x288 with 1 Axes>"
            ]
          },
          "metadata": {
            "tags": [],
            "needs_background": "light"
          }
        }
      ]
    },
    {
      "cell_type": "code",
      "metadata": {
        "id": "d7u38E9S7F8t",
        "outputId": "cec803c6-de9d-4db3-b208-cfc453488f8a"
      },
      "source": [
        "data.loc[data['platform'] == 'X360'].groupby('year_of_release')['total_sales']\\\n",
        ".agg('sum').plot(kind='bar', color='r', grid=True)\n",
        "plt.title('Суммарные продажи игр на платформе Xbox 360 по годам')\n",
        "plt.xlabel('год продажи')\n",
        "plt.ylabel('количество игр')\n",
        "plt.show()"
      ],
      "execution_count": null,
      "outputs": [
        {
          "output_type": "display_data",
          "data": {
            "image/png": "[encoded data removed]",
            "text/plain": [
              "<Figure size 432x288 with 1 Axes>"
            ]
          },
          "metadata": {
            "tags": [],
            "needs_background": "light"
          }
        }
      ]
    },
    {
      "cell_type": "code",
      "metadata": {
        "id": "EO80kcTA7F8u",
        "outputId": "c858185a-3083-420e-870b-5ae2fc2fef60"
      },
      "source": [
        "data.loc[data['platform'] == 'Wii'].groupby('year_of_release')['total_sales']\\\n",
        ".agg('sum').plot(kind='bar',color='b', grid=True)\n",
        "plt.title('Суммарные продажи игр на платформе Wii по годам')\n",
        "plt.xlabel('год продажи')\n",
        "plt.ylabel('количество игр')\n",
        "plt.show()"
      ],
      "execution_count": null,
      "outputs": [
        {
          "output_type": "display_data",
          "data": {
            "image/png": "[encoded data removed]",
            "text/plain": [
              "<Figure size 432x288 with 1 Axes>"
            ]
          },
          "metadata": {
            "tags": [],
            "needs_background": "light"
          }
        }
      ]
    },
    {
      "cell_type": "code",
      "metadata": {
        "id": "Hw2YJl3m7F8v",
        "outputId": "c5ca1fab-ea67-48f2-dffb-6c29a42658d9"
      },
      "source": [
        "data.loc[data['platform'] == 'PS3'].groupby('year_of_release')['total_sales'].agg('sum')\\\n",
        ".plot(kind='bar',color='y', grid=True)\n",
        "plt.title('Суммарные продажи игр на платформе PlayStation3 по годам')\n",
        "plt.xlabel('год продажи')\n",
        "plt.ylabel('количество игр')\n",
        "plt.show()"
      ],
      "execution_count": null,
      "outputs": [
        {
          "output_type": "display_data",
          "data": {
            "image/png": "[encoded data removed]",
            "text/plain": [
              "<Figure size 432x288 with 1 Axes>"
            ]
          },
          "metadata": {
            "tags": [],
            "needs_background": "light"
          }
        }
      ]
    },
    {
      "cell_type": "markdown",
      "metadata": {
        "id": "ImpetQx17F8w"
      },
      "source": [
        "На графиках хорошо видно, что каждая из исследуемых платформ держится на рынке примерно 10 лет. При этом хочется отметить, что несмотря на лидирующие позиции четырех рассмотренных платформ, их продажи последние несколько лет падают."
      ]
    },
    {
      "cell_type": "markdown",
      "metadata": {
        "id": "mZL6OVzh7F8y"
      },
      "source": [
        "Для исследования возьмем за актуальный период данные за последние пять лет."
      ]
    },
    {
      "cell_type": "code",
      "metadata": {
        "id": "42kVRgZL7F8y"
      },
      "source": [
        "new_data = data.query('year_of_release >= 2012')"
      ],
      "execution_count": null,
      "outputs": []
    },
    {
      "cell_type": "markdown",
      "metadata": {
        "id": "sBKSvG5I7F80"
      },
      "source": [
        "Какие платформы лидируют по продажам, растут или падают? Выберем несколько потенциально прибыльных платформ."
      ]
    },
    {
      "cell_type": "code",
      "metadata": {
        "id": "rNxLiRIk7F81",
        "outputId": "24a5be2c-b979-4390-b4ea-0a522db7ffed"
      },
      "source": [
        "new_data.pivot_table(index='platform', values='total_sales', aggfunc='sum').reset_index()\\\n",
        ".sort_values('total_sales', ascending=False)"
      ],
      "execution_count": null,
      "outputs": [
        {
          "output_type": "execute_result",
          "data": {
            "text/html": [
              "<div>\n",
              "<style scoped>\n",
              "    .dataframe tbody tr th:only-of-type {\n",
              "        vertical-align: middle;\n",
              "    }\n",
              "\n",
              "    .dataframe tbody tr th {\n",
              "        vertical-align: top;\n",
              "    }\n",
              "\n",
              "    .dataframe thead th {\n",
              "        text-align: right;\n",
              "    }\n",
              "</style>\n",
              "<table border=\"1\" class=\"dataframe\">\n",
              "  <thead>\n",
              "    <tr style=\"text-align: right;\">\n",
              "      <th></th>\n",
              "      <th>platform</th>\n",
              "      <th>total_sales</th>\n",
              "    </tr>\n",
              "  </thead>\n",
              "  <tbody>\n",
              "    <tr>\n",
              "      <td>4</td>\n",
              "      <td>PS4</td>\n",
              "      <td>314.14</td>\n",
              "    </tr>\n",
              "    <tr>\n",
              "      <td>3</td>\n",
              "      <td>PS3</td>\n",
              "      <td>288.79</td>\n",
              "    </tr>\n",
              "    <tr>\n",
              "      <td>9</td>\n",
              "      <td>X360</td>\n",
              "      <td>236.54</td>\n",
              "    </tr>\n",
              "    <tr>\n",
              "      <td>0</td>\n",
              "      <td>3DS</td>\n",
              "      <td>194.61</td>\n",
              "    </tr>\n",
              "    <tr>\n",
              "      <td>10</td>\n",
              "      <td>XOne</td>\n",
              "      <td>159.32</td>\n",
              "    </tr>\n",
              "    <tr>\n",
              "      <td>8</td>\n",
              "      <td>WiiU</td>\n",
              "      <td>82.19</td>\n",
              "    </tr>\n",
              "    <tr>\n",
              "      <td>2</td>\n",
              "      <td>PC</td>\n",
              "      <td>62.65</td>\n",
              "    </tr>\n",
              "    <tr>\n",
              "      <td>6</td>\n",
              "      <td>PSV</td>\n",
              "      <td>49.18</td>\n",
              "    </tr>\n",
              "    <tr>\n",
              "      <td>7</td>\n",
              "      <td>Wii</td>\n",
              "      <td>35.37</td>\n",
              "    </tr>\n",
              "    <tr>\n",
              "      <td>1</td>\n",
              "      <td>DS</td>\n",
              "      <td>12.55</td>\n",
              "    </tr>\n",
              "    <tr>\n",
              "      <td>5</td>\n",
              "      <td>PSP</td>\n",
              "      <td>11.19</td>\n",
              "    </tr>\n",
              "  </tbody>\n",
              "</table>\n",
              "</div>"
            ],
            "text/plain": [
              "   platform  total_sales\n",
              "4       PS4       314.14\n",
              "3       PS3       288.79\n",
              "9      X360       236.54\n",
              "0       3DS       194.61\n",
              "10     XOne       159.32\n",
              "8      WiiU        82.19\n",
              "2        PC        62.65\n",
              "6       PSV        49.18\n",
              "7       Wii        35.37\n",
              "1        DS        12.55\n",
              "5       PSP        11.19"
            ]
          },
          "metadata": {
            "tags": []
          },
          "execution_count": 35
        }
      ]
    },
    {
      "cell_type": "code",
      "metadata": {
        "id": "eo2qEfwo7F81",
        "outputId": "d50ee7fc-e855-42ac-8408-f4eaee1dedcc"
      },
      "source": [
        "sales_ps4 = new_data.loc[new_data['platform'] == 'PS4']\\\n",
        ".pivot_table(index='year_of_release',values='total_sales',aggfunc='sum').reset_index()                                                                                                                                                                                         \n",
        "sales_ps4"
      ],
      "execution_count": null,
      "outputs": [
        {
          "output_type": "execute_result",
          "data": {
            "text/html": [
              "<div>\n",
              "<style scoped>\n",
              "    .dataframe tbody tr th:only-of-type {\n",
              "        vertical-align: middle;\n",
              "    }\n",
              "\n",
              "    .dataframe tbody tr th {\n",
              "        vertical-align: top;\n",
              "    }\n",
              "\n",
              "    .dataframe thead th {\n",
              "        text-align: right;\n",
              "    }\n",
              "</style>\n",
              "<table border=\"1\" class=\"dataframe\">\n",
              "  <thead>\n",
              "    <tr style=\"text-align: right;\">\n",
              "      <th></th>\n",
              "      <th>year_of_release</th>\n",
              "      <th>total_sales</th>\n",
              "    </tr>\n",
              "  </thead>\n",
              "  <tbody>\n",
              "    <tr>\n",
              "      <td>0</td>\n",
              "      <td>2013.0</td>\n",
              "      <td>25.99</td>\n",
              "    </tr>\n",
              "    <tr>\n",
              "      <td>1</td>\n",
              "      <td>2014.0</td>\n",
              "      <td>100.00</td>\n",
              "    </tr>\n",
              "    <tr>\n",
              "      <td>2</td>\n",
              "      <td>2015.0</td>\n",
              "      <td>118.90</td>\n",
              "    </tr>\n",
              "    <tr>\n",
              "      <td>3</td>\n",
              "      <td>2016.0</td>\n",
              "      <td>69.25</td>\n",
              "    </tr>\n",
              "  </tbody>\n",
              "</table>\n",
              "</div>"
            ],
            "text/plain": [
              "   year_of_release  total_sales\n",
              "0           2013.0        25.99\n",
              "1           2014.0       100.00\n",
              "2           2015.0       118.90\n",
              "3           2016.0        69.25"
            ]
          },
          "metadata": {
            "tags": []
          },
          "execution_count": 36
        }
      ]
    },
    {
      "cell_type": "code",
      "metadata": {
        "id": "wA0sjDkH7F82",
        "outputId": "4294908a-e56e-4285-9775-a7d9d16c81eb"
      },
      "source": [
        "sales_x360 = new_data.loc[new_data['platform'] == 'X360']\\\n",
        ".pivot_table(index='year_of_release', values='total_sales', aggfunc='sum').reset_index()\n",
        "sales_x360"
      ],
      "execution_count": null,
      "outputs": [
        {
          "output_type": "execute_result",
          "data": {
            "text/html": [
              "<div>\n",
              "<style scoped>\n",
              "    .dataframe tbody tr th:only-of-type {\n",
              "        vertical-align: middle;\n",
              "    }\n",
              "\n",
              "    .dataframe tbody tr th {\n",
              "        vertical-align: top;\n",
              "    }\n",
              "\n",
              "    .dataframe thead th {\n",
              "        text-align: right;\n",
              "    }\n",
              "</style>\n",
              "<table border=\"1\" class=\"dataframe\">\n",
              "  <thead>\n",
              "    <tr style=\"text-align: right;\">\n",
              "      <th></th>\n",
              "      <th>year_of_release</th>\n",
              "      <th>total_sales</th>\n",
              "    </tr>\n",
              "  </thead>\n",
              "  <tbody>\n",
              "    <tr>\n",
              "      <td>0</td>\n",
              "      <td>2012.0</td>\n",
              "      <td>99.74</td>\n",
              "    </tr>\n",
              "    <tr>\n",
              "      <td>1</td>\n",
              "      <td>2013.0</td>\n",
              "      <td>88.58</td>\n",
              "    </tr>\n",
              "    <tr>\n",
              "      <td>2</td>\n",
              "      <td>2014.0</td>\n",
              "      <td>34.74</td>\n",
              "    </tr>\n",
              "    <tr>\n",
              "      <td>3</td>\n",
              "      <td>2015.0</td>\n",
              "      <td>11.96</td>\n",
              "    </tr>\n",
              "    <tr>\n",
              "      <td>4</td>\n",
              "      <td>2016.0</td>\n",
              "      <td>1.52</td>\n",
              "    </tr>\n",
              "  </tbody>\n",
              "</table>\n",
              "</div>"
            ],
            "text/plain": [
              "   year_of_release  total_sales\n",
              "0           2012.0        99.74\n",
              "1           2013.0        88.58\n",
              "2           2014.0        34.74\n",
              "3           2015.0        11.96\n",
              "4           2016.0         1.52"
            ]
          },
          "metadata": {
            "tags": []
          },
          "execution_count": 37
        }
      ]
    },
    {
      "cell_type": "code",
      "metadata": {
        "id": "VTADCOvg7F83",
        "outputId": "ea4a53a2-37fc-4711-d786-e2ffdc01953e"
      },
      "source": [
        "sales_3ds = new_data.loc[new_data['platform'] == '3DS']\\\n",
        ".pivot_table(index='year_of_release', values='total_sales', aggfunc='sum').reset_index()\n",
        "sales_3ds"
      ],
      "execution_count": null,
      "outputs": [
        {
          "output_type": "execute_result",
          "data": {
            "text/html": [
              "<div>\n",
              "<style scoped>\n",
              "    .dataframe tbody tr th:only-of-type {\n",
              "        vertical-align: middle;\n",
              "    }\n",
              "\n",
              "    .dataframe tbody tr th {\n",
              "        vertical-align: top;\n",
              "    }\n",
              "\n",
              "    .dataframe thead th {\n",
              "        text-align: right;\n",
              "    }\n",
              "</style>\n",
              "<table border=\"1\" class=\"dataframe\">\n",
              "  <thead>\n",
              "    <tr style=\"text-align: right;\">\n",
              "      <th></th>\n",
              "      <th>year_of_release</th>\n",
              "      <th>total_sales</th>\n",
              "    </tr>\n",
              "  </thead>\n",
              "  <tbody>\n",
              "    <tr>\n",
              "      <td>0</td>\n",
              "      <td>2012.0</td>\n",
              "      <td>51.36</td>\n",
              "    </tr>\n",
              "    <tr>\n",
              "      <td>1</td>\n",
              "      <td>2013.0</td>\n",
              "      <td>56.57</td>\n",
              "    </tr>\n",
              "    <tr>\n",
              "      <td>2</td>\n",
              "      <td>2014.0</td>\n",
              "      <td>43.76</td>\n",
              "    </tr>\n",
              "    <tr>\n",
              "      <td>3</td>\n",
              "      <td>2015.0</td>\n",
              "      <td>27.78</td>\n",
              "    </tr>\n",
              "    <tr>\n",
              "      <td>4</td>\n",
              "      <td>2016.0</td>\n",
              "      <td>15.14</td>\n",
              "    </tr>\n",
              "  </tbody>\n",
              "</table>\n",
              "</div>"
            ],
            "text/plain": [
              "   year_of_release  total_sales\n",
              "0           2012.0        51.36\n",
              "1           2013.0        56.57\n",
              "2           2014.0        43.76\n",
              "3           2015.0        27.78\n",
              "4           2016.0        15.14"
            ]
          },
          "metadata": {
            "tags": []
          },
          "execution_count": 38
        }
      ]
    },
    {
      "cell_type": "code",
      "metadata": {
        "id": "Sa7Iz4vx7F84",
        "outputId": "1e512378-56c0-4fcc-e0b2-bc3eca73c94c"
      },
      "source": [
        "sales_ps3 = new_data.loc[new_data['platform'] == 'PS3']\\\n",
        ".pivot_table(index='year_of_release', values='total_sales', aggfunc='sum').reset_index()\n",
        "sales_ps3"
      ],
      "execution_count": null,
      "outputs": [
        {
          "output_type": "execute_result",
          "data": {
            "text/html": [
              "<div>\n",
              "<style scoped>\n",
              "    .dataframe tbody tr th:only-of-type {\n",
              "        vertical-align: middle;\n",
              "    }\n",
              "\n",
              "    .dataframe tbody tr th {\n",
              "        vertical-align: top;\n",
              "    }\n",
              "\n",
              "    .dataframe thead th {\n",
              "        text-align: right;\n",
              "    }\n",
              "</style>\n",
              "<table border=\"1\" class=\"dataframe\">\n",
              "  <thead>\n",
              "    <tr style=\"text-align: right;\">\n",
              "      <th></th>\n",
              "      <th>year_of_release</th>\n",
              "      <th>total_sales</th>\n",
              "    </tr>\n",
              "  </thead>\n",
              "  <tbody>\n",
              "    <tr>\n",
              "      <td>0</td>\n",
              "      <td>2012.0</td>\n",
              "      <td>107.36</td>\n",
              "    </tr>\n",
              "    <tr>\n",
              "      <td>1</td>\n",
              "      <td>2013.0</td>\n",
              "      <td>113.25</td>\n",
              "    </tr>\n",
              "    <tr>\n",
              "      <td>2</td>\n",
              "      <td>2014.0</td>\n",
              "      <td>47.76</td>\n",
              "    </tr>\n",
              "    <tr>\n",
              "      <td>3</td>\n",
              "      <td>2015.0</td>\n",
              "      <td>16.82</td>\n",
              "    </tr>\n",
              "    <tr>\n",
              "      <td>4</td>\n",
              "      <td>2016.0</td>\n",
              "      <td>3.60</td>\n",
              "    </tr>\n",
              "  </tbody>\n",
              "</table>\n",
              "</div>"
            ],
            "text/plain": [
              "   year_of_release  total_sales\n",
              "0           2012.0       107.36\n",
              "1           2013.0       113.25\n",
              "2           2014.0        47.76\n",
              "3           2015.0        16.82\n",
              "4           2016.0         3.60"
            ]
          },
          "metadata": {
            "tags": []
          },
          "execution_count": 39
        }
      ]
    },
    {
      "cell_type": "code",
      "metadata": {
        "id": "AwysxczX7F84",
        "outputId": "f54760eb-c527-4e54-8e92-e0e65bd304fc"
      },
      "source": [
        "sales_xone = new_data.loc[new_data['platform'] == 'XOne'].pivot_table(index='year_of_release',\\\n",
        "                                                                      values='total_sales', aggfunc='sum').reset_index()\n",
        "sales_xone"
      ],
      "execution_count": null,
      "outputs": [
        {
          "output_type": "execute_result",
          "data": {
            "text/html": [
              "<div>\n",
              "<style scoped>\n",
              "    .dataframe tbody tr th:only-of-type {\n",
              "        vertical-align: middle;\n",
              "    }\n",
              "\n",
              "    .dataframe tbody tr th {\n",
              "        vertical-align: top;\n",
              "    }\n",
              "\n",
              "    .dataframe thead th {\n",
              "        text-align: right;\n",
              "    }\n",
              "</style>\n",
              "<table border=\"1\" class=\"dataframe\">\n",
              "  <thead>\n",
              "    <tr style=\"text-align: right;\">\n",
              "      <th></th>\n",
              "      <th>year_of_release</th>\n",
              "      <th>total_sales</th>\n",
              "    </tr>\n",
              "  </thead>\n",
              "  <tbody>\n",
              "    <tr>\n",
              "      <td>0</td>\n",
              "      <td>2013.0</td>\n",
              "      <td>18.96</td>\n",
              "    </tr>\n",
              "    <tr>\n",
              "      <td>1</td>\n",
              "      <td>2014.0</td>\n",
              "      <td>54.07</td>\n",
              "    </tr>\n",
              "    <tr>\n",
              "      <td>2</td>\n",
              "      <td>2015.0</td>\n",
              "      <td>60.14</td>\n",
              "    </tr>\n",
              "    <tr>\n",
              "      <td>3</td>\n",
              "      <td>2016.0</td>\n",
              "      <td>26.15</td>\n",
              "    </tr>\n",
              "  </tbody>\n",
              "</table>\n",
              "</div>"
            ],
            "text/plain": [
              "   year_of_release  total_sales\n",
              "0           2013.0        18.96\n",
              "1           2014.0        54.07\n",
              "2           2015.0        60.14\n",
              "3           2016.0        26.15"
            ]
          },
          "metadata": {
            "tags": []
          },
          "execution_count": 40
        }
      ]
    },
    {
      "cell_type": "code",
      "metadata": {
        "scrolled": true,
        "id": "Krf1LATX7F85",
        "outputId": "44592353-9e96-42ba-b854-77f97dd7a05c"
      },
      "source": [
        "sales_ps3.plot(x='year_of_release', y='total_sales', grid=True, kind='bar')\n",
        "plt.title('Суммарные продажи игр на платформе PlayStation3')\n",
        "sales_ps4.plot(x='year_of_release', y='total_sales', grid=True, kind='bar')\n",
        "plt.title('Суммарные продажи игр на платформе PlayStation4')\n",
        "sales_3ds.plot(x='year_of_release', y='total_sales', grid=True, kind='bar')\n",
        "plt.title('Суммарные продажи игр на платформе Nintendo 3DS')\n",
        "sales_xone.plot(x='year_of_release', y='total_sales', grid=True, kind='bar')\n",
        "plt.title('Суммарные продажи игр на платформе Xbox One')\n",
        "sales_x360.plot(x='year_of_release', y='total_sales', grid=True, kind='bar')\n",
        "plt.title('Суммарные продажи игр на платформе Xbox 360')\n",
        "plt.show()"
      ],
      "execution_count": null,
      "outputs": [
        {
          "output_type": "display_data",
          "data": {
            "image/png": "[encoded data removed]",
            "text/plain": [
              "<Figure size 432x288 with 1 Axes>"
            ]
          },
          "metadata": {
            "tags": [],
            "needs_background": "light"
          }
        },
        {
          "output_type": "display_data",
          "data": {
            "image/png": "[encoded data removed]",
            "text/plain": [
              "<Figure size 432x288 with 1 Axes>"
            ]
          },
          "metadata": {
            "tags": [],
            "needs_background": "light"
          }
        },
        {
          "output_type": "display_data",
          "data": {
            "image/png": "[encoded data removed]",
            "text/plain": [
              "<Figure size 432x288 with 1 Axes>"
            ]
          },
          "metadata": {
            "tags": [],
            "needs_background": "light"
          }
        },
        {
          "output_type": "display_data",
          "data": {
            "image/png": "[encoded data removed]",
            "text/plain": [
              "<Figure size 432x288 with 1 Axes>"
            ]
          },
          "metadata": {
            "tags": [],
            "needs_background": "light"
          }
        },
        {
          "output_type": "display_data",
          "data": {
            "image/png": "[encoded data removed]",
            "text/plain": [
              "<Figure size 432x288 with 1 Axes>"
            ]
          },
          "metadata": {
            "tags": [],
            "needs_background": "light"
          }
        }
      ]
    },
    {
      "cell_type": "markdown",
      "metadata": {
        "id": "5T0IWBlG7F86"
      },
      "source": [
        "Выбрали 5 потенциально прибыльных платформ: PlayStation4, PlayStation3, Xbox One, Xbox 360 и Nintendo 3DS. Продажи игр на всех пяти платформах за последние годы снижаются."
      ]
    },
    {
      "cell_type": "markdown",
      "metadata": {
        "id": "vgvh4qoO7F87"
      },
      "source": [
        "Построим график «ящик с усами» по глобальным продажам игр в разбивке по платформам. "
      ]
    },
    {
      "cell_type": "code",
      "metadata": {
        "id": "xK1u0u827F87",
        "outputId": "62418b05-23d4-447a-afc7-0d8c461f5eef"
      },
      "source": [
        "fig, ax = plt.subplots(figsize = (15,7))\n",
        "sns.boxplot(data = new_data, x= 'total_sales', y = 'platform', orient = 'h')\n",
        "plt.xlim(0,2)\n",
        "plt.title('Глобальные продажи игр по платформам')\n",
        "plt.show()"
      ],
      "execution_count": null,
      "outputs": [
        {
          "output_type": "display_data",
          "data": {
            "image/png": "[encoded data removed]",
            "text/plain": [
              "<Figure size 1080x504 with 1 Axes>"
            ]
          },
          "metadata": {
            "tags": [],
            "needs_background": "light"
          }
        }
      ]
    },
    {
      "cell_type": "markdown",
      "metadata": {
        "id": "3EBLz8lO7F88"
      },
      "source": [
        "По графику можем сказать, что наиболее продаваемы игры на платформах Xbox 360, PlayStation 3 и 4."
      ]
    },
    {
      "cell_type": "markdown",
      "metadata": {
        "id": "CWGFojPN7F89"
      },
      "source": [
        "Посмотрим, как влияют на продажи внутри одной популярной платформы отзывы пользователей и критиков. Построим диаграмму рассеяния и посчитаем корреляцию между отзывами и продажами. Для примера возьмем платформу Sony PlayStation4"
      ]
    },
    {
      "cell_type": "code",
      "metadata": {
        "id": "-CKtHCvw7F8-",
        "outputId": "8654442c-63c1-4611-a231-adf7292ce150"
      },
      "source": [
        "ps4 = new_data.loc[(new_data['platform'] == 'PS4') & (new_data['user_score'] >=0)\\\n",
        "                   & (new_data['critic_score'] >= 0)]\n",
        "ps4.plot(kind= 'scatter', x='user_score', y = 'total_sales')\n",
        "plt.xlabel('оценка пользователей')\n",
        "plt.ylabel('суммарные продажи')\n",
        "plt.title('Диаграмма рассеяния по оценкам пользователей и суммарным продажам')\n",
        "ps4.plot(kind= 'scatter', x='critic_score', y = 'total_sales')\n",
        "plt.xlabel('оценка критиков')\n",
        "plt.ylabel('суммарные продажи')\n",
        "plt.title('Диаграмма рассеяния по оценкам критиков и суммарным продажам')\n",
        "plt.show()"
      ],
      "execution_count": null,
      "outputs": [
        {
          "output_type": "display_data",
          "data": {
            "image/png": "[encoded data removed]",
            "text/plain": [
              "<Figure size 432x288 with 1 Axes>"
            ]
          },
          "metadata": {
            "tags": [],
            "needs_background": "light"
          }
        },
        {
          "output_type": "display_data",
          "data": {
            "image/png": "[encoded data removed]",
            "text/plain": [
              "<Figure size 432x288 with 1 Axes>"
            ]
          },
          "metadata": {
            "tags": [],
            "needs_background": "light"
          }
        }
      ]
    },
    {
      "cell_type": "markdown",
      "metadata": {
        "id": "4Jstl1Z_7F8-"
      },
      "source": [
        "По графикам вполне заметно, что продажи игр прямопропорциональны их оценкам со стороны как пользователей, так и критиков. Хотя у пользователей наблюдаются отдельные выбросы больших продаж при меньших значениях рейтинга. Посмотрим на корреляцию."
      ]
    },
    {
      "cell_type": "code",
      "metadata": {
        "id": "c3lIsm3E7F8_",
        "outputId": "b147b05e-135d-4a4e-ea26-0a4e008618c4"
      },
      "source": [
        "ps4[['total_sales', 'user_score', 'critic_score']].corr()"
      ],
      "execution_count": null,
      "outputs": [
        {
          "output_type": "execute_result",
          "data": {
            "text/html": [
              "<div>\n",
              "<style scoped>\n",
              "    .dataframe tbody tr th:only-of-type {\n",
              "        vertical-align: middle;\n",
              "    }\n",
              "\n",
              "    .dataframe tbody tr th {\n",
              "        vertical-align: top;\n",
              "    }\n",
              "\n",
              "    .dataframe thead th {\n",
              "        text-align: right;\n",
              "    }\n",
              "</style>\n",
              "<table border=\"1\" class=\"dataframe\">\n",
              "  <thead>\n",
              "    <tr style=\"text-align: right;\">\n",
              "      <th></th>\n",
              "      <th>total_sales</th>\n",
              "      <th>user_score</th>\n",
              "      <th>critic_score</th>\n",
              "    </tr>\n",
              "  </thead>\n",
              "  <tbody>\n",
              "    <tr>\n",
              "      <td>total_sales</td>\n",
              "      <td>1.000000</td>\n",
              "      <td>-0.033625</td>\n",
              "      <td>0.405895</td>\n",
              "    </tr>\n",
              "    <tr>\n",
              "      <td>user_score</td>\n",
              "      <td>-0.033625</td>\n",
              "      <td>1.000000</td>\n",
              "      <td>0.557654</td>\n",
              "    </tr>\n",
              "    <tr>\n",
              "      <td>critic_score</td>\n",
              "      <td>0.405895</td>\n",
              "      <td>0.557654</td>\n",
              "      <td>1.000000</td>\n",
              "    </tr>\n",
              "  </tbody>\n",
              "</table>\n",
              "</div>"
            ],
            "text/plain": [
              "              total_sales  user_score  critic_score\n",
              "total_sales      1.000000   -0.033625      0.405895\n",
              "user_score      -0.033625    1.000000      0.557654\n",
              "critic_score     0.405895    0.557654      1.000000"
            ]
          },
          "metadata": {
            "tags": []
          },
          "execution_count": 44
        }
      ]
    },
    {
      "cell_type": "markdown",
      "metadata": {
        "id": "_IZhJO8Q7F8_"
      },
      "source": [
        "Рассчитав корреляцию видим, что зависимости между отзывами пользователей и продажами нет, значение отрицательное. А вот зависимость между оценкой критиков и продажами прослеживается лучше, значение больше нуля."
      ]
    },
    {
      "cell_type": "markdown",
      "metadata": {
        "id": "UtrImTxT7F9B"
      },
      "source": [
        "Посмторим на другие платформы"
      ]
    },
    {
      "cell_type": "code",
      "metadata": {
        "id": "P9gW4DLt7F9B",
        "outputId": "b200409c-a9a6-4cb2-bdf1-c4eecfb59870"
      },
      "source": [
        "ps3 = new_data.loc[(new_data['platform'] == 'PS3') & (new_data['user_score'] >=0)\\\n",
        "                   & (new_data['critic_score'] >= 0)]\n",
        "ps3.plot(kind= 'scatter', x='user_score', y = 'total_sales')\n",
        "plt.xlabel('оценка пользователей')\n",
        "plt.ylabel('суммарные продажи')\n",
        "plt.title('Диаграмма рассеяния по оценкам пользователей и суммарным продажам')\n",
        "ps4.plot(kind= 'scatter', x='critic_score', y = 'total_sales')\n",
        "plt.xlabel('оценка критиков')\n",
        "plt.ylabel('суммарные продажи')\n",
        "plt.title('Диаграмма рассеяния по оценкам критиков и суммарным продажам')\n",
        "plt.show()"
      ],
      "execution_count": null,
      "outputs": [
        {
          "output_type": "display_data",
          "data": {
            "image/png": "[encoded data removed]",
            "text/plain": [
              "<Figure size 432x288 with 1 Axes>"
            ]
          },
          "metadata": {
            "tags": [],
            "needs_background": "light"
          }
        },
        {
          "output_type": "display_data",
          "data": {
            "image/png": "[encoded data removed]",
            "text/plain": [
              "<Figure size 432x288 with 1 Axes>"
            ]
          },
          "metadata": {
            "tags": [],
            "needs_background": "light"
          }
        }
      ]
    },
    {
      "cell_type": "code",
      "metadata": {
        "id": "koKR-XEb7F9C",
        "outputId": "3f832358-ba88-40cb-b565-dd381f74d7e3"
      },
      "source": [
        "ps3[['total_sales', 'user_score', 'critic_score']].corr()"
      ],
      "execution_count": null,
      "outputs": [
        {
          "output_type": "execute_result",
          "data": {
            "text/html": [
              "<div>\n",
              "<style scoped>\n",
              "    .dataframe tbody tr th:only-of-type {\n",
              "        vertical-align: middle;\n",
              "    }\n",
              "\n",
              "    .dataframe tbody tr th {\n",
              "        vertical-align: top;\n",
              "    }\n",
              "\n",
              "    .dataframe thead th {\n",
              "        text-align: right;\n",
              "    }\n",
              "</style>\n",
              "<table border=\"1\" class=\"dataframe\">\n",
              "  <thead>\n",
              "    <tr style=\"text-align: right;\">\n",
              "      <th></th>\n",
              "      <th>total_sales</th>\n",
              "      <th>user_score</th>\n",
              "      <th>critic_score</th>\n",
              "    </tr>\n",
              "  </thead>\n",
              "  <tbody>\n",
              "    <tr>\n",
              "      <td>total_sales</td>\n",
              "      <td>1.000000</td>\n",
              "      <td>0.003227</td>\n",
              "      <td>0.331057</td>\n",
              "    </tr>\n",
              "    <tr>\n",
              "      <td>user_score</td>\n",
              "      <td>0.003227</td>\n",
              "      <td>1.000000</td>\n",
              "      <td>0.539456</td>\n",
              "    </tr>\n",
              "    <tr>\n",
              "      <td>critic_score</td>\n",
              "      <td>0.331057</td>\n",
              "      <td>0.539456</td>\n",
              "      <td>1.000000</td>\n",
              "    </tr>\n",
              "  </tbody>\n",
              "</table>\n",
              "</div>"
            ],
            "text/plain": [
              "              total_sales  user_score  critic_score\n",
              "total_sales      1.000000    0.003227      0.331057\n",
              "user_score       0.003227    1.000000      0.539456\n",
              "critic_score     0.331057    0.539456      1.000000"
            ]
          },
          "metadata": {
            "tags": []
          },
          "execution_count": 46
        }
      ]
    },
    {
      "cell_type": "code",
      "metadata": {
        "id": "ZdBRDv2p7F9D",
        "outputId": "70f25129-7fdc-489b-de4b-497c8c543265"
      },
      "source": [
        "x360 = new_data.loc[(new_data['platform'] == 'X360') & (new_data['user_score'] >=0)\\\n",
        "                   & (new_data['critic_score'] >= 0)]\n",
        "x360.plot(kind= 'scatter', x='user_score', y = 'total_sales')\n",
        "plt.xlabel('оценка пользователей')\n",
        "plt.ylabel('суммарные продажи')\n",
        "plt.title('Диаграмма рассеяния по оценкам пользователей и суммарным продажам')\n",
        "ps4.plot(kind= 'scatter', x='critic_score', y = 'total_sales')\n",
        "plt.xlabel('оценка критиков')\n",
        "plt.ylabel('суммарные продажи')\n",
        "plt.title('Диаграмма рассеяния по оценкам критиков и суммарным продажам')\n",
        "plt.show()"
      ],
      "execution_count": null,
      "outputs": [
        {
          "output_type": "display_data",
          "data": {
            "image/png": "[encoded data removed]",
            "text/plain": [
              "<Figure size 432x288 with 1 Axes>"
            ]
          },
          "metadata": {
            "tags": [],
            "needs_background": "light"
          }
        },
        {
          "output_type": "display_data",
          "data": {
            "image/png": "[encoded data removed]",
            "text/plain": [
              "<Figure size 432x288 with 1 Axes>"
            ]
          },
          "metadata": {
            "tags": [],
            "needs_background": "light"
          }
        }
      ]
    },
    {
      "cell_type": "code",
      "metadata": {
        "id": "zaYJ99SU7F9E",
        "outputId": "9d2b1d20-5ce9-4e34-a5e7-b64a9f9cd7fb"
      },
      "source": [
        "x360[['total_sales', 'user_score', 'critic_score']].corr()"
      ],
      "execution_count": null,
      "outputs": [
        {
          "output_type": "execute_result",
          "data": {
            "text/html": [
              "<div>\n",
              "<style scoped>\n",
              "    .dataframe tbody tr th:only-of-type {\n",
              "        vertical-align: middle;\n",
              "    }\n",
              "\n",
              "    .dataframe tbody tr th {\n",
              "        vertical-align: top;\n",
              "    }\n",
              "\n",
              "    .dataframe thead th {\n",
              "        text-align: right;\n",
              "    }\n",
              "</style>\n",
              "<table border=\"1\" class=\"dataframe\">\n",
              "  <thead>\n",
              "    <tr style=\"text-align: right;\">\n",
              "      <th></th>\n",
              "      <th>total_sales</th>\n",
              "      <th>user_score</th>\n",
              "      <th>critic_score</th>\n",
              "    </tr>\n",
              "  </thead>\n",
              "  <tbody>\n",
              "    <tr>\n",
              "      <td>total_sales</td>\n",
              "      <td>1.000000</td>\n",
              "      <td>-0.002014</td>\n",
              "      <td>0.360573</td>\n",
              "    </tr>\n",
              "    <tr>\n",
              "      <td>user_score</td>\n",
              "      <td>-0.002014</td>\n",
              "      <td>1.000000</td>\n",
              "      <td>0.557352</td>\n",
              "    </tr>\n",
              "    <tr>\n",
              "      <td>critic_score</td>\n",
              "      <td>0.360573</td>\n",
              "      <td>0.557352</td>\n",
              "      <td>1.000000</td>\n",
              "    </tr>\n",
              "  </tbody>\n",
              "</table>\n",
              "</div>"
            ],
            "text/plain": [
              "              total_sales  user_score  critic_score\n",
              "total_sales      1.000000   -0.002014      0.360573\n",
              "user_score      -0.002014    1.000000      0.557352\n",
              "critic_score     0.360573    0.557352      1.000000"
            ]
          },
          "metadata": {
            "tags": []
          },
          "execution_count": 48
        }
      ]
    },
    {
      "cell_type": "markdown",
      "metadata": {
        "id": "5Krmg7E-7F9E"
      },
      "source": [
        "Сравнив выводы по платформе PS4 еще с двумя популярными платформами (PS3 и X360) видим, что зависимость продаж и оценок пользователей так же, как и в первом случае плохо прослеживается. А прямопропорциональность зависимости оценки критиков и продажи в целом хорошо заметна."
      ]
    },
    {
      "cell_type": "markdown",
      "metadata": {
        "id": "0SfN9CQ27F9F"
      },
      "source": [
        "Посмотрим на общее распределение игр по жанрам. Что можно сказать о самых прибыльных жанрах? Выделяются ли жанры с высокими и низкими продажами?"
      ]
    },
    {
      "cell_type": "code",
      "metadata": {
        "id": "tm-CuuTi7F9G",
        "outputId": "eed9696c-0442-471b-d9f7-caed95a330dc"
      },
      "source": [
        "new_data.groupby('genre')['name'].agg('count').sort_values(ascending=False).plot(kind='bar')\n",
        "plt.title('Распределение количества игр по жанрам')\n",
        "plt.xlabel('жанры')\n",
        "plt.ylabel('количество игр')\n",
        "plt.show()"
      ],
      "execution_count": null,
      "outputs": [
        {
          "output_type": "display_data",
          "data": {
            "image/png": "[encoded data removed]",
            "text/plain": [
              "<Figure size 432x288 with 1 Axes>"
            ]
          },
          "metadata": {
            "tags": [],
            "needs_background": "light"
          }
        }
      ]
    },
    {
      "cell_type": "code",
      "metadata": {
        "id": "GIYIRlL67F9H",
        "outputId": "f6fe69e8-c608-4454-c843-eb594dfd4df1"
      },
      "source": [
        "new_data.groupby('genre')['total_sales'].agg('sum').sort_values(ascending=False).plot(kind='bar')\n",
        "plt.title('Распределение суммарных продаж по жанрам')\n",
        "plt.xlabel('жанры')\n",
        "plt.ylabel('суммарные продажи')\n",
        "plt.show()"
      ],
      "execution_count": null,
      "outputs": [
        {
          "output_type": "display_data",
          "data": {
            "image/png": "[encoded data removed]",
            "text/plain": [
              "<Figure size 432x288 with 1 Axes>"
            ]
          },
          "metadata": {
            "tags": [],
            "needs_background": "light"
          }
        }
      ]
    },
    {
      "cell_type": "markdown",
      "metadata": {
        "id": "PizLzXe17F9H"
      },
      "source": [
        "Четверку лидеров, как по количеству игр, так и по продажам занимают такие жанры как экш, ролевые, спортивные игры и стрелялки. Самые же непопулярные игры-головоломки."
      ]
    },
    {
      "cell_type": "markdown",
      "metadata": {
        "id": "VDtpPgEn7F9I"
      },
      "source": [
        "### Вывод:\n",
        "Проанализировав данные игровой идустрии за пять лет, можем отметить, что даже у таких лидеров, как PlayStation, Xbox и Nintendo как продажи, так и количество выпускаемых игр значительно сокращается. Что касается жанров, пользователи предпочитают экшен-игры, а вот головоломки оказались самыми непопулярными."
      ]
    },
    {
      "cell_type": "markdown",
      "metadata": {
        "id": "8mf443hV7F9J"
      },
      "source": [
        "## Шаг 4. Составьте портрет пользователя каждого региона\n",
        "<a id=\"region\"></a>"
      ]
    },
    {
      "cell_type": "markdown",
      "metadata": {
        "id": "czjWWyrP7F9J"
      },
      "source": [
        "### Самые популярные платформы (топ-5).\n",
        "<a id=\"to5platforms\"></a>"
      ]
    },
    {
      "cell_type": "code",
      "metadata": {
        "id": "ijakcBVA7F9K",
        "outputId": "ed234d02-95ed-44d7-8d13-85b0fd3b0a21"
      },
      "source": [
        "new_data.pivot_table(index='platform', values=['eu_sales', 'na_sales', 'jp_sales'],\\\n",
        "                     aggfunc='sum').plot(kind='bar', color=['r','g','b'], figsize=(9,7), grid=True)\n",
        "                                        \n",
        "                                         \n",
        "plt.title('График суммарных продаж игр на разных платформах по регионам')\n",
        "plt.xlabel('игровые платформы')\n",
        "plt.ylabel('продажи')\n",
        "plt.show()"
      ],
      "execution_count": null,
      "outputs": [
        {
          "output_type": "display_data",
          "data": {
            "image/png": "[encoded data removed]",
            "text/plain": [
              "<Figure size 648x504 with 1 Axes>"
            ]
          },
          "metadata": {
            "tags": [],
            "needs_background": "light"
          }
        }
      ]
    },
    {
      "cell_type": "markdown",
      "metadata": {
        "id": "stDIEFKu7F9K"
      },
      "source": [
        "Найдем пять самых популярных платформ в каждом регионе."
      ]
    },
    {
      "cell_type": "code",
      "metadata": {
        "id": "cqGge_0i7F9L",
        "outputId": "a07e417b-3e62-4179-bda5-7905a2e5eb3e"
      },
      "source": [
        "na = new_data.groupby(by='platform').agg({'na_sales':'sum'}).reset_index()\\\n",
        ".sort_values(by='na_sales', ascending=False).head(5)\n",
        "na['percent'] = na['na_sales'] / new_data['na_sales'].sum() * 100\n",
        "na"
      ],
      "execution_count": null,
      "outputs": [
        {
          "output_type": "execute_result",
          "data": {
            "text/html": [
              "<div>\n",
              "<style scoped>\n",
              "    .dataframe tbody tr th:only-of-type {\n",
              "        vertical-align: middle;\n",
              "    }\n",
              "\n",
              "    .dataframe tbody tr th {\n",
              "        vertical-align: top;\n",
              "    }\n",
              "\n",
              "    .dataframe thead th {\n",
              "        text-align: right;\n",
              "    }\n",
              "</style>\n",
              "<table border=\"1\" class=\"dataframe\">\n",
              "  <thead>\n",
              "    <tr style=\"text-align: right;\">\n",
              "      <th></th>\n",
              "      <th>platform</th>\n",
              "      <th>na_sales</th>\n",
              "      <th>percent</th>\n",
              "    </tr>\n",
              "  </thead>\n",
              "  <tbody>\n",
              "    <tr>\n",
              "      <td>9</td>\n",
              "      <td>X360</td>\n",
              "      <td>140.05</td>\n",
              "      <td>23.698326</td>\n",
              "    </tr>\n",
              "    <tr>\n",
              "      <td>4</td>\n",
              "      <td>PS4</td>\n",
              "      <td>108.74</td>\n",
              "      <td>18.400257</td>\n",
              "    </tr>\n",
              "    <tr>\n",
              "      <td>3</td>\n",
              "      <td>PS3</td>\n",
              "      <td>103.38</td>\n",
              "      <td>17.493274</td>\n",
              "    </tr>\n",
              "    <tr>\n",
              "      <td>10</td>\n",
              "      <td>XOne</td>\n",
              "      <td>93.12</td>\n",
              "      <td>15.757145</td>\n",
              "    </tr>\n",
              "    <tr>\n",
              "      <td>0</td>\n",
              "      <td>3DS</td>\n",
              "      <td>55.31</td>\n",
              "      <td>9.359189</td>\n",
              "    </tr>\n",
              "  </tbody>\n",
              "</table>\n",
              "</div>"
            ],
            "text/plain": [
              "   platform  na_sales    percent\n",
              "9      X360    140.05  23.698326\n",
              "4       PS4    108.74  18.400257\n",
              "3       PS3    103.38  17.493274\n",
              "10     XOne     93.12  15.757145\n",
              "0       3DS     55.31   9.359189"
            ]
          },
          "metadata": {
            "tags": []
          },
          "execution_count": 52
        }
      ]
    },
    {
      "cell_type": "code",
      "metadata": {
        "id": "u-ES8Vtr7F9M",
        "outputId": "68effe38-0fdb-4f69-8cad-64b026b1f288"
      },
      "source": [
        "eu = new_data.groupby(by='platform').agg({'eu_sales':'sum'}).reset_index()\\\n",
        ".sort_values(by='eu_sales', ascending=False).head(5)\n",
        "eu['percent'] = eu['eu_sales'] / new_data['eu_sales'].sum() * 100\n",
        "eu"
      ],
      "execution_count": null,
      "outputs": [
        {
          "output_type": "execute_result",
          "data": {
            "text/html": [
              "<div>\n",
              "<style scoped>\n",
              "    .dataframe tbody tr th:only-of-type {\n",
              "        vertical-align: middle;\n",
              "    }\n",
              "\n",
              "    .dataframe tbody tr th {\n",
              "        vertical-align: top;\n",
              "    }\n",
              "\n",
              "    .dataframe thead th {\n",
              "        text-align: right;\n",
              "    }\n",
              "</style>\n",
              "<table border=\"1\" class=\"dataframe\">\n",
              "  <thead>\n",
              "    <tr style=\"text-align: right;\">\n",
              "      <th></th>\n",
              "      <th>platform</th>\n",
              "      <th>eu_sales</th>\n",
              "      <th>percent</th>\n",
              "    </tr>\n",
              "  </thead>\n",
              "  <tbody>\n",
              "    <tr>\n",
              "      <td>4</td>\n",
              "      <td>PS4</td>\n",
              "      <td>141.09</td>\n",
              "      <td>27.838286</td>\n",
              "    </tr>\n",
              "    <tr>\n",
              "      <td>3</td>\n",
              "      <td>PS3</td>\n",
              "      <td>106.86</td>\n",
              "      <td>21.084409</td>\n",
              "    </tr>\n",
              "    <tr>\n",
              "      <td>9</td>\n",
              "      <td>X360</td>\n",
              "      <td>74.52</td>\n",
              "      <td>14.703445</td>\n",
              "    </tr>\n",
              "    <tr>\n",
              "      <td>10</td>\n",
              "      <td>XOne</td>\n",
              "      <td>51.59</td>\n",
              "      <td>10.179156</td>\n",
              "    </tr>\n",
              "    <tr>\n",
              "      <td>0</td>\n",
              "      <td>3DS</td>\n",
              "      <td>42.64</td>\n",
              "      <td>8.413243</td>\n",
              "    </tr>\n",
              "  </tbody>\n",
              "</table>\n",
              "</div>"
            ],
            "text/plain": [
              "   platform  eu_sales    percent\n",
              "4       PS4    141.09  27.838286\n",
              "3       PS3    106.86  21.084409\n",
              "9      X360     74.52  14.703445\n",
              "10     XOne     51.59  10.179156\n",
              "0       3DS     42.64   8.413243"
            ]
          },
          "metadata": {
            "tags": []
          },
          "execution_count": 53
        }
      ]
    },
    {
      "cell_type": "code",
      "metadata": {
        "id": "RhfVRBds7F9M",
        "outputId": "c367a0bb-e157-4b5f-f257-eeb3e4ee6fb0"
      },
      "source": [
        "jp = new_data.groupby(by='platform').agg({'jp_sales':'sum'}).reset_index()\\\n",
        ".sort_values(by='jp_sales', ascending=False).head(5)\n",
        "jp['percent'] = jp['jp_sales'] / new_data['jp_sales'].sum() * 100\n",
        "jp"
      ],
      "execution_count": null,
      "outputs": [
        {
          "output_type": "execute_result",
          "data": {
            "text/html": [
              "<div>\n",
              "<style scoped>\n",
              "    .dataframe tbody tr th:only-of-type {\n",
              "        vertical-align: middle;\n",
              "    }\n",
              "\n",
              "    .dataframe tbody tr th {\n",
              "        vertical-align: top;\n",
              "    }\n",
              "\n",
              "    .dataframe thead th {\n",
              "        text-align: right;\n",
              "    }\n",
              "</style>\n",
              "<table border=\"1\" class=\"dataframe\">\n",
              "  <thead>\n",
              "    <tr style=\"text-align: right;\">\n",
              "      <th></th>\n",
              "      <th>platform</th>\n",
              "      <th>jp_sales</th>\n",
              "      <th>percent</th>\n",
              "    </tr>\n",
              "  </thead>\n",
              "  <tbody>\n",
              "    <tr>\n",
              "      <td>0</td>\n",
              "      <td>3DS</td>\n",
              "      <td>87.79</td>\n",
              "      <td>45.586250</td>\n",
              "    </tr>\n",
              "    <tr>\n",
              "      <td>3</td>\n",
              "      <td>PS3</td>\n",
              "      <td>35.29</td>\n",
              "      <td>18.324852</td>\n",
              "    </tr>\n",
              "    <tr>\n",
              "      <td>6</td>\n",
              "      <td>PSV</td>\n",
              "      <td>21.04</td>\n",
              "      <td>10.925330</td>\n",
              "    </tr>\n",
              "    <tr>\n",
              "      <td>4</td>\n",
              "      <td>PS4</td>\n",
              "      <td>15.96</td>\n",
              "      <td>8.287465</td>\n",
              "    </tr>\n",
              "    <tr>\n",
              "      <td>8</td>\n",
              "      <td>WiiU</td>\n",
              "      <td>13.01</td>\n",
              "      <td>6.755634</td>\n",
              "    </tr>\n",
              "  </tbody>\n",
              "</table>\n",
              "</div>"
            ],
            "text/plain": [
              "  platform  jp_sales    percent\n",
              "0      3DS     87.79  45.586250\n",
              "3      PS3     35.29  18.324852\n",
              "6      PSV     21.04  10.925330\n",
              "4      PS4     15.96   8.287465\n",
              "8     WiiU     13.01   6.755634"
            ]
          },
          "metadata": {
            "tags": []
          },
          "execution_count": 54
        }
      ]
    },
    {
      "cell_type": "markdown",
      "metadata": {
        "id": "ivi3OzBm7F9N"
      },
      "source": [
        "В Америке наиболее популярна  американская платформа Xbox 360, в Европе играют в японскую Playstation 4 и 3. В Японии почти половина проданных игр приходится на свою же Nintendo 3DS."
      ]
    },
    {
      "cell_type": "markdown",
      "metadata": {
        "id": "7GAziOjq7F9O"
      },
      "source": [
        "### Самые популярные жанры (топ-5). \n",
        "<a id=\"top5genres\"></a>"
      ]
    },
    {
      "cell_type": "code",
      "metadata": {
        "id": "0aYRjsfg7F9P",
        "outputId": "bbe6fd29-fd8e-4049-e05d-0c935d03fe66"
      },
      "source": [
        "new_data.pivot_table(index='genre', values='na_sales',aggfunc='sum').reset_index()\\\n",
        ".sort_values(by='na_sales',ascending=False).head(5)\\\n",
        ".plot(x='genre', y='na_sales', kind='bar', grid=True, color='r', label='Северная Америка', figsize=(7,5))\n",
        "plt.title('Топ-5 популярных жанров в Северной Америке')\n",
        "plt.xlabel('жанры')\n",
        "plt.ylabel('количество проданных игр')\n",
        "\n",
        "new_data.pivot_table(index='genre', values='eu_sales', aggfunc='sum').reset_index()\\\n",
        ".sort_values(by='eu_sales', ascending=False).head(5)\\\n",
        ".plot(x='genre', y='eu_sales', kind='bar', grid=True, color='g', label='Европа', figsize=(7,5))\n",
        "plt.title('Топ-5 популярных жанров в Европе')\n",
        "plt.xlabel('жанры')\n",
        "plt.ylabel('количество проданных игр')\n",
        "\n",
        "new_data.pivot_table(index='genre', values='jp_sales', aggfunc='sum').reset_index()\\\n",
        ".sort_values(by='jp_sales', ascending=False).head(5)\\\n",
        ".plot(x='genre', y='jp_sales', kind='bar', grid=True, color='y', label='Япония', figsize=(7,5))\n",
        "plt.title('Топ-5 популярных жанров в Японии')\n",
        "plt.xlabel('жанры')\n",
        "plt.ylabel('количество проданных игр')\n",
        "plt.show()"
      ],
      "execution_count": null,
      "outputs": [
        {
          "output_type": "display_data",
          "data": {
            "image/png": "[encoded data removed]",
            "text/plain": [
              "<Figure size 504x360 with 1 Axes>"
            ]
          },
          "metadata": {
            "tags": [],
            "needs_background": "light"
          }
        },
        {
          "output_type": "display_data",
          "data": {
            "image/png": "[encoded data removed]",
            "text/plain": [
              "<Figure size 504x360 with 1 Axes>"
            ]
          },
          "metadata": {
            "tags": [],
            "needs_background": "light"
          }
        },
        {
          "output_type": "display_data",
          "data": {
            "image/png": "[encoded data removed]",
            "text/plain": [
              "<Figure size 504x360 with 1 Axes>"
            ]
          },
          "metadata": {
            "tags": [],
            "needs_background": "light"
          }
        }
      ]
    },
    {
      "cell_type": "markdown",
      "metadata": {
        "id": "AlzjKHvv7F9P"
      },
      "source": [
        "Замечаем, что в японии лидируют ролевые игры в то время как в Америке и Европе экшен игры. С чем это может быть связано? В целом ролевые и экшн игры примерно похожи друг на друга и зачастую игры могут относится сразу к нескльким жанрам. Посмотрим на популярные в японии игры жанра ролевых игр."
      ]
    },
    {
      "cell_type": "code",
      "metadata": {
        "id": "ZLtcYJl07F9Q",
        "outputId": "cebb116e-6c1f-4b74-9785-4f5cfffc39ed"
      },
      "source": [
        "new_data[new_data['genre'] == 'Role-Playing'].sort_values(by='jp_sales', ascending=False)['name'].head(10)"
      ],
      "execution_count": null,
      "outputs": [
        {
          "output_type": "execute_result",
          "data": {
            "text/plain": [
              "33                            Pokemon X/Pokemon Y\n",
              "385                              Monster Hunter 4\n",
              "412                     Yokai Watch 2 Ganso/Honke\n",
              "83                Pokemon Black 2/Pokemon White 2\n",
              "47      Pokemon Omega Ruby/Pokemon Alpha Sapphire\n",
              "563                        Yokai Watch 2 Shinuchi\n",
              "312                     Monster Hunter 4 Ultimate\n",
              "108                              Pokemon Sun/Moon\n",
              "1244                             Puzzle & Dragons\n",
              "798                                   Yokai Watch\n",
              "Name: name, dtype: object"
            ]
          },
          "metadata": {
            "tags": []
          },
          "execution_count": 56
        }
      ]
    },
    {
      "cell_type": "markdown",
      "metadata": {
        "id": "mA0fIBJX7F9R"
      },
      "source": [
        "Сразу замечаем, что большинство из представленных игр вроде Pokemon и Yokai watch, которые произведены в Японии и логично, что наиболее популярны именно у себя на родине."
      ]
    },
    {
      "cell_type": "markdown",
      "metadata": {
        "id": "Q3BErj-r7F9R"
      },
      "source": [
        "### Влияет ли рейтинг ESRB на продажи в отдельном регионе?\n",
        "<a id=\"rating\"></a>"
      ]
    },
    {
      "cell_type": "markdown",
      "metadata": {
        "id": "rSTq85xY7F9S"
      },
      "source": [
        "Посмотрим, игры с каким рейтингом наиболее поппулярны в разных регионах."
      ]
    },
    {
      "cell_type": "code",
      "metadata": {
        "id": "xnc63Vge7F9S",
        "outputId": "0b6c2cec-ded5-4707-d3de-07dd83a1f907"
      },
      "source": [
        "rating_region = new_data[new_data['rating'] != 'Unknown']\\\n",
        ".pivot_table(index='rating', values = ['na_sales', 'eu_sales', 'jp_sales'], aggfunc='sum').reset_index()\n",
        "rating_region"
      ],
      "execution_count": null,
      "outputs": [
        {
          "output_type": "execute_result",
          "data": {
            "text/html": [
              "<div>\n",
              "<style scoped>\n",
              "    .dataframe tbody tr th:only-of-type {\n",
              "        vertical-align: middle;\n",
              "    }\n",
              "\n",
              "    .dataframe tbody tr th {\n",
              "        vertical-align: top;\n",
              "    }\n",
              "\n",
              "    .dataframe thead th {\n",
              "        text-align: right;\n",
              "    }\n",
              "</style>\n",
              "<table border=\"1\" class=\"dataframe\">\n",
              "  <thead>\n",
              "    <tr style=\"text-align: right;\">\n",
              "      <th></th>\n",
              "      <th>rating</th>\n",
              "      <th>eu_sales</th>\n",
              "      <th>jp_sales</th>\n",
              "      <th>na_sales</th>\n",
              "    </tr>\n",
              "  </thead>\n",
              "  <tbody>\n",
              "    <tr>\n",
              "      <td>0</td>\n",
              "      <td>E</td>\n",
              "      <td>113.03</td>\n",
              "      <td>28.33</td>\n",
              "      <td>114.37</td>\n",
              "    </tr>\n",
              "    <tr>\n",
              "      <td>1</td>\n",
              "      <td>E10+</td>\n",
              "      <td>55.37</td>\n",
              "      <td>8.19</td>\n",
              "      <td>75.70</td>\n",
              "    </tr>\n",
              "    <tr>\n",
              "      <td>2</td>\n",
              "      <td>M</td>\n",
              "      <td>193.96</td>\n",
              "      <td>21.20</td>\n",
              "      <td>231.57</td>\n",
              "    </tr>\n",
              "    <tr>\n",
              "      <td>3</td>\n",
              "      <td>T</td>\n",
              "      <td>52.96</td>\n",
              "      <td>26.02</td>\n",
              "      <td>66.02</td>\n",
              "    </tr>\n",
              "  </tbody>\n",
              "</table>\n",
              "</div>"
            ],
            "text/plain": [
              "  rating  eu_sales  jp_sales  na_sales\n",
              "0      E    113.03     28.33    114.37\n",
              "1   E10+     55.37      8.19     75.70\n",
              "2      M    193.96     21.20    231.57\n",
              "3      T     52.96     26.02     66.02"
            ]
          },
          "metadata": {
            "tags": []
          },
          "execution_count": 57
        }
      ]
    },
    {
      "cell_type": "markdown",
      "metadata": {
        "id": "yqr6pmrc7F9T"
      },
      "source": [
        "- E - everyone(для всех возрастов)\n",
        "- E10+ - everyone 10 and older(для всех старше 10)\n",
        "- M - mature (для лиц 17 лет и старше)\n",
        "- T - Teen (для подростков 13-19 лет)"
      ]
    },
    {
      "cell_type": "code",
      "metadata": {
        "id": "nlmB_kJL7F9U",
        "outputId": "5e8e888a-fcd7-4e0c-dc96-a189e1b9439f"
      },
      "source": [
        "rating_region.plot(figsize=(9,7), grid=True, kind='bar', x='rating')\n",
        "plt.title('Распределение проданных игр по рейтингу в каждом регионе')\n",
        "plt.xlabel('рейтинг')\n",
        "plt.ylabel('количество игр')\n",
        "plt.show()"
      ],
      "execution_count": null,
      "outputs": [
        {
          "output_type": "display_data",
          "data": {
            "image/png": "[encoded data removed]",
            "text/plain": [
              "<Figure size 648x504 with 1 Axes>"
            ]
          },
          "metadata": {
            "tags": [],
            "needs_background": "light"
          }
        }
      ]
    },
    {
      "cell_type": "code",
      "metadata": {
        "id": "HHl6mpnJ7F9U",
        "outputId": "f7a57a90-6d6a-434b-9140-a5ec3813b4bd"
      },
      "source": [
        "rating_region['percent_na'] = rating_region['na_sales'] / rating_region['na_sales'].sum() *100\n",
        "rating_region['percent_eu'] = rating_region['eu_sales'] / rating_region['eu_sales'].sum() *100\n",
        "rating_region['percent_jp'] = rating_region['jp_sales'] / rating_region['jp_sales'].sum() *100\n",
        "rating_region.plot(kind='bar', x='rating', y=['percent_na', 'percent_eu', 'percent_jp'], figsize=(9,5),\\\n",
        "                   label=['Северная Америка', 'Европа', 'Япония'])\n",
        "plt.title('Доля (в процентах) проданных игр по рейтингу в каждом регионе')\n",
        "plt.xlabel('рейтинг')\n",
        "plt.ylabel('Доля игр')\n",
        "plt.plot()"
      ],
      "execution_count": null,
      "outputs": [
        {
          "output_type": "execute_result",
          "data": {
            "text/plain": [
              "[]"
            ]
          },
          "metadata": {
            "tags": []
          },
          "execution_count": 59
        },
        {
          "output_type": "display_data",
          "data": {
            "image/png": "[encoded data removed]",
            "text/plain": [
              "<Figure size 648x360 with 1 Axes>"
            ]
          },
          "metadata": {
            "tags": [],
            "needs_background": "light"
          }
        }
      ]
    },
    {
      "cell_type": "markdown",
      "metadata": {
        "id": "8yTRHgE-7F9V"
      },
      "source": [
        "### Вывод:\n",
        "График распределения проданных игр по жанрам хорошо иллюстрирует, что в Европе и Америки продажи по рейтингам очень схожи друг с другом. Тут лидируют продажи игр для 17 и страше, а также для всех возрастов. В японии же продажи по всем рейтингам примерно одинаковые, чуть меньше приходится на игры для 10 лет и старше.\n",
        "Проанализировав данные по популярности игровых жанров в регионах, отметив тот факт, что Европа и Америка играет в экшен-игры, а Япония предпочитает ролевые игры.\n",
        "Что касается игровых платформ, в Америке наиболее популярна американская платформа Xbox 360, в Европе играют в японскую Playstation 4 и 3. В Японии почти половина проданных игр приходится на свою же Nintendo 3DS."
      ]
    },
    {
      "cell_type": "markdown",
      "metadata": {
        "id": "V4LXBdMc7F9W"
      },
      "source": [
        "## Шаг 5. Проверьте гипотезы\n",
        "<a id=\"hypotheses\"></a>"
      ]
    },
    {
      "cell_type": "markdown",
      "metadata": {
        "id": "BNZcgvta7F9X"
      },
      "source": [
        "Сформулируем нулевую гипотезу(Н0), что средние пользовательские рейтинги платформ Xbox One и PC одинаковые. Соответственно альтернативная гипотеза(Н1): средние пользовательские рейтинги платформ Xbox One и PC разные.\n",
        "<a id=\"platform_user_score\"></a>"
      ]
    },
    {
      "cell_type": "code",
      "metadata": {
        "id": "oxgPDdwX7F9X"
      },
      "source": [
        "xbox = new_data[(new_data['platform'] == 'XOne') & (new_data['user_score'] >= 0)]['user_score']\n",
        "pc = new_data[(new_data['platform'] == 'PC') & (new_data['user_score'] >= 0)]['user_score']"
      ],
      "execution_count": null,
      "outputs": []
    },
    {
      "cell_type": "markdown",
      "metadata": {
        "id": "9LXv0LR17F9Y"
      },
      "source": [
        "Найдем дисперсию выборок."
      ]
    },
    {
      "cell_type": "code",
      "metadata": {
        "id": "jbBwc63S7F9Y",
        "outputId": "650d2e3c-dede-435f-9b5b-bc6386b89139"
      },
      "source": [
        "xbox.var()"
      ],
      "execution_count": null,
      "outputs": [
        {
          "output_type": "execute_result",
          "data": {
            "text/plain": [
              "1.9069968429360695"
            ]
          },
          "metadata": {
            "tags": []
          },
          "execution_count": 61
        }
      ]
    },
    {
      "cell_type": "code",
      "metadata": {
        "id": "4fuG1IY27F9Z",
        "outputId": "4c5000a0-baa2-46ab-8ec5-e56b83c368c2"
      },
      "source": [
        "pc.var()"
      ],
      "execution_count": null,
      "outputs": [
        {
          "output_type": "execute_result",
          "data": {
            "text/plain": [
              "2.770443997158418"
            ]
          },
          "metadata": {
            "tags": []
          },
          "execution_count": 62
        }
      ]
    },
    {
      "cell_type": "markdown",
      "metadata": {
        "id": "v7BUmWqx7F9a"
      },
      "source": [
        "Проверим нулевую гипотезу."
      ]
    },
    {
      "cell_type": "code",
      "metadata": {
        "id": "3uAxPRra7F9a",
        "outputId": "09be39df-8d50-4b76-e93a-b45da4315bc4"
      },
      "source": [
        "result = st.ttest_ind(xbox, pc, equal_var=False)\n",
        "alpha = .05\n",
        "print('p-значение:', result.pvalue)\n",
        "if result.pvalue < alpha:\n",
        "    print('Отвергаем нулевую гипотезу')\n",
        "else:\n",
        "    print('Не получилось отвергнуть нулевую гипотезу')"
      ],
      "execution_count": null,
      "outputs": [
        {
          "output_type": "stream",
          "text": [
            "p-значение: 0.5489537965134912\n",
            "Не получилось отвергнуть нулевую гипотезу\n"
          ],
          "name": "stdout"
        }
      ]
    },
    {
      "cell_type": "code",
      "metadata": {
        "id": "bcqpwaCH7F9b",
        "outputId": "6fe2638f-7d4d-440d-f0ab-d0c818b547e7"
      },
      "source": [
        "plt.hist(xbox, color='r', alpha=0.5)\n",
        "plt.hist(pc, alpha=0.5, color='g')\n",
        "plt.title('Распределение оценок пользователей по платформам Xbox и PC')\n",
        "plt.show()"
      ],
      "execution_count": null,
      "outputs": [
        {
          "output_type": "display_data",
          "data": {
            "image/png": "[encoded data removed]",
            "text/plain": [
              "<Figure size 432x288 with 1 Axes>"
            ]
          },
          "metadata": {
            "tags": [],
            "needs_background": "light"
          }
        }
      ]
    },
    {
      "cell_type": "code",
      "metadata": {
        "id": "QX4mc_yt7F9c",
        "outputId": "83cfa841-7b1e-4325-9cbc-c57eca83cfdf"
      },
      "source": [
        "xbox.mean()"
      ],
      "execution_count": null,
      "outputs": [
        {
          "output_type": "execute_result",
          "data": {
            "text/plain": [
              "6.521428571428572"
            ]
          },
          "metadata": {
            "tags": []
          },
          "execution_count": 65
        }
      ]
    },
    {
      "cell_type": "code",
      "metadata": {
        "id": "-n0hMv6_7F9c",
        "outputId": "f4bbaa45-6537-4c6f-b8d4-8ebfa5dee7c0"
      },
      "source": [
        "pc.mean()"
      ],
      "execution_count": null,
      "outputs": [
        {
          "output_type": "execute_result",
          "data": {
            "text/plain": [
              "6.4286407766990274"
            ]
          },
          "metadata": {
            "tags": []
          },
          "execution_count": 66
        }
      ]
    },
    {
      "cell_type": "markdown",
      "metadata": {
        "id": "f5R3DgiD7F9d"
      },
      "source": [
        "Проверив гипотезу, можем сказать, что средние пользовательские рейтинги платформ Xbox One и PC одинаковые. График и средние выборки также иллюстрируют, что данные очень схожи между собой."
      ]
    },
    {
      "cell_type": "markdown",
      "metadata": {
        "id": "iRm5eD2M7F9e"
      },
      "source": [
        "Проверим нулевую гипотезу(Н0), что средние пользовательские рейтинги жанров Action (англ. «действие», экшен-игры) и Sports (англ. «спортивные соревнования») одинаковые. В качестве альтернативной гипотезы предположим, что средние пользовательские рейтинги представленных выше жанров разные.\n",
        "<a id=\"genre_user_score\"></a>"
      ]
    },
    {
      "cell_type": "code",
      "metadata": {
        "id": "i-gw8aKq7F9e"
      },
      "source": [
        "action = new_data[(new_data['genre'] == 'Action') & (new_data['user_score'] >= 0)]['user_score']\n",
        "sports = new_data[(new_data['genre'] == 'Sports') & (new_data['user_score'] >= 0)]['user_score']"
      ],
      "execution_count": null,
      "outputs": []
    },
    {
      "cell_type": "code",
      "metadata": {
        "id": "tHZMRnop7F9g",
        "outputId": "11504bea-1ce3-47b0-966f-0e4b510aff47"
      },
      "source": [
        "action.var()"
      ],
      "execution_count": null,
      "outputs": [
        {
          "output_type": "execute_result",
          "data": {
            "text/plain": [
              "1.8890840494348111"
            ]
          },
          "metadata": {
            "tags": []
          },
          "execution_count": 68
        }
      ]
    },
    {
      "cell_type": "code",
      "metadata": {
        "id": "gc-soUYs7F9h",
        "outputId": "1080996c-0517-4638-e808-6cb0b721e8bf"
      },
      "source": [
        "sports.var()"
      ],
      "execution_count": null,
      "outputs": [
        {
          "output_type": "execute_result",
          "data": {
            "text/plain": [
              "3.022890298704732"
            ]
          },
          "metadata": {
            "tags": []
          },
          "execution_count": 69
        }
      ]
    },
    {
      "cell_type": "code",
      "metadata": {
        "id": "4zb9X8h47F9h",
        "outputId": "364fc87e-4a22-4cff-99c8-5b90e0d1c654"
      },
      "source": [
        "results = st.ttest_ind(action, sports, equal_var=False)\n",
        "alpha = .05\n",
        "print('p-значение:', results.pvalue)\n",
        "if results.pvalue < alpha:\n",
        "    print('Отвергаем нулевую гипотезу')\n",
        "else:\n",
        "    print('Не получилось отвергнуть нулевую гипотезу')"
      ],
      "execution_count": null,
      "outputs": [
        {
          "output_type": "stream",
          "text": [
            "p-значение: 4.24307776572644e-20\n",
            "Отвергаем нулевую гипотезу\n"
          ],
          "name": "stdout"
        }
      ]
    },
    {
      "cell_type": "code",
      "metadata": {
        "id": "hgEVZ7Ji7F9i",
        "outputId": "c38479b1-849f-48b5-8eac-c51f4e697e09"
      },
      "source": [
        "plt.hist(action, color='r', alpha=0.7)\n",
        "plt.hist(sports, alpha=0.7, color='g')\n",
        "plt.title('Распределение оценок пользователей по играм жанром Экшен и Спорт')\n",
        "plt.show()"
      ],
      "execution_count": null,
      "outputs": [
        {
          "output_type": "display_data",
          "data": {
            "image/png": "[encoded data removed]",
            "text/plain": [
              "<Figure size 432x288 with 1 Axes>"
            ]
          },
          "metadata": {
            "tags": [],
            "needs_background": "light"
          }
        }
      ]
    },
    {
      "cell_type": "code",
      "metadata": {
        "id": "E25FRe-77F9j",
        "outputId": "7a71e5c3-9997-483a-84e6-2ae50cf0aa61"
      },
      "source": [
        "action.mean()"
      ],
      "execution_count": null,
      "outputs": [
        {
          "output_type": "execute_result",
          "data": {
            "text/plain": [
              "6.825047801147227"
            ]
          },
          "metadata": {
            "tags": []
          },
          "execution_count": 72
        }
      ]
    },
    {
      "cell_type": "code",
      "metadata": {
        "id": "LJv_GOc97F9k",
        "outputId": "dafae426-e54d-4c40-d6b7-311c65ec38e8"
      },
      "source": [
        "sports.mean()"
      ],
      "execution_count": null,
      "outputs": [
        {
          "output_type": "execute_result",
          "data": {
            "text/plain": [
              "5.455897435897437"
            ]
          },
          "metadata": {
            "tags": []
          },
          "execution_count": 73
        }
      ]
    },
    {
      "cell_type": "markdown",
      "metadata": {
        "id": "CQJCxXde7F9l"
      },
      "source": [
        "### Вывод:"
      ]
    },
    {
      "cell_type": "markdown",
      "metadata": {
        "id": "R7z4x_6d7F9l"
      },
      "source": [
        "Проверив две нулевые гипотезы, можем сказать, что средние пользовательские рейтинги игр на платформах Xbox One и PC одинаковые. А средние пользовательские рейтинги игр с жанрами экшен и спорт разные."
      ]
    },
    {
      "cell_type": "markdown",
      "metadata": {
        "id": "FgwSpVuy7F9m"
      },
      "source": [
        "## Шаг 6. Напишите общий вывод\n",
        "<a id=\"conclusion\"></a>"
      ]
    },
    {
      "cell_type": "markdown",
      "metadata": {
        "id": "jVeY6D4A7F9n"
      },
      "source": [
        "Подводя итог проведенного исследования можно сделать следующие выводы:\n",
        "- большая часть игр выпускалась в период с 2000 по 2010 года.\n",
        "- в последние несколько лет как продажи игр, так и их количество значительно уменьшилось. Период 2000-10-х годов можно назвать \"игровым бумом\", когда с развитием технологий стали появляться новые игровые платформы, каждая из которых стремилась завоевать своего потребителя, выпуская все новые и новые игры. В последние же годы, пусть игр стало и меньше, но вероятнее игры стали более качественнее и новые появляются уже не так часто, как раньше.\n",
        "- конечно, чтобы сделать точный вывод о причине снижения производства игр, нужно исследовать дополнительные данные, но попробуем предположить, что это связано с тем, что многие переходят на игры мобильных приложений, которые зачастую бесплатные. Также разработка игр стала занимать больше времени, графика, качество игры стало лучше. Кроме того время на прохождение игры с годами увеличивается, требуется больше времени, чтобы пройти игру, с чем может и быть связано уменьшение продаж.\n",
        "- По суммарным продажам за последние 5 лет лидируют игры платформ Sony PlayStation4 и 3, Xbox360 и Nintendo 3DS.\n",
        "- Что касается жанров, то здесь лидируют как по количеству игр, так и по продажам такие жанры, как экшен, ролевые, спортивные игры и стрелялки. Самые же непопулярные игры-головоломки.\n",
        "- В Америке почти четверть продаж игр приходится на принадлежащей Microsoft платформу Xbox 360. В Европе больше предпочитают японскую Sony PlayStation4. А в Японии предпочтение отдают играм на Nintendo 3DS, произведенной там же.\n",
        "- Проверив сформулированные гипотезы, можем сказать, что средние пользовательские рейтинги платформ Xbox One и PC одинаковые, а вот средние пользовательские рейтинги игр жанров экшен и спортивных игр разные.\n",
        "- Также мы исследовали, зависят ли продажи от оценок пользователей и критиков.В ходе анализа пришли к выводу, что оценки пользователей на продажи не влияют, о чем свидетельствует график рассеяния и показатель корреляции. А вот критикам пользователи доверяют и стараются покупать игры с более высокой оценкой критиков. \n",
        "    \n",
        "    Выводы по регионам: \n",
        "    \n",
        "    \n",
        "- Северная Америка\n",
        "\n",
        "По продажам первое место (1/4 всех продаж) занимает игровая платформа Xbox 360, принадлежащая компании Microsoft. 2,3 и 4 место с примерно одинаковыми долями продаж приходится на PlayStation4 и 3 и Xbox One.\n",
        "Тройку самых популярных жанров составляют экшен, стрелялки и спортивные игры. По рейтингу лидируют продажи игр для 17 лет и старше и для всех возрастов.\n",
        "\n",
        "- Европа\n",
        "\n",
        "Европейцы отдают предпочтения играм на японских платформах PlayStation4 и 3, на третьем месте американская платформа Xbox 360. \n",
        "Европа в плане жанров солидарна с Америкой. Здесь так же препочитают экшены, стрелялки и спортивные игры. Основная часть продаж приходится на игры с рейтингом 17 и старше и для всех возрастов.\n",
        "\n",
        "- Япония\n",
        "\n",
        "В Японии популярны платформы собственного производства. Почти половина всех проданных игр приходится на платформу Nintendo 3DS. На втором месте Sony PlayStation3 и на третьем Sony PlayStation Vita. Американские Xbox не входят в пятерку популярных игровых платформ у японцев.\n",
        "Что касается жанров, с большим отрывом лидируют ролевые и экшен игры. По жанрам продажи распределены примерно одинаково. Меньшая доля приходится на игры для 10 лет и старше."
      ]
    }
  ]
}