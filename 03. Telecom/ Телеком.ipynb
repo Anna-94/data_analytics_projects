{
  "nbformat": 4,
  "nbformat_minor": 0,
  "metadata": {
    "kernelspec": {
      "display_name": "Python 3",
      "language": "python",
      "name": "python3"
    },
    "language_info": {
      "codemirror_mode": {
        "name": "ipython",
        "version": 3
      },
      "file_extension": ".py",
      "mimetype": "text/x-python",
      "name": "python",
      "nbconvert_exporter": "python",
      "pygments_lexer": "ipython3",
      "version": "3.7.8"
    },
    "toc": {
      "base_numbering": 1,
      "nav_menu": {},
      "number_sections": true,
      "sideBar": true,
      "skip_h1_title": true,
      "title_cell": "Table of Contents",
      "title_sidebar": "Contents",
      "toc_cell": false,
      "toc_position": {},
      "toc_section_display": true,
      "toc_window_display": false
    },
    "colab": {
      "name": "Телеком.ipynb",
      "provenance": []
    }
  },
  "cells": [
    {
      "cell_type": "markdown",
      "metadata": {
        "id": "QIiLVZTfx2j9"
      },
      "source": [
        "# Определение перспективного тарифа для телеком компании"
      ]
    },
    {
      "cell_type": "code",
      "metadata": {
        "id": "YUH6D9hkx2kE"
      },
      "source": [
        "import pandas as pd\n",
        "import numpy as np\n",
        "from scipy import stats as st\n",
        "from math import factorial\n",
        "import matplotlib.pyplot as plt"
      ],
      "execution_count": null,
      "outputs": []
    },
    {
      "cell_type": "markdown",
      "metadata": {
        "id": "QeLfMOqfx2kG"
      },
      "source": [
        "Открыли необходимые для работы библиотеки"
      ]
    },
    {
      "cell_type": "markdown",
      "metadata": {
        "id": "y60EhBlhx2kI"
      },
      "source": [
        "## 1. Откроем файлы с данными и изучим общую информацию\n",
        "<a id= \"start\"></a>"
      ]
    },
    {
      "cell_type": "markdown",
      "metadata": {
        "id": "uGwBmB4Ox2kJ"
      },
      "source": [
        "Для исследования нам предоставлены 5 таблиц с данными о пользователях тарифов компании \"Мегалайн\". Откроем их и изучим общую информацию."
      ]
    },
    {
      "cell_type": "code",
      "metadata": {
        "id": "_khayQDKx2kK"
      },
      "source": [
        "data1 = pd.read_csv('/datasets/calls.csv')\n",
        "data2 = pd.read_csv('/datasets/internet.csv')\n",
        "data3 = pd.read_csv('/datasets/messages.csv')\n",
        "data4 = pd.read_csv('/datasets/tariffs.csv')\n",
        "data5 = pd.read_csv('/datasets/users.csv')"
      ],
      "execution_count": null,
      "outputs": []
    },
    {
      "cell_type": "code",
      "metadata": {
        "id": "C17cRK9Ax2kL",
        "outputId": "c23138c2-9b65-4a82-cca5-2d6f57b1f96c"
      },
      "source": [
        "data1.head()"
      ],
      "execution_count": null,
      "outputs": [
        {
          "output_type": "execute_result",
          "data": {
            "text/html": [
              "<div>\n",
              "<style scoped>\n",
              "    .dataframe tbody tr th:only-of-type {\n",
              "        vertical-align: middle;\n",
              "    }\n",
              "\n",
              "    .dataframe tbody tr th {\n",
              "        vertical-align: top;\n",
              "    }\n",
              "\n",
              "    .dataframe thead th {\n",
              "        text-align: right;\n",
              "    }\n",
              "</style>\n",
              "<table border=\"1\" class=\"dataframe\">\n",
              "  <thead>\n",
              "    <tr style=\"text-align: right;\">\n",
              "      <th></th>\n",
              "      <th>id</th>\n",
              "      <th>call_date</th>\n",
              "      <th>duration</th>\n",
              "      <th>user_id</th>\n",
              "    </tr>\n",
              "  </thead>\n",
              "  <tbody>\n",
              "    <tr>\n",
              "      <td>0</td>\n",
              "      <td>1000_0</td>\n",
              "      <td>2018-07-25</td>\n",
              "      <td>0.00</td>\n",
              "      <td>1000</td>\n",
              "    </tr>\n",
              "    <tr>\n",
              "      <td>1</td>\n",
              "      <td>1000_1</td>\n",
              "      <td>2018-08-17</td>\n",
              "      <td>0.00</td>\n",
              "      <td>1000</td>\n",
              "    </tr>\n",
              "    <tr>\n",
              "      <td>2</td>\n",
              "      <td>1000_2</td>\n",
              "      <td>2018-06-11</td>\n",
              "      <td>2.85</td>\n",
              "      <td>1000</td>\n",
              "    </tr>\n",
              "    <tr>\n",
              "      <td>3</td>\n",
              "      <td>1000_3</td>\n",
              "      <td>2018-09-21</td>\n",
              "      <td>13.80</td>\n",
              "      <td>1000</td>\n",
              "    </tr>\n",
              "    <tr>\n",
              "      <td>4</td>\n",
              "      <td>1000_4</td>\n",
              "      <td>2018-12-15</td>\n",
              "      <td>5.18</td>\n",
              "      <td>1000</td>\n",
              "    </tr>\n",
              "  </tbody>\n",
              "</table>\n",
              "</div>"
            ],
            "text/plain": [
              "       id   call_date  duration  user_id\n",
              "0  1000_0  2018-07-25      0.00     1000\n",
              "1  1000_1  2018-08-17      0.00     1000\n",
              "2  1000_2  2018-06-11      2.85     1000\n",
              "3  1000_3  2018-09-21     13.80     1000\n",
              "4  1000_4  2018-12-15      5.18     1000"
            ]
          },
          "metadata": {
            "tags": []
          },
          "execution_count": 3
        }
      ]
    },
    {
      "cell_type": "code",
      "metadata": {
        "id": "IEC4tecRx2kO",
        "outputId": "58109536-9063-44e0-8ae7-102f488c3108"
      },
      "source": [
        "data1.info()"
      ],
      "execution_count": null,
      "outputs": [
        {
          "output_type": "stream",
          "text": [
            "<class 'pandas.core.frame.DataFrame'>\n",
            "RangeIndex: 202607 entries, 0 to 202606\n",
            "Data columns (total 4 columns):\n",
            "id           202607 non-null object\n",
            "call_date    202607 non-null object\n",
            "duration     202607 non-null float64\n",
            "user_id      202607 non-null int64\n",
            "dtypes: float64(1), int64(1), object(2)\n",
            "memory usage: 6.2+ MB\n"
          ],
          "name": "stdout"
        }
      ]
    },
    {
      "cell_type": "markdown",
      "metadata": {
        "id": "fGgNp7I4x2kQ"
      },
      "source": [
        "Первая таблица содержит информацию о звонках пользователей, их продолжительности и дате, когда звонки были сделаны."
      ]
    },
    {
      "cell_type": "code",
      "metadata": {
        "id": "yiAYnBwXx2kR",
        "outputId": "ff387992-5771-41c7-f2d9-e916ad355aa7"
      },
      "source": [
        "data2.head()"
      ],
      "execution_count": null,
      "outputs": [
        {
          "output_type": "execute_result",
          "data": {
            "text/html": [
              "<div>\n",
              "<style scoped>\n",
              "    .dataframe tbody tr th:only-of-type {\n",
              "        vertical-align: middle;\n",
              "    }\n",
              "\n",
              "    .dataframe tbody tr th {\n",
              "        vertical-align: top;\n",
              "    }\n",
              "\n",
              "    .dataframe thead th {\n",
              "        text-align: right;\n",
              "    }\n",
              "</style>\n",
              "<table border=\"1\" class=\"dataframe\">\n",
              "  <thead>\n",
              "    <tr style=\"text-align: right;\">\n",
              "      <th></th>\n",
              "      <th>Unnamed: 0</th>\n",
              "      <th>id</th>\n",
              "      <th>mb_used</th>\n",
              "      <th>session_date</th>\n",
              "      <th>user_id</th>\n",
              "    </tr>\n",
              "  </thead>\n",
              "  <tbody>\n",
              "    <tr>\n",
              "      <td>0</td>\n",
              "      <td>0</td>\n",
              "      <td>1000_0</td>\n",
              "      <td>112.95</td>\n",
              "      <td>2018-11-25</td>\n",
              "      <td>1000</td>\n",
              "    </tr>\n",
              "    <tr>\n",
              "      <td>1</td>\n",
              "      <td>1</td>\n",
              "      <td>1000_1</td>\n",
              "      <td>1052.81</td>\n",
              "      <td>2018-09-07</td>\n",
              "      <td>1000</td>\n",
              "    </tr>\n",
              "    <tr>\n",
              "      <td>2</td>\n",
              "      <td>2</td>\n",
              "      <td>1000_2</td>\n",
              "      <td>1197.26</td>\n",
              "      <td>2018-06-25</td>\n",
              "      <td>1000</td>\n",
              "    </tr>\n",
              "    <tr>\n",
              "      <td>3</td>\n",
              "      <td>3</td>\n",
              "      <td>1000_3</td>\n",
              "      <td>550.27</td>\n",
              "      <td>2018-08-22</td>\n",
              "      <td>1000</td>\n",
              "    </tr>\n",
              "    <tr>\n",
              "      <td>4</td>\n",
              "      <td>4</td>\n",
              "      <td>1000_4</td>\n",
              "      <td>302.56</td>\n",
              "      <td>2018-09-24</td>\n",
              "      <td>1000</td>\n",
              "    </tr>\n",
              "  </tbody>\n",
              "</table>\n",
              "</div>"
            ],
            "text/plain": [
              "   Unnamed: 0      id  mb_used session_date  user_id\n",
              "0           0  1000_0   112.95   2018-11-25     1000\n",
              "1           1  1000_1  1052.81   2018-09-07     1000\n",
              "2           2  1000_2  1197.26   2018-06-25     1000\n",
              "3           3  1000_3   550.27   2018-08-22     1000\n",
              "4           4  1000_4   302.56   2018-09-24     1000"
            ]
          },
          "metadata": {
            "tags": []
          },
          "execution_count": 5
        }
      ]
    },
    {
      "cell_type": "code",
      "metadata": {
        "id": "DemM6Ut6x2kS",
        "outputId": "01f71881-97ea-4bb8-8782-0f37ea69828f"
      },
      "source": [
        "data2.info()"
      ],
      "execution_count": null,
      "outputs": [
        {
          "output_type": "stream",
          "text": [
            "<class 'pandas.core.frame.DataFrame'>\n",
            "RangeIndex: 149396 entries, 0 to 149395\n",
            "Data columns (total 5 columns):\n",
            "Unnamed: 0      149396 non-null int64\n",
            "id              149396 non-null object\n",
            "mb_used         149396 non-null float64\n",
            "session_date    149396 non-null object\n",
            "user_id         149396 non-null int64\n",
            "dtypes: float64(1), int64(2), object(2)\n",
            "memory usage: 5.7+ MB\n"
          ],
          "name": "stdout"
        }
      ]
    },
    {
      "cell_type": "markdown",
      "metadata": {
        "id": "hWx_9HYzx2kT"
      },
      "source": [
        "Во второй таблице хранится информация об использовании интернет-траффика так же по каждому пользователю с датой интенет-сессии и объемом потраченного за нее интернета(в мегабайтах)"
      ]
    },
    {
      "cell_type": "code",
      "metadata": {
        "id": "4t5HFzF-x2kU",
        "outputId": "ab93c3fe-d3f7-43b1-e00b-01c696ce0249"
      },
      "source": [
        "data3.head()"
      ],
      "execution_count": null,
      "outputs": [
        {
          "output_type": "execute_result",
          "data": {
            "text/html": [
              "<div>\n",
              "<style scoped>\n",
              "    .dataframe tbody tr th:only-of-type {\n",
              "        vertical-align: middle;\n",
              "    }\n",
              "\n",
              "    .dataframe tbody tr th {\n",
              "        vertical-align: top;\n",
              "    }\n",
              "\n",
              "    .dataframe thead th {\n",
              "        text-align: right;\n",
              "    }\n",
              "</style>\n",
              "<table border=\"1\" class=\"dataframe\">\n",
              "  <thead>\n",
              "    <tr style=\"text-align: right;\">\n",
              "      <th></th>\n",
              "      <th>id</th>\n",
              "      <th>message_date</th>\n",
              "      <th>user_id</th>\n",
              "    </tr>\n",
              "  </thead>\n",
              "  <tbody>\n",
              "    <tr>\n",
              "      <td>0</td>\n",
              "      <td>1000_0</td>\n",
              "      <td>2018-06-27</td>\n",
              "      <td>1000</td>\n",
              "    </tr>\n",
              "    <tr>\n",
              "      <td>1</td>\n",
              "      <td>1000_1</td>\n",
              "      <td>2018-10-08</td>\n",
              "      <td>1000</td>\n",
              "    </tr>\n",
              "    <tr>\n",
              "      <td>2</td>\n",
              "      <td>1000_2</td>\n",
              "      <td>2018-08-04</td>\n",
              "      <td>1000</td>\n",
              "    </tr>\n",
              "    <tr>\n",
              "      <td>3</td>\n",
              "      <td>1000_3</td>\n",
              "      <td>2018-06-16</td>\n",
              "      <td>1000</td>\n",
              "    </tr>\n",
              "    <tr>\n",
              "      <td>4</td>\n",
              "      <td>1000_4</td>\n",
              "      <td>2018-12-05</td>\n",
              "      <td>1000</td>\n",
              "    </tr>\n",
              "  </tbody>\n",
              "</table>\n",
              "</div>"
            ],
            "text/plain": [
              "       id message_date  user_id\n",
              "0  1000_0   2018-06-27     1000\n",
              "1  1000_1   2018-10-08     1000\n",
              "2  1000_2   2018-08-04     1000\n",
              "3  1000_3   2018-06-16     1000\n",
              "4  1000_4   2018-12-05     1000"
            ]
          },
          "metadata": {
            "tags": []
          },
          "execution_count": 7
        }
      ]
    },
    {
      "cell_type": "code",
      "metadata": {
        "id": "gfZlsKSox2kV",
        "outputId": "9a4540c0-9f16-4460-9d25-666b3240cfd2"
      },
      "source": [
        "data3.info()"
      ],
      "execution_count": null,
      "outputs": [
        {
          "output_type": "stream",
          "text": [
            "<class 'pandas.core.frame.DataFrame'>\n",
            "RangeIndex: 123036 entries, 0 to 123035\n",
            "Data columns (total 3 columns):\n",
            "id              123036 non-null object\n",
            "message_date    123036 non-null object\n",
            "user_id         123036 non-null int64\n",
            "dtypes: int64(1), object(2)\n",
            "memory usage: 2.8+ MB\n"
          ],
          "name": "stdout"
        }
      ]
    },
    {
      "cell_type": "markdown",
      "metadata": {
        "id": "BTbTcw6mx2kW"
      },
      "source": [
        "В третьей таблице представлена инфорация по дате отпраки пользователем сообщений."
      ]
    },
    {
      "cell_type": "code",
      "metadata": {
        "id": "_jsfogyQx2kX",
        "outputId": "5bbbf2de-2973-4b12-b31f-090a11b75edd"
      },
      "source": [
        "data4.head()"
      ],
      "execution_count": null,
      "outputs": [
        {
          "output_type": "execute_result",
          "data": {
            "text/html": [
              "<div>\n",
              "<style scoped>\n",
              "    .dataframe tbody tr th:only-of-type {\n",
              "        vertical-align: middle;\n",
              "    }\n",
              "\n",
              "    .dataframe tbody tr th {\n",
              "        vertical-align: top;\n",
              "    }\n",
              "\n",
              "    .dataframe thead th {\n",
              "        text-align: right;\n",
              "    }\n",
              "</style>\n",
              "<table border=\"1\" class=\"dataframe\">\n",
              "  <thead>\n",
              "    <tr style=\"text-align: right;\">\n",
              "      <th></th>\n",
              "      <th>messages_included</th>\n",
              "      <th>mb_per_month_included</th>\n",
              "      <th>minutes_included</th>\n",
              "      <th>rub_monthly_fee</th>\n",
              "      <th>rub_per_gb</th>\n",
              "      <th>rub_per_message</th>\n",
              "      <th>rub_per_minute</th>\n",
              "      <th>tariff_name</th>\n",
              "    </tr>\n",
              "  </thead>\n",
              "  <tbody>\n",
              "    <tr>\n",
              "      <td>0</td>\n",
              "      <td>50</td>\n",
              "      <td>15360</td>\n",
              "      <td>500</td>\n",
              "      <td>550</td>\n",
              "      <td>200</td>\n",
              "      <td>3</td>\n",
              "      <td>3</td>\n",
              "      <td>smart</td>\n",
              "    </tr>\n",
              "    <tr>\n",
              "      <td>1</td>\n",
              "      <td>1000</td>\n",
              "      <td>30720</td>\n",
              "      <td>3000</td>\n",
              "      <td>1950</td>\n",
              "      <td>150</td>\n",
              "      <td>1</td>\n",
              "      <td>1</td>\n",
              "      <td>ultra</td>\n",
              "    </tr>\n",
              "  </tbody>\n",
              "</table>\n",
              "</div>"
            ],
            "text/plain": [
              "   messages_included  mb_per_month_included  minutes_included  \\\n",
              "0                 50                  15360               500   \n",
              "1               1000                  30720              3000   \n",
              "\n",
              "   rub_monthly_fee  rub_per_gb  rub_per_message  rub_per_minute tariff_name  \n",
              "0              550         200                3               3       smart  \n",
              "1             1950         150                1               1       ultra  "
            ]
          },
          "metadata": {
            "tags": []
          },
          "execution_count": 9
        }
      ]
    },
    {
      "cell_type": "markdown",
      "metadata": {
        "id": "xMMsRYGIx2kZ"
      },
      "source": [
        "Четвертая таблица состоит из двух строк и содержит информацию об исследуемых тарифах, количествах смс, минут и интернета, входящего в абонентскую плату и стоимости их использования сверх тарифного плана."
      ]
    },
    {
      "cell_type": "code",
      "metadata": {
        "id": "SVM1eIIsx2ka",
        "outputId": "86a50f0a-f972-46ca-a9e9-9be4fed12f22"
      },
      "source": [
        "data5.head()"
      ],
      "execution_count": null,
      "outputs": [
        {
          "output_type": "execute_result",
          "data": {
            "text/html": [
              "<div>\n",
              "<style scoped>\n",
              "    .dataframe tbody tr th:only-of-type {\n",
              "        vertical-align: middle;\n",
              "    }\n",
              "\n",
              "    .dataframe tbody tr th {\n",
              "        vertical-align: top;\n",
              "    }\n",
              "\n",
              "    .dataframe thead th {\n",
              "        text-align: right;\n",
              "    }\n",
              "</style>\n",
              "<table border=\"1\" class=\"dataframe\">\n",
              "  <thead>\n",
              "    <tr style=\"text-align: right;\">\n",
              "      <th></th>\n",
              "      <th>user_id</th>\n",
              "      <th>age</th>\n",
              "      <th>churn_date</th>\n",
              "      <th>city</th>\n",
              "      <th>first_name</th>\n",
              "      <th>last_name</th>\n",
              "      <th>reg_date</th>\n",
              "      <th>tariff</th>\n",
              "    </tr>\n",
              "  </thead>\n",
              "  <tbody>\n",
              "    <tr>\n",
              "      <td>0</td>\n",
              "      <td>1000</td>\n",
              "      <td>52</td>\n",
              "      <td>NaN</td>\n",
              "      <td>Краснодар</td>\n",
              "      <td>Рафаил</td>\n",
              "      <td>Верещагин</td>\n",
              "      <td>2018-05-25</td>\n",
              "      <td>ultra</td>\n",
              "    </tr>\n",
              "    <tr>\n",
              "      <td>1</td>\n",
              "      <td>1001</td>\n",
              "      <td>41</td>\n",
              "      <td>NaN</td>\n",
              "      <td>Москва</td>\n",
              "      <td>Иван</td>\n",
              "      <td>Ежов</td>\n",
              "      <td>2018-11-01</td>\n",
              "      <td>smart</td>\n",
              "    </tr>\n",
              "    <tr>\n",
              "      <td>2</td>\n",
              "      <td>1002</td>\n",
              "      <td>59</td>\n",
              "      <td>NaN</td>\n",
              "      <td>Стерлитамак</td>\n",
              "      <td>Евгений</td>\n",
              "      <td>Абрамович</td>\n",
              "      <td>2018-06-17</td>\n",
              "      <td>smart</td>\n",
              "    </tr>\n",
              "    <tr>\n",
              "      <td>3</td>\n",
              "      <td>1003</td>\n",
              "      <td>23</td>\n",
              "      <td>NaN</td>\n",
              "      <td>Москва</td>\n",
              "      <td>Белла</td>\n",
              "      <td>Белякова</td>\n",
              "      <td>2018-08-17</td>\n",
              "      <td>ultra</td>\n",
              "    </tr>\n",
              "    <tr>\n",
              "      <td>4</td>\n",
              "      <td>1004</td>\n",
              "      <td>68</td>\n",
              "      <td>NaN</td>\n",
              "      <td>Новокузнецк</td>\n",
              "      <td>Татьяна</td>\n",
              "      <td>Авдеенко</td>\n",
              "      <td>2018-05-14</td>\n",
              "      <td>ultra</td>\n",
              "    </tr>\n",
              "  </tbody>\n",
              "</table>\n",
              "</div>"
            ],
            "text/plain": [
              "   user_id  age churn_date         city first_name  last_name    reg_date  \\\n",
              "0     1000   52        NaN    Краснодар     Рафаил  Верещагин  2018-05-25   \n",
              "1     1001   41        NaN       Москва       Иван       Ежов  2018-11-01   \n",
              "2     1002   59        NaN  Стерлитамак    Евгений  Абрамович  2018-06-17   \n",
              "3     1003   23        NaN       Москва      Белла   Белякова  2018-08-17   \n",
              "4     1004   68        NaN  Новокузнецк    Татьяна   Авдеенко  2018-05-14   \n",
              "\n",
              "  tariff  \n",
              "0  ultra  \n",
              "1  smart  \n",
              "2  smart  \n",
              "3  ultra  \n",
              "4  ultra  "
            ]
          },
          "metadata": {
            "tags": []
          },
          "execution_count": 10
        }
      ]
    },
    {
      "cell_type": "code",
      "metadata": {
        "id": "whgVd6XJx2kb",
        "outputId": "41ef7fff-8d13-42e8-e272-676523b5e664"
      },
      "source": [
        "data5.info()"
      ],
      "execution_count": null,
      "outputs": [
        {
          "output_type": "stream",
          "text": [
            "<class 'pandas.core.frame.DataFrame'>\n",
            "RangeIndex: 500 entries, 0 to 499\n",
            "Data columns (total 8 columns):\n",
            "user_id       500 non-null int64\n",
            "age           500 non-null int64\n",
            "churn_date    38 non-null object\n",
            "city          500 non-null object\n",
            "first_name    500 non-null object\n",
            "last_name     500 non-null object\n",
            "reg_date      500 non-null object\n",
            "tariff        500 non-null object\n",
            "dtypes: int64(2), object(6)\n",
            "memory usage: 31.4+ KB\n"
          ],
          "name": "stdout"
        }
      ]
    },
    {
      "cell_type": "markdown",
      "metadata": {
        "id": "omr06YUbx2kc"
      },
      "source": [
        "В пятой табице представлена информация о пользователях."
      ]
    },
    {
      "cell_type": "markdown",
      "metadata": {
        "id": "Rd-G85-Qx2kd"
      },
      "source": [
        "### Вывод:"
      ]
    },
    {
      "cell_type": "markdown",
      "metadata": {
        "id": "z_Cbhl9lx2kd"
      },
      "source": [
        "В первом пункте нашего исследования ознакомились с предоставленными таблицами. У нас имеется пять таблиц с данными о 500 пользователей тарифов компании \"Мегалайн\". Имеются данные о количестве отправленных смс, продолжительности звонков, объеме интернет-трафика, а также таблица с описанием тарифов \"Смарт\" и \"Ультра\". На основе этих данных проведем исследование и постараемся выяснить, какой тариф лучше и приносит компании больше денег."
      ]
    },
    {
      "cell_type": "markdown",
      "metadata": {
        "id": "mk1k2at6x2kf"
      },
      "source": [
        "## 2. Предобработка данных\n",
        "<a id= \"preprocessing\"></a>"
      ]
    },
    {
      "cell_type": "markdown",
      "metadata": {
        "id": "EFngkk-Kx2kg"
      },
      "source": [
        "При изучении информации о представленных нам таблицах, заметили, что все столбцы с данными о датах имеют тип object. Замеим его на тип datetime."
      ]
    },
    {
      "cell_type": "code",
      "metadata": {
        "id": "vdMdBONYx2kt"
      },
      "source": [
        "data1['call_date'] = pd.to_datetime(data1['call_date'], format='%Y-%m-%d')\n",
        "data2['session_date'] = pd.to_datetime(data2['session_date'], format='%Y-%m-%d')\n",
        "data3['message_date'] = pd.to_datetime(data3['message_date'], format='%Y-%m-%d')\n",
        "data5['churn_date'] = pd.to_datetime(data5['churn_date'], format='%Y-%m-%d')\n",
        "data5['reg_date'] = pd.to_datetime(data5['reg_date'], format='%Y-%m-%d')"
      ],
      "execution_count": null,
      "outputs": []
    },
    {
      "cell_type": "code",
      "metadata": {
        "id": "U8fWWgHFx2ku",
        "outputId": "f69ad47b-dc51-47ff-c07c-ed4dd5af320f"
      },
      "source": [
        "data1['duration'].hist()\n",
        "plt.title('Длительность звонков (в минутах)')\n",
        "plt.show()"
      ],
      "execution_count": null,
      "outputs": [
        {
          "output_type": "display_data",
          "data": {
            "image/png": "[encoded data removed]",
            "text/plain": [
              "<Figure size 432x288 with 1 Axes>"
            ]
          },
          "metadata": {
            "tags": [],
            "needs_background": "light"
          }
        }
      ]
    },
    {
      "cell_type": "code",
      "metadata": {
        "id": "Xl_3_b6Rx2kv",
        "outputId": "772d8236-071d-4e26-ffc5-ce4deb687f38"
      },
      "source": [
        "len(data1.query('duration == 0')) / len(data1)"
      ],
      "execution_count": null,
      "outputs": [
        {
          "output_type": "execute_result",
          "data": {
            "text/plain": [
              "0.19551644316336553"
            ]
          },
          "metadata": {
            "tags": []
          },
          "execution_count": 14
        }
      ]
    },
    {
      "cell_type": "markdown",
      "metadata": {
        "id": "rLEgLV7Sx2kx"
      },
      "source": [
        "Почти 20 процентов звонков по длительности равны нулю. Предположим, что это пропущенные звонки. Для нашего исследования убирать эти значения не будем, так как на результат они не повлияют (только на количество сделанных звонков). В ходе работы мы будем суммировать длительность звонков по каждому пользователю за месяц и исследовать уже суммированные данные."
      ]
    },
    {
      "cell_type": "code",
      "metadata": {
        "id": "6bXQl7WUx2ky"
      },
      "source": [
        "data1['duration'] = np.ceil(data1['duration'])\n",
        "data2['mb_used'] = np.ceil(data2['mb_used'])"
      ],
      "execution_count": null,
      "outputs": []
    },
    {
      "cell_type": "markdown",
      "metadata": {
        "id": "eMV4QZ4Ux2kz"
      },
      "source": [
        "Так как оператор округляет значения минут и мегабайтов вверх, обработали столбцы `duration` и `mb_used`."
      ]
    },
    {
      "cell_type": "code",
      "metadata": {
        "id": "lU_XPxnYx2k0"
      },
      "source": [
        "#data4.rename(columns={'tariff_name':'tariff'}, inplace=True)\n",
        "data4['tariff'] = data4['tariff_name']"
      ],
      "execution_count": null,
      "outputs": []
    },
    {
      "cell_type": "markdown",
      "metadata": {
        "id": "aRqT9ORwx2k1"
      },
      "source": [
        "В четвертой таблице переименовали столбец с названием тарифа с `tariff_name` на `tariff` для удобства последующего объединения таблиц. Так как в пятой таблице этот столбец имеет название `tariff`."
      ]
    },
    {
      "cell_type": "markdown",
      "metadata": {
        "id": "DDihblzPx2k4"
      },
      "source": [
        "### Вывод:"
      ]
    },
    {
      "cell_type": "markdown",
      "metadata": {
        "id": "VyHFXN2Wx2k5"
      },
      "source": [
        "В столбцах с датами изменили тип данных на datetime. Заметили, что пятая часть всех звонков имеет нулевую длительность. Пришли к выводу, что это пропущенные звонки. Решили данные оставить, так как сильно на результат исследования они не повлияют. Затем округлили данные по длительности звонков и объему интернет-трафика, так как оператор округляет значения минут и мегабайтов вверх до целого. Пропуски в представленных данных есть только в столбце `churn_date`, содержащем информацию о дате прекращения пользования тарифом. Заполнять эти пропуски не стали, так как столбе для исследования нам не понадобится."
      ]
    },
    {
      "cell_type": "markdown",
      "metadata": {
        "id": "GmJEu8Pwx2k6"
      },
      "source": [
        "## 3. Добавление новых данных\n",
        "<a id = \"newdata\" ></a>"
      ]
    },
    {
      "cell_type": "markdown",
      "metadata": {
        "id": "ONX6AEAvx2k7"
      },
      "source": [
        "Для начала исходя из данных столбца о датах создадим для таблиц с сообщениями, звонками и интернетом новый столбец с месяцем."
      ]
    },
    {
      "cell_type": "code",
      "metadata": {
        "id": "lV3twdX-x2k7"
      },
      "source": [
        "data1['month'] = data1['call_date'].dt.month\n",
        "data2['month'] = data2['session_date'].dt.month\n",
        "data3['month'] = data3['message_date'].dt.month"
      ],
      "execution_count": null,
      "outputs": []
    },
    {
      "cell_type": "markdown",
      "metadata": {
        "id": "ZY_SoPotx2k8"
      },
      "source": [
        "Сгруппируем данные по звонкам, продолжительности звонков, количеству смс и израсходованного интернет-трафика по id пользователей и месяцу. Сохраним эти данные в отдельные переменные"
      ]
    },
    {
      "cell_type": "code",
      "metadata": {
        "id": "mJKymdM8x2k8"
      },
      "source": [
        "calls = pd.DataFrame(data1.groupby(['user_id', 'month'])['id'].agg('count')).reset_index()"
      ],
      "execution_count": null,
      "outputs": []
    },
    {
      "cell_type": "code",
      "metadata": {
        "id": "XjpAubr0x2k9",
        "outputId": "93db40e8-8fd6-453f-dfd1-cf38cac3634e"
      },
      "source": [
        "calls"
      ],
      "execution_count": null,
      "outputs": [
        {
          "output_type": "execute_result",
          "data": {
            "text/html": [
              "<div>\n",
              "<style scoped>\n",
              "    .dataframe tbody tr th:only-of-type {\n",
              "        vertical-align: middle;\n",
              "    }\n",
              "\n",
              "    .dataframe tbody tr th {\n",
              "        vertical-align: top;\n",
              "    }\n",
              "\n",
              "    .dataframe thead th {\n",
              "        text-align: right;\n",
              "    }\n",
              "</style>\n",
              "<table border=\"1\" class=\"dataframe\">\n",
              "  <thead>\n",
              "    <tr style=\"text-align: right;\">\n",
              "      <th></th>\n",
              "      <th>user_id</th>\n",
              "      <th>month</th>\n",
              "      <th>id</th>\n",
              "    </tr>\n",
              "  </thead>\n",
              "  <tbody>\n",
              "    <tr>\n",
              "      <td>0</td>\n",
              "      <td>1000</td>\n",
              "      <td>5</td>\n",
              "      <td>22</td>\n",
              "    </tr>\n",
              "    <tr>\n",
              "      <td>1</td>\n",
              "      <td>1000</td>\n",
              "      <td>6</td>\n",
              "      <td>43</td>\n",
              "    </tr>\n",
              "    <tr>\n",
              "      <td>2</td>\n",
              "      <td>1000</td>\n",
              "      <td>7</td>\n",
              "      <td>47</td>\n",
              "    </tr>\n",
              "    <tr>\n",
              "      <td>3</td>\n",
              "      <td>1000</td>\n",
              "      <td>8</td>\n",
              "      <td>52</td>\n",
              "    </tr>\n",
              "    <tr>\n",
              "      <td>4</td>\n",
              "      <td>1000</td>\n",
              "      <td>9</td>\n",
              "      <td>58</td>\n",
              "    </tr>\n",
              "    <tr>\n",
              "      <td>...</td>\n",
              "      <td>...</td>\n",
              "      <td>...</td>\n",
              "      <td>...</td>\n",
              "    </tr>\n",
              "    <tr>\n",
              "      <td>3169</td>\n",
              "      <td>1498</td>\n",
              "      <td>10</td>\n",
              "      <td>41</td>\n",
              "    </tr>\n",
              "    <tr>\n",
              "      <td>3170</td>\n",
              "      <td>1499</td>\n",
              "      <td>9</td>\n",
              "      <td>9</td>\n",
              "    </tr>\n",
              "    <tr>\n",
              "      <td>3171</td>\n",
              "      <td>1499</td>\n",
              "      <td>10</td>\n",
              "      <td>68</td>\n",
              "    </tr>\n",
              "    <tr>\n",
              "      <td>3172</td>\n",
              "      <td>1499</td>\n",
              "      <td>11</td>\n",
              "      <td>74</td>\n",
              "    </tr>\n",
              "    <tr>\n",
              "      <td>3173</td>\n",
              "      <td>1499</td>\n",
              "      <td>12</td>\n",
              "      <td>69</td>\n",
              "    </tr>\n",
              "  </tbody>\n",
              "</table>\n",
              "<p>3174 rows × 3 columns</p>\n",
              "</div>"
            ],
            "text/plain": [
              "      user_id  month  id\n",
              "0        1000      5  22\n",
              "1        1000      6  43\n",
              "2        1000      7  47\n",
              "3        1000      8  52\n",
              "4        1000      9  58\n",
              "...       ...    ...  ..\n",
              "3169     1498     10  41\n",
              "3170     1499      9   9\n",
              "3171     1499     10  68\n",
              "3172     1499     11  74\n",
              "3173     1499     12  69\n",
              "\n",
              "[3174 rows x 3 columns]"
            ]
          },
          "metadata": {
            "tags": []
          },
          "execution_count": 19
        }
      ]
    },
    {
      "cell_type": "code",
      "metadata": {
        "id": "L9N5Rt61x2k-",
        "outputId": "293054c8-3784-4a1b-eea8-7c4ba4dfe0c2"
      },
      "source": [
        "calls.rename(columns={'id':'calls'}, inplace=True)\n",
        "calls.columns"
      ],
      "execution_count": null,
      "outputs": [
        {
          "output_type": "execute_result",
          "data": {
            "text/plain": [
              "Index(['user_id', 'month', 'calls'], dtype='object')"
            ]
          },
          "metadata": {
            "tags": []
          },
          "execution_count": 20
        }
      ]
    },
    {
      "cell_type": "code",
      "metadata": {
        "id": "dU_vUeCkx2k_",
        "outputId": "d79f5a76-571d-42aa-e158-d88d88bc1fa5"
      },
      "source": [
        "minutes = pd.DataFrame(data1.groupby(['user_id', 'month'])['duration'].agg('sum')).reset_index()\n",
        "minutes"
      ],
      "execution_count": null,
      "outputs": [
        {
          "output_type": "execute_result",
          "data": {
            "text/html": [
              "<div>\n",
              "<style scoped>\n",
              "    .dataframe tbody tr th:only-of-type {\n",
              "        vertical-align: middle;\n",
              "    }\n",
              "\n",
              "    .dataframe tbody tr th {\n",
              "        vertical-align: top;\n",
              "    }\n",
              "\n",
              "    .dataframe thead th {\n",
              "        text-align: right;\n",
              "    }\n",
              "</style>\n",
              "<table border=\"1\" class=\"dataframe\">\n",
              "  <thead>\n",
              "    <tr style=\"text-align: right;\">\n",
              "      <th></th>\n",
              "      <th>user_id</th>\n",
              "      <th>month</th>\n",
              "      <th>duration</th>\n",
              "    </tr>\n",
              "  </thead>\n",
              "  <tbody>\n",
              "    <tr>\n",
              "      <td>0</td>\n",
              "      <td>1000</td>\n",
              "      <td>5</td>\n",
              "      <td>159.0</td>\n",
              "    </tr>\n",
              "    <tr>\n",
              "      <td>1</td>\n",
              "      <td>1000</td>\n",
              "      <td>6</td>\n",
              "      <td>172.0</td>\n",
              "    </tr>\n",
              "    <tr>\n",
              "      <td>2</td>\n",
              "      <td>1000</td>\n",
              "      <td>7</td>\n",
              "      <td>340.0</td>\n",
              "    </tr>\n",
              "    <tr>\n",
              "      <td>3</td>\n",
              "      <td>1000</td>\n",
              "      <td>8</td>\n",
              "      <td>408.0</td>\n",
              "    </tr>\n",
              "    <tr>\n",
              "      <td>4</td>\n",
              "      <td>1000</td>\n",
              "      <td>9</td>\n",
              "      <td>466.0</td>\n",
              "    </tr>\n",
              "    <tr>\n",
              "      <td>...</td>\n",
              "      <td>...</td>\n",
              "      <td>...</td>\n",
              "      <td>...</td>\n",
              "    </tr>\n",
              "    <tr>\n",
              "      <td>3169</td>\n",
              "      <td>1498</td>\n",
              "      <td>10</td>\n",
              "      <td>247.0</td>\n",
              "    </tr>\n",
              "    <tr>\n",
              "      <td>3170</td>\n",
              "      <td>1499</td>\n",
              "      <td>9</td>\n",
              "      <td>70.0</td>\n",
              "    </tr>\n",
              "    <tr>\n",
              "      <td>3171</td>\n",
              "      <td>1499</td>\n",
              "      <td>10</td>\n",
              "      <td>449.0</td>\n",
              "    </tr>\n",
              "    <tr>\n",
              "      <td>3172</td>\n",
              "      <td>1499</td>\n",
              "      <td>11</td>\n",
              "      <td>612.0</td>\n",
              "    </tr>\n",
              "    <tr>\n",
              "      <td>3173</td>\n",
              "      <td>1499</td>\n",
              "      <td>12</td>\n",
              "      <td>492.0</td>\n",
              "    </tr>\n",
              "  </tbody>\n",
              "</table>\n",
              "<p>3174 rows × 3 columns</p>\n",
              "</div>"
            ],
            "text/plain": [
              "      user_id  month  duration\n",
              "0        1000      5     159.0\n",
              "1        1000      6     172.0\n",
              "2        1000      7     340.0\n",
              "3        1000      8     408.0\n",
              "4        1000      9     466.0\n",
              "...       ...    ...       ...\n",
              "3169     1498     10     247.0\n",
              "3170     1499      9      70.0\n",
              "3171     1499     10     449.0\n",
              "3172     1499     11     612.0\n",
              "3173     1499     12     492.0\n",
              "\n",
              "[3174 rows x 3 columns]"
            ]
          },
          "metadata": {
            "tags": []
          },
          "execution_count": 21
        }
      ]
    },
    {
      "cell_type": "code",
      "metadata": {
        "id": "ma8ob6Q4x2lA",
        "outputId": "61326dc3-be2e-4f38-9f82-9e56c90b39d7"
      },
      "source": [
        "messages = pd.DataFrame(data3.groupby(['user_id', 'month'])['id'].agg('count')).reset_index()\n",
        "messages"
      ],
      "execution_count": null,
      "outputs": [
        {
          "output_type": "execute_result",
          "data": {
            "text/html": [
              "<div>\n",
              "<style scoped>\n",
              "    .dataframe tbody tr th:only-of-type {\n",
              "        vertical-align: middle;\n",
              "    }\n",
              "\n",
              "    .dataframe tbody tr th {\n",
              "        vertical-align: top;\n",
              "    }\n",
              "\n",
              "    .dataframe thead th {\n",
              "        text-align: right;\n",
              "    }\n",
              "</style>\n",
              "<table border=\"1\" class=\"dataframe\">\n",
              "  <thead>\n",
              "    <tr style=\"text-align: right;\">\n",
              "      <th></th>\n",
              "      <th>user_id</th>\n",
              "      <th>month</th>\n",
              "      <th>id</th>\n",
              "    </tr>\n",
              "  </thead>\n",
              "  <tbody>\n",
              "    <tr>\n",
              "      <td>0</td>\n",
              "      <td>1000</td>\n",
              "      <td>5</td>\n",
              "      <td>22</td>\n",
              "    </tr>\n",
              "    <tr>\n",
              "      <td>1</td>\n",
              "      <td>1000</td>\n",
              "      <td>6</td>\n",
              "      <td>60</td>\n",
              "    </tr>\n",
              "    <tr>\n",
              "      <td>2</td>\n",
              "      <td>1000</td>\n",
              "      <td>7</td>\n",
              "      <td>75</td>\n",
              "    </tr>\n",
              "    <tr>\n",
              "      <td>3</td>\n",
              "      <td>1000</td>\n",
              "      <td>8</td>\n",
              "      <td>81</td>\n",
              "    </tr>\n",
              "    <tr>\n",
              "      <td>4</td>\n",
              "      <td>1000</td>\n",
              "      <td>9</td>\n",
              "      <td>57</td>\n",
              "    </tr>\n",
              "    <tr>\n",
              "      <td>...</td>\n",
              "      <td>...</td>\n",
              "      <td>...</td>\n",
              "      <td>...</td>\n",
              "    </tr>\n",
              "    <tr>\n",
              "      <td>2712</td>\n",
              "      <td>1498</td>\n",
              "      <td>10</td>\n",
              "      <td>42</td>\n",
              "    </tr>\n",
              "    <tr>\n",
              "      <td>2713</td>\n",
              "      <td>1499</td>\n",
              "      <td>9</td>\n",
              "      <td>11</td>\n",
              "    </tr>\n",
              "    <tr>\n",
              "      <td>2714</td>\n",
              "      <td>1499</td>\n",
              "      <td>10</td>\n",
              "      <td>48</td>\n",
              "    </tr>\n",
              "    <tr>\n",
              "      <td>2715</td>\n",
              "      <td>1499</td>\n",
              "      <td>11</td>\n",
              "      <td>59</td>\n",
              "    </tr>\n",
              "    <tr>\n",
              "      <td>2716</td>\n",
              "      <td>1499</td>\n",
              "      <td>12</td>\n",
              "      <td>66</td>\n",
              "    </tr>\n",
              "  </tbody>\n",
              "</table>\n",
              "<p>2717 rows × 3 columns</p>\n",
              "</div>"
            ],
            "text/plain": [
              "      user_id  month  id\n",
              "0        1000      5  22\n",
              "1        1000      6  60\n",
              "2        1000      7  75\n",
              "3        1000      8  81\n",
              "4        1000      9  57\n",
              "...       ...    ...  ..\n",
              "2712     1498     10  42\n",
              "2713     1499      9  11\n",
              "2714     1499     10  48\n",
              "2715     1499     11  59\n",
              "2716     1499     12  66\n",
              "\n",
              "[2717 rows x 3 columns]"
            ]
          },
          "metadata": {
            "tags": []
          },
          "execution_count": 22
        }
      ]
    },
    {
      "cell_type": "code",
      "metadata": {
        "id": "5iY8S9FKx2lB",
        "outputId": "2c8cd4ee-2e03-4752-e510-a928c59cfda9"
      },
      "source": [
        "messages.rename(columns={'id':'sms'}, inplace=True)\n",
        "messages.columns"
      ],
      "execution_count": null,
      "outputs": [
        {
          "output_type": "execute_result",
          "data": {
            "text/plain": [
              "Index(['user_id', 'month', 'sms'], dtype='object')"
            ]
          },
          "metadata": {
            "tags": []
          },
          "execution_count": 23
        }
      ]
    },
    {
      "cell_type": "code",
      "metadata": {
        "id": "NUQtQtvUx2lC",
        "outputId": "b1fa4594-0f30-4022-fcef-d74806a692cc"
      },
      "source": [
        "internet = pd.DataFrame(data2.groupby(['user_id', 'month'])['mb_used'].agg('sum')).reset_index()\n",
        "internet"
      ],
      "execution_count": null,
      "outputs": [
        {
          "output_type": "execute_result",
          "data": {
            "text/html": [
              "<div>\n",
              "<style scoped>\n",
              "    .dataframe tbody tr th:only-of-type {\n",
              "        vertical-align: middle;\n",
              "    }\n",
              "\n",
              "    .dataframe tbody tr th {\n",
              "        vertical-align: top;\n",
              "    }\n",
              "\n",
              "    .dataframe thead th {\n",
              "        text-align: right;\n",
              "    }\n",
              "</style>\n",
              "<table border=\"1\" class=\"dataframe\">\n",
              "  <thead>\n",
              "    <tr style=\"text-align: right;\">\n",
              "      <th></th>\n",
              "      <th>user_id</th>\n",
              "      <th>month</th>\n",
              "      <th>mb_used</th>\n",
              "    </tr>\n",
              "  </thead>\n",
              "  <tbody>\n",
              "    <tr>\n",
              "      <td>0</td>\n",
              "      <td>1000</td>\n",
              "      <td>5</td>\n",
              "      <td>2256.0</td>\n",
              "    </tr>\n",
              "    <tr>\n",
              "      <td>1</td>\n",
              "      <td>1000</td>\n",
              "      <td>6</td>\n",
              "      <td>23257.0</td>\n",
              "    </tr>\n",
              "    <tr>\n",
              "      <td>2</td>\n",
              "      <td>1000</td>\n",
              "      <td>7</td>\n",
              "      <td>14016.0</td>\n",
              "    </tr>\n",
              "    <tr>\n",
              "      <td>3</td>\n",
              "      <td>1000</td>\n",
              "      <td>8</td>\n",
              "      <td>14070.0</td>\n",
              "    </tr>\n",
              "    <tr>\n",
              "      <td>4</td>\n",
              "      <td>1000</td>\n",
              "      <td>9</td>\n",
              "      <td>14581.0</td>\n",
              "    </tr>\n",
              "    <tr>\n",
              "      <td>...</td>\n",
              "      <td>...</td>\n",
              "      <td>...</td>\n",
              "      <td>...</td>\n",
              "    </tr>\n",
              "    <tr>\n",
              "      <td>3198</td>\n",
              "      <td>1498</td>\n",
              "      <td>10</td>\n",
              "      <td>20604.0</td>\n",
              "    </tr>\n",
              "    <tr>\n",
              "      <td>3199</td>\n",
              "      <td>1499</td>\n",
              "      <td>9</td>\n",
              "      <td>1848.0</td>\n",
              "    </tr>\n",
              "    <tr>\n",
              "      <td>3200</td>\n",
              "      <td>1499</td>\n",
              "      <td>10</td>\n",
              "      <td>17809.0</td>\n",
              "    </tr>\n",
              "    <tr>\n",
              "      <td>3201</td>\n",
              "      <td>1499</td>\n",
              "      <td>11</td>\n",
              "      <td>17984.0</td>\n",
              "    </tr>\n",
              "    <tr>\n",
              "      <td>3202</td>\n",
              "      <td>1499</td>\n",
              "      <td>12</td>\n",
              "      <td>13077.0</td>\n",
              "    </tr>\n",
              "  </tbody>\n",
              "</table>\n",
              "<p>3203 rows × 3 columns</p>\n",
              "</div>"
            ],
            "text/plain": [
              "      user_id  month  mb_used\n",
              "0        1000      5   2256.0\n",
              "1        1000      6  23257.0\n",
              "2        1000      7  14016.0\n",
              "3        1000      8  14070.0\n",
              "4        1000      9  14581.0\n",
              "...       ...    ...      ...\n",
              "3198     1498     10  20604.0\n",
              "3199     1499      9   1848.0\n",
              "3200     1499     10  17809.0\n",
              "3201     1499     11  17984.0\n",
              "3202     1499     12  13077.0\n",
              "\n",
              "[3203 rows x 3 columns]"
            ]
          },
          "metadata": {
            "tags": []
          },
          "execution_count": 24
        }
      ]
    },
    {
      "cell_type": "markdown",
      "metadata": {
        "id": "GLuGDZ72x2lD"
      },
      "source": [
        "### Объединим все сгруппированные таблицы и данные по тарифам и пользователям в одну "
      ]
    },
    {
      "cell_type": "code",
      "metadata": {
        "id": "Ybx4SYTkx2lD"
      },
      "source": [
        "df = minutes.merge(\n",
        "    calls, on=['user_id', 'month'], how='left').merge(\n",
        "    messages, on=['user_id', 'month'], how='left').merge(\n",
        "    internet, on=['user_id', 'month'], how='left').merge(\n",
        "    data5, on='user_id', how='right').merge(data4, on='tariff', how='left')\n"
      ],
      "execution_count": null,
      "outputs": []
    },
    {
      "cell_type": "code",
      "metadata": {
        "id": "BQTBH5_fx2lG",
        "outputId": "eca272ef-588f-499f-d39b-5af4ea512852"
      },
      "source": [
        "df.sample(5)"
      ],
      "execution_count": null,
      "outputs": [
        {
          "output_type": "execute_result",
          "data": {
            "text/html": [
              "<div>\n",
              "<style scoped>\n",
              "    .dataframe tbody tr th:only-of-type {\n",
              "        vertical-align: middle;\n",
              "    }\n",
              "\n",
              "    .dataframe tbody tr th {\n",
              "        vertical-align: top;\n",
              "    }\n",
              "\n",
              "    .dataframe thead th {\n",
              "        text-align: right;\n",
              "    }\n",
              "</style>\n",
              "<table border=\"1\" class=\"dataframe\">\n",
              "  <thead>\n",
              "    <tr style=\"text-align: right;\">\n",
              "      <th></th>\n",
              "      <th>user_id</th>\n",
              "      <th>month</th>\n",
              "      <th>duration</th>\n",
              "      <th>calls</th>\n",
              "      <th>sms</th>\n",
              "      <th>mb_used</th>\n",
              "      <th>age</th>\n",
              "      <th>churn_date</th>\n",
              "      <th>city</th>\n",
              "      <th>first_name</th>\n",
              "      <th>...</th>\n",
              "      <th>reg_date</th>\n",
              "      <th>tariff</th>\n",
              "      <th>messages_included</th>\n",
              "      <th>mb_per_month_included</th>\n",
              "      <th>minutes_included</th>\n",
              "      <th>rub_monthly_fee</th>\n",
              "      <th>rub_per_gb</th>\n",
              "      <th>rub_per_message</th>\n",
              "      <th>rub_per_minute</th>\n",
              "      <th>tariff_name</th>\n",
              "    </tr>\n",
              "  </thead>\n",
              "  <tbody>\n",
              "    <tr>\n",
              "      <td>2128</td>\n",
              "      <td>1340</td>\n",
              "      <td>2.0</td>\n",
              "      <td>425.0</td>\n",
              "      <td>56.0</td>\n",
              "      <td>7.0</td>\n",
              "      <td>16842.0</td>\n",
              "      <td>50</td>\n",
              "      <td>NaT</td>\n",
              "      <td>Пенза</td>\n",
              "      <td>Тимофей</td>\n",
              "      <td>...</td>\n",
              "      <td>2018-01-30</td>\n",
              "      <td>smart</td>\n",
              "      <td>50</td>\n",
              "      <td>15360</td>\n",
              "      <td>500</td>\n",
              "      <td>550</td>\n",
              "      <td>200</td>\n",
              "      <td>3</td>\n",
              "      <td>3</td>\n",
              "      <td>smart</td>\n",
              "    </tr>\n",
              "    <tr>\n",
              "      <td>1110</td>\n",
              "      <td>1176</td>\n",
              "      <td>8.0</td>\n",
              "      <td>432.0</td>\n",
              "      <td>56.0</td>\n",
              "      <td>40.0</td>\n",
              "      <td>14435.0</td>\n",
              "      <td>37</td>\n",
              "      <td>NaT</td>\n",
              "      <td>Волгоград</td>\n",
              "      <td>Радим</td>\n",
              "      <td>...</td>\n",
              "      <td>2018-01-20</td>\n",
              "      <td>smart</td>\n",
              "      <td>50</td>\n",
              "      <td>15360</td>\n",
              "      <td>500</td>\n",
              "      <td>550</td>\n",
              "      <td>200</td>\n",
              "      <td>3</td>\n",
              "      <td>3</td>\n",
              "      <td>smart</td>\n",
              "    </tr>\n",
              "    <tr>\n",
              "      <td>70</td>\n",
              "      <td>1009</td>\n",
              "      <td>10.0</td>\n",
              "      <td>213.0</td>\n",
              "      <td>28.0</td>\n",
              "      <td>15.0</td>\n",
              "      <td>20112.0</td>\n",
              "      <td>24</td>\n",
              "      <td>NaT</td>\n",
              "      <td>Пермь</td>\n",
              "      <td>Василиса</td>\n",
              "      <td>...</td>\n",
              "      <td>2018-03-22</td>\n",
              "      <td>smart</td>\n",
              "      <td>50</td>\n",
              "      <td>15360</td>\n",
              "      <td>500</td>\n",
              "      <td>550</td>\n",
              "      <td>200</td>\n",
              "      <td>3</td>\n",
              "      <td>3</td>\n",
              "      <td>smart</td>\n",
              "    </tr>\n",
              "    <tr>\n",
              "      <td>172</td>\n",
              "      <td>1026</td>\n",
              "      <td>11.0</td>\n",
              "      <td>469.0</td>\n",
              "      <td>61.0</td>\n",
              "      <td>48.0</td>\n",
              "      <td>12204.0</td>\n",
              "      <td>32</td>\n",
              "      <td>NaT</td>\n",
              "      <td>Мурманск</td>\n",
              "      <td>Евгений</td>\n",
              "      <td>...</td>\n",
              "      <td>2018-10-06</td>\n",
              "      <td>smart</td>\n",
              "      <td>50</td>\n",
              "      <td>15360</td>\n",
              "      <td>500</td>\n",
              "      <td>550</td>\n",
              "      <td>200</td>\n",
              "      <td>3</td>\n",
              "      <td>3</td>\n",
              "      <td>smart</td>\n",
              "    </tr>\n",
              "    <tr>\n",
              "      <td>1341</td>\n",
              "      <td>1212</td>\n",
              "      <td>12.0</td>\n",
              "      <td>443.0</td>\n",
              "      <td>72.0</td>\n",
              "      <td>129.0</td>\n",
              "      <td>21762.0</td>\n",
              "      <td>21</td>\n",
              "      <td>NaT</td>\n",
              "      <td>Саранск</td>\n",
              "      <td>Руслан</td>\n",
              "      <td>...</td>\n",
              "      <td>2018-11-09</td>\n",
              "      <td>smart</td>\n",
              "      <td>50</td>\n",
              "      <td>15360</td>\n",
              "      <td>500</td>\n",
              "      <td>550</td>\n",
              "      <td>200</td>\n",
              "      <td>3</td>\n",
              "      <td>3</td>\n",
              "      <td>smart</td>\n",
              "    </tr>\n",
              "  </tbody>\n",
              "</table>\n",
              "<p>5 rows × 21 columns</p>\n",
              "</div>"
            ],
            "text/plain": [
              "      user_id  month  duration  calls    sms  mb_used  age churn_date  \\\n",
              "2128     1340    2.0     425.0   56.0    7.0  16842.0   50        NaT   \n",
              "1110     1176    8.0     432.0   56.0   40.0  14435.0   37        NaT   \n",
              "70       1009   10.0     213.0   28.0   15.0  20112.0   24        NaT   \n",
              "172      1026   11.0     469.0   61.0   48.0  12204.0   32        NaT   \n",
              "1341     1212   12.0     443.0   72.0  129.0  21762.0   21        NaT   \n",
              "\n",
              "           city first_name  ...   reg_date tariff messages_included  \\\n",
              "2128      Пенза    Тимофей  ... 2018-01-30  smart                50   \n",
              "1110  Волгоград      Радим  ... 2018-01-20  smart                50   \n",
              "70        Пермь   Василиса  ... 2018-03-22  smart                50   \n",
              "172    Мурманск    Евгений  ... 2018-10-06  smart                50   \n",
              "1341    Саранск     Руслан  ... 2018-11-09  smart                50   \n",
              "\n",
              "      mb_per_month_included  minutes_included  rub_monthly_fee  rub_per_gb  \\\n",
              "2128                  15360               500              550         200   \n",
              "1110                  15360               500              550         200   \n",
              "70                    15360               500              550         200   \n",
              "172                   15360               500              550         200   \n",
              "1341                  15360               500              550         200   \n",
              "\n",
              "      rub_per_message  rub_per_minute  tariff_name  \n",
              "2128                3               3        smart  \n",
              "1110                3               3        smart  \n",
              "70                  3               3        smart  \n",
              "172                 3               3        smart  \n",
              "1341                3               3        smart  \n",
              "\n",
              "[5 rows x 21 columns]"
            ]
          },
          "metadata": {
            "tags": []
          },
          "execution_count": 26
        }
      ]
    },
    {
      "cell_type": "code",
      "metadata": {
        "id": "hY06IMZGx2lR",
        "outputId": "77dce160-26db-481e-ee95-f88607c2fc39"
      },
      "source": [
        "len(df['user_id'].unique())"
      ],
      "execution_count": null,
      "outputs": [
        {
          "output_type": "execute_result",
          "data": {
            "text/plain": [
              "500"
            ]
          },
          "metadata": {
            "tags": []
          },
          "execution_count": 27
        }
      ]
    },
    {
      "cell_type": "code",
      "metadata": {
        "id": "TuJMDAOsx2lV",
        "outputId": "16c215df-2e91-4d6d-b50a-73b1e8428bc0"
      },
      "source": [
        "print(f'Количество пользователей: {df.user_id.nunique()}')"
      ],
      "execution_count": null,
      "outputs": [
        {
          "output_type": "stream",
          "text": [
            "Количество пользователей: 500\n"
          ],
          "name": "stdout"
        }
      ]
    },
    {
      "cell_type": "code",
      "metadata": {
        "id": "6Ak-_DDcx2lV",
        "outputId": "e6564565-fdf1-40cc-e2d6-d66c5676d1f6"
      },
      "source": [
        "df.isnull().sum()"
      ],
      "execution_count": null,
      "outputs": [
        {
          "output_type": "execute_result",
          "data": {
            "text/plain": [
              "user_id                     0\n",
              "month                       8\n",
              "duration                    8\n",
              "calls                       8\n",
              "sms                       504\n",
              "mb_used                    19\n",
              "age                         0\n",
              "churn_date               2993\n",
              "city                        0\n",
              "first_name                  0\n",
              "last_name                   0\n",
              "reg_date                    0\n",
              "tariff                      0\n",
              "messages_included           0\n",
              "mb_per_month_included       0\n",
              "minutes_included            0\n",
              "rub_monthly_fee             0\n",
              "rub_per_gb                  0\n",
              "rub_per_message             0\n",
              "rub_per_minute              0\n",
              "tariff_name                 0\n",
              "dtype: int64"
            ]
          },
          "metadata": {
            "tags": []
          },
          "execution_count": 29
        }
      ]
    },
    {
      "cell_type": "markdown",
      "metadata": {
        "id": "7cDqEjMLx2lW"
      },
      "source": [
        "Замечаем, что в столбце с сообщениями и исразходованным интернетом появились пропуски. Удалим их."
      ]
    },
    {
      "cell_type": "code",
      "metadata": {
        "id": "rxOvdXU5x2lX"
      },
      "source": [
        "df.dropna(subset=['sms', 'mb_used'], inplace=True)"
      ],
      "execution_count": null,
      "outputs": []
    },
    {
      "cell_type": "markdown",
      "metadata": {
        "id": "9B3-3PpEx2lY"
      },
      "source": [
        "### Добавим столбцы, содержащие информацию о превышении тарифного плана по звонкам, смс и интернету"
      ]
    },
    {
      "cell_type": "markdown",
      "metadata": {
        "id": "d--Ln6kax2lZ"
      },
      "source": [
        "Для этого вычтем данные о количестве звонков, смс и интернета, входящего в абонентскую плату из израсходованных по каждому пользователю в месяц и выведем данные в отдельные столбцы"
      ]
    },
    {
      "cell_type": "code",
      "metadata": {
        "id": "WVtWZxSbx2lc"
      },
      "source": [
        "df['call_overlimit'] = df['duration'] - df['minutes_included'] \n",
        "df['sms_overlimit'] = df['sms'] - df['messages_included'] \n",
        "df['internet_overlimit'] = df['mb_used'] - df['mb_per_month_included'] "
      ],
      "execution_count": null,
      "outputs": []
    },
    {
      "cell_type": "markdown",
      "metadata": {
        "id": "8aRMkOhyx2ld"
      },
      "source": [
        "Видим, что в случаях, где нет превышения тарифного плана, появились отрицательные значения. Приравняем отрицательные значения к нулю."
      ]
    },
    {
      "cell_type": "code",
      "metadata": {
        "id": "js3lDX_ox2le"
      },
      "source": [
        "df.loc[df['call_overlimit'] < 0, 'call_overlimit'] = 0\n",
        "df.loc[df['sms_overlimit'] < 0, 'sms_overlimit'] = 0\n",
        "df.loc[df['internet_overlimit'] < 0, 'internet_overlimit'] = 0"
      ],
      "execution_count": null,
      "outputs": []
    },
    {
      "cell_type": "markdown",
      "metadata": {
        "id": "6pk0Hbw9x2lf"
      },
      "source": [
        "Столбец с интернетом переведем в гигабайты и округлим его вверх до целых значений, так как цена за превышение интернет-трафика рассчитывается в гигабайтах"
      ]
    },
    {
      "cell_type": "code",
      "metadata": {
        "id": "YnHcAS50x2lg"
      },
      "source": [
        "df['internet_overlimit'] = np.ceil(df['internet_overlimit'] / 1024)"
      ],
      "execution_count": null,
      "outputs": []
    },
    {
      "cell_type": "code",
      "metadata": {
        "id": "dNxnHRK6x2lg",
        "outputId": "ebd38908-98f5-4601-9437-452490fd04c9"
      },
      "source": [
        "df.sample(10)"
      ],
      "execution_count": null,
      "outputs": [
        {
          "output_type": "execute_result",
          "data": {
            "text/html": [
              "<div>\n",
              "<style scoped>\n",
              "    .dataframe tbody tr th:only-of-type {\n",
              "        vertical-align: middle;\n",
              "    }\n",
              "\n",
              "    .dataframe tbody tr th {\n",
              "        vertical-align: top;\n",
              "    }\n",
              "\n",
              "    .dataframe thead th {\n",
              "        text-align: right;\n",
              "    }\n",
              "</style>\n",
              "<table border=\"1\" class=\"dataframe\">\n",
              "  <thead>\n",
              "    <tr style=\"text-align: right;\">\n",
              "      <th></th>\n",
              "      <th>user_id</th>\n",
              "      <th>month</th>\n",
              "      <th>duration</th>\n",
              "      <th>calls</th>\n",
              "      <th>sms</th>\n",
              "      <th>mb_used</th>\n",
              "      <th>age</th>\n",
              "      <th>churn_date</th>\n",
              "      <th>city</th>\n",
              "      <th>first_name</th>\n",
              "      <th>...</th>\n",
              "      <th>mb_per_month_included</th>\n",
              "      <th>minutes_included</th>\n",
              "      <th>rub_monthly_fee</th>\n",
              "      <th>rub_per_gb</th>\n",
              "      <th>rub_per_message</th>\n",
              "      <th>rub_per_minute</th>\n",
              "      <th>tariff_name</th>\n",
              "      <th>call_overlimit</th>\n",
              "      <th>sms_overlimit</th>\n",
              "      <th>internet_overlimit</th>\n",
              "    </tr>\n",
              "  </thead>\n",
              "  <tbody>\n",
              "    <tr>\n",
              "      <td>2014</td>\n",
              "      <td>1321</td>\n",
              "      <td>11.0</td>\n",
              "      <td>450.0</td>\n",
              "      <td>62.0</td>\n",
              "      <td>30.0</td>\n",
              "      <td>19235.0</td>\n",
              "      <td>29</td>\n",
              "      <td>NaT</td>\n",
              "      <td>Москва</td>\n",
              "      <td>Онисим</td>\n",
              "      <td>...</td>\n",
              "      <td>15360</td>\n",
              "      <td>500</td>\n",
              "      <td>550</td>\n",
              "      <td>200</td>\n",
              "      <td>3</td>\n",
              "      <td>3</td>\n",
              "      <td>smart</td>\n",
              "      <td>0.0</td>\n",
              "      <td>0.0</td>\n",
              "      <td>4.0</td>\n",
              "    </tr>\n",
              "    <tr>\n",
              "      <td>1469</td>\n",
              "      <td>1235</td>\n",
              "      <td>11.0</td>\n",
              "      <td>481.0</td>\n",
              "      <td>88.0</td>\n",
              "      <td>66.0</td>\n",
              "      <td>15622.0</td>\n",
              "      <td>26</td>\n",
              "      <td>NaT</td>\n",
              "      <td>Москва</td>\n",
              "      <td>Агафья</td>\n",
              "      <td>...</td>\n",
              "      <td>15360</td>\n",
              "      <td>500</td>\n",
              "      <td>550</td>\n",
              "      <td>200</td>\n",
              "      <td>3</td>\n",
              "      <td>3</td>\n",
              "      <td>smart</td>\n",
              "      <td>0.0</td>\n",
              "      <td>16.0</td>\n",
              "      <td>1.0</td>\n",
              "    </tr>\n",
              "    <tr>\n",
              "      <td>1267</td>\n",
              "      <td>1200</td>\n",
              "      <td>11.0</td>\n",
              "      <td>708.0</td>\n",
              "      <td>99.0</td>\n",
              "      <td>51.0</td>\n",
              "      <td>18548.0</td>\n",
              "      <td>36</td>\n",
              "      <td>NaT</td>\n",
              "      <td>Санкт-Петербург</td>\n",
              "      <td>Тамара</td>\n",
              "      <td>...</td>\n",
              "      <td>30720</td>\n",
              "      <td>3000</td>\n",
              "      <td>1950</td>\n",
              "      <td>150</td>\n",
              "      <td>1</td>\n",
              "      <td>1</td>\n",
              "      <td>ultra</td>\n",
              "      <td>0.0</td>\n",
              "      <td>0.0</td>\n",
              "      <td>0.0</td>\n",
              "    </tr>\n",
              "    <tr>\n",
              "      <td>2703</td>\n",
              "      <td>1425</td>\n",
              "      <td>8.0</td>\n",
              "      <td>525.0</td>\n",
              "      <td>78.0</td>\n",
              "      <td>72.0</td>\n",
              "      <td>13362.0</td>\n",
              "      <td>51</td>\n",
              "      <td>NaT</td>\n",
              "      <td>Пермь</td>\n",
              "      <td>Вадим</td>\n",
              "      <td>...</td>\n",
              "      <td>15360</td>\n",
              "      <td>500</td>\n",
              "      <td>550</td>\n",
              "      <td>200</td>\n",
              "      <td>3</td>\n",
              "      <td>3</td>\n",
              "      <td>smart</td>\n",
              "      <td>25.0</td>\n",
              "      <td>22.0</td>\n",
              "      <td>0.0</td>\n",
              "    </tr>\n",
              "    <tr>\n",
              "      <td>2695</td>\n",
              "      <td>1424</td>\n",
              "      <td>11.0</td>\n",
              "      <td>16.0</td>\n",
              "      <td>6.0</td>\n",
              "      <td>83.0</td>\n",
              "      <td>17161.0</td>\n",
              "      <td>27</td>\n",
              "      <td>NaT</td>\n",
              "      <td>Москва</td>\n",
              "      <td>Розалия</td>\n",
              "      <td>...</td>\n",
              "      <td>30720</td>\n",
              "      <td>3000</td>\n",
              "      <td>1950</td>\n",
              "      <td>150</td>\n",
              "      <td>1</td>\n",
              "      <td>1</td>\n",
              "      <td>ultra</td>\n",
              "      <td>0.0</td>\n",
              "      <td>0.0</td>\n",
              "      <td>0.0</td>\n",
              "    </tr>\n",
              "    <tr>\n",
              "      <td>2200</td>\n",
              "      <td>1353</td>\n",
              "      <td>8.0</td>\n",
              "      <td>483.0</td>\n",
              "      <td>59.0</td>\n",
              "      <td>48.0</td>\n",
              "      <td>16280.0</td>\n",
              "      <td>57</td>\n",
              "      <td>2018-11-26</td>\n",
              "      <td>Санкт-Петербург</td>\n",
              "      <td>Доминика</td>\n",
              "      <td>...</td>\n",
              "      <td>15360</td>\n",
              "      <td>500</td>\n",
              "      <td>550</td>\n",
              "      <td>200</td>\n",
              "      <td>3</td>\n",
              "      <td>3</td>\n",
              "      <td>smart</td>\n",
              "      <td>0.0</td>\n",
              "      <td>0.0</td>\n",
              "      <td>1.0</td>\n",
              "    </tr>\n",
              "    <tr>\n",
              "      <td>2515</td>\n",
              "      <td>1396</td>\n",
              "      <td>2.0</td>\n",
              "      <td>432.0</td>\n",
              "      <td>56.0</td>\n",
              "      <td>59.0</td>\n",
              "      <td>5183.0</td>\n",
              "      <td>23</td>\n",
              "      <td>NaT</td>\n",
              "      <td>Пенза</td>\n",
              "      <td>Эльга</td>\n",
              "      <td>...</td>\n",
              "      <td>30720</td>\n",
              "      <td>3000</td>\n",
              "      <td>1950</td>\n",
              "      <td>150</td>\n",
              "      <td>1</td>\n",
              "      <td>1</td>\n",
              "      <td>ultra</td>\n",
              "      <td>0.0</td>\n",
              "      <td>0.0</td>\n",
              "      <td>0.0</td>\n",
              "    </tr>\n",
              "    <tr>\n",
              "      <td>1456</td>\n",
              "      <td>1230</td>\n",
              "      <td>12.0</td>\n",
              "      <td>317.0</td>\n",
              "      <td>41.0</td>\n",
              "      <td>16.0</td>\n",
              "      <td>14102.0</td>\n",
              "      <td>44</td>\n",
              "      <td>NaT</td>\n",
              "      <td>Томск</td>\n",
              "      <td>Ренальд</td>\n",
              "      <td>...</td>\n",
              "      <td>15360</td>\n",
              "      <td>500</td>\n",
              "      <td>550</td>\n",
              "      <td>200</td>\n",
              "      <td>3</td>\n",
              "      <td>3</td>\n",
              "      <td>smart</td>\n",
              "      <td>0.0</td>\n",
              "      <td>0.0</td>\n",
              "      <td>0.0</td>\n",
              "    </tr>\n",
              "    <tr>\n",
              "      <td>2654</td>\n",
              "      <td>1419</td>\n",
              "      <td>7.0</td>\n",
              "      <td>206.0</td>\n",
              "      <td>31.0</td>\n",
              "      <td>19.0</td>\n",
              "      <td>5882.0</td>\n",
              "      <td>19</td>\n",
              "      <td>NaT</td>\n",
              "      <td>Новороссийск</td>\n",
              "      <td>Эльмира</td>\n",
              "      <td>...</td>\n",
              "      <td>15360</td>\n",
              "      <td>500</td>\n",
              "      <td>550</td>\n",
              "      <td>200</td>\n",
              "      <td>3</td>\n",
              "      <td>3</td>\n",
              "      <td>smart</td>\n",
              "      <td>0.0</td>\n",
              "      <td>0.0</td>\n",
              "      <td>0.0</td>\n",
              "    </tr>\n",
              "    <tr>\n",
              "      <td>1852</td>\n",
              "      <td>1295</td>\n",
              "      <td>11.0</td>\n",
              "      <td>240.0</td>\n",
              "      <td>35.0</td>\n",
              "      <td>97.0</td>\n",
              "      <td>20738.0</td>\n",
              "      <td>19</td>\n",
              "      <td>NaT</td>\n",
              "      <td>Краснодар</td>\n",
              "      <td>Олеся</td>\n",
              "      <td>...</td>\n",
              "      <td>15360</td>\n",
              "      <td>500</td>\n",
              "      <td>550</td>\n",
              "      <td>200</td>\n",
              "      <td>3</td>\n",
              "      <td>3</td>\n",
              "      <td>smart</td>\n",
              "      <td>0.0</td>\n",
              "      <td>47.0</td>\n",
              "      <td>6.0</td>\n",
              "    </tr>\n",
              "  </tbody>\n",
              "</table>\n",
              "<p>10 rows × 24 columns</p>\n",
              "</div>"
            ],
            "text/plain": [
              "      user_id  month  duration  calls   sms  mb_used  age churn_date  \\\n",
              "2014     1321   11.0     450.0   62.0  30.0  19235.0   29        NaT   \n",
              "1469     1235   11.0     481.0   88.0  66.0  15622.0   26        NaT   \n",
              "1267     1200   11.0     708.0   99.0  51.0  18548.0   36        NaT   \n",
              "2703     1425    8.0     525.0   78.0  72.0  13362.0   51        NaT   \n",
              "2695     1424   11.0      16.0    6.0  83.0  17161.0   27        NaT   \n",
              "2200     1353    8.0     483.0   59.0  48.0  16280.0   57 2018-11-26   \n",
              "2515     1396    2.0     432.0   56.0  59.0   5183.0   23        NaT   \n",
              "1456     1230   12.0     317.0   41.0  16.0  14102.0   44        NaT   \n",
              "2654     1419    7.0     206.0   31.0  19.0   5882.0   19        NaT   \n",
              "1852     1295   11.0     240.0   35.0  97.0  20738.0   19        NaT   \n",
              "\n",
              "                 city first_name  ... mb_per_month_included minutes_included  \\\n",
              "2014           Москва     Онисим  ...                 15360              500   \n",
              "1469           Москва     Агафья  ...                 15360              500   \n",
              "1267  Санкт-Петербург     Тамара  ...                 30720             3000   \n",
              "2703            Пермь      Вадим  ...                 15360              500   \n",
              "2695           Москва    Розалия  ...                 30720             3000   \n",
              "2200  Санкт-Петербург   Доминика  ...                 15360              500   \n",
              "2515            Пенза      Эльга  ...                 30720             3000   \n",
              "1456            Томск    Ренальд  ...                 15360              500   \n",
              "2654     Новороссийск    Эльмира  ...                 15360              500   \n",
              "1852        Краснодар      Олеся  ...                 15360              500   \n",
              "\n",
              "     rub_monthly_fee  rub_per_gb  rub_per_message  rub_per_minute  \\\n",
              "2014             550         200                3               3   \n",
              "1469             550         200                3               3   \n",
              "1267            1950         150                1               1   \n",
              "2703             550         200                3               3   \n",
              "2695            1950         150                1               1   \n",
              "2200             550         200                3               3   \n",
              "2515            1950         150                1               1   \n",
              "1456             550         200                3               3   \n",
              "2654             550         200                3               3   \n",
              "1852             550         200                3               3   \n",
              "\n",
              "      tariff_name  call_overlimit  sms_overlimit  internet_overlimit  \n",
              "2014        smart             0.0            0.0                 4.0  \n",
              "1469        smart             0.0           16.0                 1.0  \n",
              "1267        ultra             0.0            0.0                 0.0  \n",
              "2703        smart            25.0           22.0                 0.0  \n",
              "2695        ultra             0.0            0.0                 0.0  \n",
              "2200        smart             0.0            0.0                 1.0  \n",
              "2515        ultra             0.0            0.0                 0.0  \n",
              "1456        smart             0.0            0.0                 0.0  \n",
              "2654        smart             0.0            0.0                 0.0  \n",
              "1852        smart             0.0           47.0                 6.0  \n",
              "\n",
              "[10 rows x 24 columns]"
            ]
          },
          "metadata": {
            "tags": []
          },
          "execution_count": 34
        }
      ]
    },
    {
      "cell_type": "markdown",
      "metadata": {
        "id": "WVZfjvFRx2li"
      },
      "source": [
        "### Рассчитаем итоговую выручку по каждому пользователю за месяц с учетом превышения тарифного плана и добавим в новый столбец"
      ]
    },
    {
      "cell_type": "code",
      "metadata": {
        "id": "biL86NqWx2lj"
      },
      "source": [
        "df['cost'] = df['rub_monthly_fee'] + df['call_overlimit'] * df['rub_per_minute'] + df['sms_overlimit'] *df['rub_per_message'] + df['internet_overlimit'] * df['rub_per_gb']"
      ],
      "execution_count": null,
      "outputs": []
    },
    {
      "cell_type": "code",
      "metadata": {
        "id": "8bBn77jAx2ll",
        "outputId": "011252db-38fb-466c-832e-ef8caba3092b"
      },
      "source": [
        "df.info()"
      ],
      "execution_count": null,
      "outputs": [
        {
          "output_type": "stream",
          "text": [
            "<class 'pandas.core.frame.DataFrame'>\n",
            "Int64Index: 2667 entries, 0 to 3173\n",
            "Data columns (total 25 columns):\n",
            "user_id                  2667 non-null int64\n",
            "month                    2667 non-null float64\n",
            "duration                 2667 non-null float64\n",
            "calls                    2667 non-null float64\n",
            "sms                      2667 non-null float64\n",
            "mb_used                  2667 non-null float64\n",
            "age                      2667 non-null int64\n",
            "churn_date               139 non-null datetime64[ns]\n",
            "city                     2667 non-null object\n",
            "first_name               2667 non-null object\n",
            "last_name                2667 non-null object\n",
            "reg_date                 2667 non-null datetime64[ns]\n",
            "tariff                   2667 non-null object\n",
            "messages_included        2667 non-null int64\n",
            "mb_per_month_included    2667 non-null int64\n",
            "minutes_included         2667 non-null int64\n",
            "rub_monthly_fee          2667 non-null int64\n",
            "rub_per_gb               2667 non-null int64\n",
            "rub_per_message          2667 non-null int64\n",
            "rub_per_minute           2667 non-null int64\n",
            "tariff_name              2667 non-null object\n",
            "call_overlimit           2667 non-null float64\n",
            "sms_overlimit            2667 non-null float64\n",
            "internet_overlimit       2667 non-null float64\n",
            "cost                     2667 non-null float64\n",
            "dtypes: datetime64[ns](2), float64(9), int64(9), object(5)\n",
            "memory usage: 541.7+ KB\n"
          ],
          "name": "stdout"
        }
      ]
    },
    {
      "cell_type": "markdown",
      "metadata": {
        "id": "IUOX8E0Lx2lm"
      },
      "source": [
        "### Вывод:"
      ]
    },
    {
      "cell_type": "markdown",
      "metadata": {
        "id": "0r5M2GOtx2ln"
      },
      "source": [
        "В данном блоке добавили необходимые для исследования данные. Для начала добавили столбцы с месяцем, сгруппировали данные по о количестве и длительности звонков, количестве отправленных смс и объему израсходованного интернет-трафика по каждому пользователю в месяц. Затем соединили все данные в одну таблицу, объединив их с информацией о каждом пользователе и сведениями о тарифах. Затем посчитали и добавили в общую таблицу данные о превышении тарифного плана и вывели итоговый столбец с общей выручкой за месяц."
      ]
    },
    {
      "cell_type": "markdown",
      "metadata": {
        "id": "iac05o1lx2ln"
      },
      "source": [
        "## 4. Проанализируем данные клиентов по каждому тарифу\n",
        "<a id= \"analysis\"></a>"
      ]
    },
    {
      "cell_type": "markdown",
      "metadata": {
        "id": "QOcvK1U7x2lo"
      },
      "source": [
        "Создадим две переменные, содержащие информацию по каждому тарифу"
      ]
    },
    {
      "cell_type": "code",
      "metadata": {
        "id": "OSJhL3Dvx2lp"
      },
      "source": [
        "df_smart = pd.DataFrame(df.query('tariff == \"smart\"'))\n",
        "df_ultra = pd.DataFrame(df.query('tariff == \"ultra\"'))"
      ],
      "execution_count": null,
      "outputs": []
    },
    {
      "cell_type": "code",
      "metadata": {
        "id": "fKgoxhiUx2lq",
        "outputId": "04d49e92-1add-4599-af78-11430e395953"
      },
      "source": [
        "len(df_smart['user_id'].value_counts())"
      ],
      "execution_count": null,
      "outputs": [
        {
          "output_type": "execute_result",
          "data": {
            "text/plain": [
              "301"
            ]
          },
          "metadata": {
            "tags": []
          },
          "execution_count": 38
        }
      ]
    },
    {
      "cell_type": "code",
      "metadata": {
        "id": "EqekzQMPx2ls",
        "outputId": "81c27ff4-69ac-4bc8-9fa7-9fdfcb2a3f3d"
      },
      "source": [
        "len(df_ultra['user_id'].value_counts())"
      ],
      "execution_count": null,
      "outputs": [
        {
          "output_type": "execute_result",
          "data": {
            "text/plain": [
              "118"
            ]
          },
          "metadata": {
            "tags": []
          },
          "execution_count": 39
        }
      ]
    },
    {
      "cell_type": "markdown",
      "metadata": {
        "id": "aLRW7IzUx2lt"
      },
      "source": [
        "Замечаем, что количество пользователей тарифа \"Смарт\" больше чем в два раза превосходит пользователей тарифа \"Ультра\", что объясняется большей экономностью первого тарифа."
      ]
    },
    {
      "cell_type": "code",
      "metadata": {
        "id": "QaCBKFNix2lu",
        "outputId": "c37f7845-c857-46d3-8042-94a46432d4cd"
      },
      "source": [
        "df_smart['duration'].hist(figsize=(7,5), alpha=0.5, color='red')\n",
        "df_ultra['duration'].hist(figsize=(7,5), alpha=0.5, color='blue')\n",
        "plt.title('Количество потраченных минут в месяц пользователями тарифов \"Смарт\" и \"Ультра\"')\n",
        "plt.xlabel('Количество минут')\n",
        "plt.show()"
      ],
      "execution_count": null,
      "outputs": [
        {
          "output_type": "display_data",
          "data": {
            "image/png": "[encoded data removed]",
            "text/plain": [
              "<Figure size 504x360 with 1 Axes>"
            ]
          },
          "metadata": {
            "tags": [],
            "needs_background": "light"
          }
        }
      ]
    },
    {
      "cell_type": "code",
      "metadata": {
        "id": "PZW6aNmux2lv",
        "outputId": "f17f7534-6f34-46a8-cffd-13a12b9d36b9"
      },
      "source": [
        "df_ultra['duration'].max()"
      ],
      "execution_count": null,
      "outputs": [
        {
          "output_type": "execute_result",
          "data": {
            "text/plain": [
              "1673.0"
            ]
          },
          "metadata": {
            "tags": []
          },
          "execution_count": 41
        }
      ]
    },
    {
      "cell_type": "code",
      "metadata": {
        "id": "X2EDNQYsx2lw",
        "outputId": "9b51aed6-be2b-4760-9058-0d6932839e40"
      },
      "source": [
        "df_smart['call_overlimit'].hist(figsize=(7,5), alpha=0.5, color='red', range=(1,800))\n",
        "df_ultra['call_overlimit'].hist(figsize=(7,5), alpha=0.5, color='blue', range=(1,800))"
      ],
      "execution_count": null,
      "outputs": [
        {
          "output_type": "execute_result",
          "data": {
            "text/plain": [
              "<matplotlib.axes._subplots.AxesSubplot at 0x7fd37be9ff50>"
            ]
          },
          "metadata": {
            "tags": []
          },
          "execution_count": 42
        },
        {
          "output_type": "display_data",
          "data": {
            "image/png": "[encoded data removed]",
            "text/plain": [
              "<Figure size 504x360 with 1 Axes>"
            ]
          },
          "metadata": {
            "tags": [],
            "needs_background": "light"
          }
        }
      ]
    },
    {
      "cell_type": "markdown",
      "metadata": {
        "id": "A133rVTzx2ly"
      },
      "source": [
        "Интересно, что сверх тарифного плана выходят пользователи тарифа \"Смарт\", у которых в месяц в абонентскую плату входят 500 минут. Пользователям тарифа \"Ультра\" 3000 минут в месяц хватает."
      ]
    },
    {
      "cell_type": "markdown",
      "metadata": {
        "id": "-5xaflQVx2lz"
      },
      "source": [
        "Посчитаем среднее значение, дисперсию и стандартное отклонение для длительности звонков"
      ]
    },
    {
      "cell_type": "code",
      "metadata": {
        "id": "bcFzI0fax2l0",
        "outputId": "2297af4f-0b60-4c0a-d08c-643b13320917"
      },
      "source": [
        "np.mean(df_smart['duration'])"
      ],
      "execution_count": null,
      "outputs": [
        {
          "output_type": "execute_result",
          "data": {
            "text/plain": [
              "421.0349869451697"
            ]
          },
          "metadata": {
            "tags": []
          },
          "execution_count": 43
        }
      ]
    },
    {
      "cell_type": "code",
      "metadata": {
        "id": "UCngJSRBx2l2",
        "outputId": "bb45e79c-ab13-4202-e3ad-312178d5eb48"
      },
      "source": [
        "np.mean(df_ultra['duration'])"
      ],
      "execution_count": null,
      "outputs": [
        {
          "output_type": "execute_result",
          "data": {
            "text/plain": [
              "556.8577127659574"
            ]
          },
          "metadata": {
            "tags": []
          },
          "execution_count": 44
        }
      ]
    },
    {
      "cell_type": "code",
      "metadata": {
        "id": "r73AYr5xx2l3",
        "outputId": "71a677e9-caf6-44c9-b6fd-80b3e4eba820"
      },
      "source": [
        "np.var(df_smart['duration'])"
      ],
      "execution_count": null,
      "outputs": [
        {
          "output_type": "execute_result",
          "data": {
            "text/plain": [
              "35217.697470430634"
            ]
          },
          "metadata": {
            "tags": []
          },
          "execution_count": 45
        }
      ]
    },
    {
      "cell_type": "code",
      "metadata": {
        "id": "ptKaUadVx2l5",
        "outputId": "3f2808f2-edec-4117-e725-4e7fddba4189"
      },
      "source": [
        "np.var(df_ultra['duration'])"
      ],
      "execution_count": null,
      "outputs": [
        {
          "output_type": "execute_result",
          "data": {
            "text/plain": [
              "97129.07948838559"
            ]
          },
          "metadata": {
            "tags": []
          },
          "execution_count": 46
        }
      ]
    },
    {
      "cell_type": "code",
      "metadata": {
        "id": "jx-OgwiEx2l6",
        "outputId": "4eff3e42-ff74-47b2-ae66-b33118a8975b"
      },
      "source": [
        "np.std(df_smart['duration'])"
      ],
      "execution_count": null,
      "outputs": [
        {
          "output_type": "execute_result",
          "data": {
            "text/plain": [
              "187.66378838345622"
            ]
          },
          "metadata": {
            "tags": []
          },
          "execution_count": 47
        }
      ]
    },
    {
      "cell_type": "code",
      "metadata": {
        "id": "cShVpYIZx2l9",
        "outputId": "0aa13e87-ec37-4ad4-dd73-3ead21d42008"
      },
      "source": [
        "np.std(df_ultra['duration'])"
      ],
      "execution_count": null,
      "outputs": [
        {
          "output_type": "execute_result",
          "data": {
            "text/plain": [
              "311.65538578433967"
            ]
          },
          "metadata": {
            "tags": []
          },
          "execution_count": 48
        }
      ]
    },
    {
      "cell_type": "markdown",
      "metadata": {
        "id": "vDfJnyOpx2mA"
      },
      "source": [
        "Дисперсия и стандартное отклонение у выборки по тарифу Ультра больше, так как количество минут входящих в абонентскую плату больше и даже по графику заметен чуть больший разброс по распределению данных."
      ]
    },
    {
      "cell_type": "code",
      "metadata": {
        "id": "nz_bvw3-x2mA",
        "outputId": "a7c562c4-5776-4f16-eeb0-1b5f67cc2eef"
      },
      "source": [
        "df_smart['sms'].hist(figsize=(7,5), alpha=0.5, color='red')\n",
        "df_ultra['sms'].hist(figsize=(7,5), alpha=0.5, color='blue')\n",
        "plt.title('Количество использованных смс в месяц пользователями тарифов \"Смарт\" и \"Ультра\"')\n",
        "plt.xlabel('Количество смс')\n",
        "plt.show()"
      ],
      "execution_count": null,
      "outputs": [
        {
          "output_type": "display_data",
          "data": {
            "image/png": "[encoded data removed]",
            "text/plain": [
              "<Figure size 504x360 with 1 Axes>"
            ]
          },
          "metadata": {
            "tags": [],
            "needs_background": "light"
          }
        }
      ]
    },
    {
      "cell_type": "code",
      "metadata": {
        "id": "2FZFbQY5x2mC",
        "outputId": "97dd934f-ebff-4341-f01a-585cec0937c4"
      },
      "source": [
        "df_ultra['sms'].max()"
      ],
      "execution_count": null,
      "outputs": [
        {
          "output_type": "execute_result",
          "data": {
            "text/plain": [
              "224.0"
            ]
          },
          "metadata": {
            "tags": []
          },
          "execution_count": 50
        }
      ]
    },
    {
      "cell_type": "markdown",
      "metadata": {
        "id": "medh8sTQx2mD"
      },
      "source": [
        "Исходя из графика видим, что чаще всего пользователи тарифа Смарт отправляют в месяц до 50 сообщений, но бывают и те, кто отправляет больше, тем самым допласивая за дополнительные смс сверх тарифа. А вот пользователи тарифа Ультра в свои 1000 смс в месяц вполне укладываются. Посмотрим на данные сверх тарифного плана на отдельном графике."
      ]
    },
    {
      "cell_type": "code",
      "metadata": {
        "id": "4ZN-1ltRx2mD",
        "outputId": "cf91b35b-2cb6-4886-8bd4-2e39143ab19a"
      },
      "source": [
        "df_smart['sms_overlimit'].hist(figsize=(7,5), alpha=0.5, color='red', range=(1,90))\n",
        "df_ultra['sms_overlimit'].hist(figsize=(7,5), alpha=0.5, color='blue')\n",
        "plt.title('Количество смс сверх тарифа')\n",
        "plt.xlabel('Количество смс')\n",
        "plt.show()"
      ],
      "execution_count": null,
      "outputs": [
        {
          "output_type": "display_data",
          "data": {
            "image/png": "[encoded data removed]",
            "text/plain": [
              "<Figure size 504x360 with 1 Axes>"
            ]
          },
          "metadata": {
            "tags": [],
            "needs_background": "light"
          }
        }
      ]
    },
    {
      "cell_type": "markdown",
      "metadata": {
        "id": "W9DeQI8sx2mF"
      },
      "source": [
        "Как и писали выше, пользователям тарифа \"Смарт\" иногда не хватает 50 сообщений в месяц, в отличие от тарифа \"Ультра\", в котором их 1000."
      ]
    },
    {
      "cell_type": "code",
      "metadata": {
        "id": "bi2kbZavx2mF",
        "outputId": "bf5ce057-2785-49a5-914f-fe8abee685a7"
      },
      "source": [
        "np.mean(df_smart['sms']) "
      ],
      "execution_count": null,
      "outputs": [
        {
          "output_type": "execute_result",
          "data": {
            "text/plain": [
              "38.76710182767624"
            ]
          },
          "metadata": {
            "tags": []
          },
          "execution_count": 52
        }
      ]
    },
    {
      "cell_type": "code",
      "metadata": {
        "id": "lFL5hZCUx2mG",
        "outputId": "e9df951e-af81-41e6-a373-bbc3ae6344fe"
      },
      "source": [
        "np.mean(df_ultra['sms'])"
      ],
      "execution_count": null,
      "outputs": [
        {
          "output_type": "execute_result",
          "data": {
            "text/plain": [
              "61.640957446808514"
            ]
          },
          "metadata": {
            "tags": []
          },
          "execution_count": 53
        }
      ]
    },
    {
      "cell_type": "code",
      "metadata": {
        "id": "wiTAQsfSx2mH",
        "outputId": "ac54e114-c681-455d-c743-f3866305dc3e"
      },
      "source": [
        "np.var(df_smart['sms'])"
      ],
      "execution_count": null,
      "outputs": [
        {
          "output_type": "execute_result",
          "data": {
            "text/plain": [
              "718.4282649687434"
            ]
          },
          "metadata": {
            "tags": []
          },
          "execution_count": 54
        }
      ]
    },
    {
      "cell_type": "code",
      "metadata": {
        "id": "-G12OOWHx2mI",
        "outputId": "5f498986-e757-4737-9e2a-23b377965f4a"
      },
      "source": [
        "np.var(df_ultra['sms'])"
      ],
      "execution_count": null,
      "outputs": [
        {
          "output_type": "execute_result",
          "data": {
            "text/plain": [
              "2005.8790671684021"
            ]
          },
          "metadata": {
            "tags": []
          },
          "execution_count": 55
        }
      ]
    },
    {
      "cell_type": "code",
      "metadata": {
        "id": "bYd2PaZhx2mK",
        "outputId": "6b5cb25c-996c-48f9-9714-94972378a6cc"
      },
      "source": [
        "np.std(df_smart['sms']) "
      ],
      "execution_count": null,
      "outputs": [
        {
          "output_type": "execute_result",
          "data": {
            "text/plain": [
              "26.803512175995582"
            ]
          },
          "metadata": {
            "tags": []
          },
          "execution_count": 56
        }
      ]
    },
    {
      "cell_type": "code",
      "metadata": {
        "id": "XjvGjQzYx2mL",
        "outputId": "538a2448-385d-4607-dda4-6b31b557e00d"
      },
      "source": [
        "np.std(df_ultra['sms'])"
      ],
      "execution_count": null,
      "outputs": [
        {
          "output_type": "execute_result",
          "data": {
            "text/plain": [
              "44.78704128616225"
            ]
          },
          "metadata": {
            "tags": []
          },
          "execution_count": 57
        }
      ]
    },
    {
      "cell_type": "markdown",
      "metadata": {
        "id": "DLjy8kejx2mM"
      },
      "source": [
        "В данном примере так же больше разброс данных по количеству смс у тарифа Ультра, в связи с тем, что максимальное количество смс, входящих в тарифный план у Ультра выше и пользователи данного тарифа отправляют больше смс."
      ]
    },
    {
      "cell_type": "markdown",
      "metadata": {
        "id": "ZGtLnosfx2mN"
      },
      "source": [
        "Посмотрим на объем использования интернет-трафика пользователями разного тарифа."
      ]
    },
    {
      "cell_type": "code",
      "metadata": {
        "id": "6BUYzI1Gx2mO",
        "outputId": "773b6f49-5eec-4826-ba87-b726bf827070"
      },
      "source": [
        "df_smart['mb_used'].hist(figsize=(7,5), alpha=0.5, color='red')\n",
        "df_ultra['mb_used'].hist(figsize=(7,5), alpha=0.5, color='blue')\n",
        "plt.title('Объем израсходованного интернет-трафика пользователями тарифов \"Смарт\" и \"Ультра\"')\n",
        "plt.xlabel('Объем интернет-трафика (в мегабайтах)')\n",
        "plt.show()"
      ],
      "execution_count": null,
      "outputs": [
        {
          "output_type": "display_data",
          "data": {
            "image/png": "[encoded data removed]",
            "text/plain": [
              "<Figure size 504x360 with 1 Axes>"
            ]
          },
          "metadata": {
            "tags": [],
            "needs_background": "light"
          }
        }
      ]
    },
    {
      "cell_type": "code",
      "metadata": {
        "id": "oOh89vLAx2mP",
        "outputId": "0e997926-3b83-4984-a4c6-be3ec0654252"
      },
      "source": [
        "df_ultra['mb_used'].max()"
      ],
      "execution_count": null,
      "outputs": [
        {
          "output_type": "execute_result",
          "data": {
            "text/plain": [
              "49789.0"
            ]
          },
          "metadata": {
            "tags": []
          },
          "execution_count": 59
        }
      ]
    },
    {
      "cell_type": "markdown",
      "metadata": {
        "id": "lYxcialLx2mR"
      },
      "source": [
        "Большая часть пользователей тарифа Смарт укладывается в 15 гб интернет-трафика. Но есть и те, кто использует больше. Посмотрим на них отдельно."
      ]
    },
    {
      "cell_type": "code",
      "metadata": {
        "id": "iJDuuvNLx2mS",
        "outputId": "49922328-4632-49b6-8fba-b2f3807b9ce9"
      },
      "source": [
        "df_smart['internet_overlimit'].hist(figsize=(7,5), alpha=0.5, color='red', range=(1,30))\n",
        "df_ultra['internet_overlimit'].hist(figsize=(7,5), alpha=0.5, color='blue', range=(1,30))\n",
        "plt.title('Объем израсходованного интернет-трафика сверх тарифа')\n",
        "plt.xlabel('Объем интернет-трафика (в гигабайтах)')\n",
        "plt.show()"
      ],
      "execution_count": null,
      "outputs": [
        {
          "output_type": "display_data",
          "data": {
            "image/png": "[encoded data removed]",
            "text/plain": [
              "<Figure size 504x360 with 1 Axes>"
            ]
          },
          "metadata": {
            "tags": [],
            "needs_background": "light"
          }
        }
      ]
    },
    {
      "cell_type": "markdown",
      "metadata": {
        "id": "_X0qdqJgx2mT"
      },
      "source": [
        "А вот 30 гб интернета в тарифе Ультра пользователям иногда не хватает."
      ]
    },
    {
      "cell_type": "code",
      "metadata": {
        "id": "0zNK3mkFx2mU",
        "outputId": "f39e405c-0ed6-4763-b582-651a12f52d03"
      },
      "source": [
        "np.mean(df_smart['mb_used'])"
      ],
      "execution_count": null,
      "outputs": [
        {
          "output_type": "execute_result",
          "data": {
            "text/plain": [
              "16266.113315926894"
            ]
          },
          "metadata": {
            "tags": []
          },
          "execution_count": 61
        }
      ]
    },
    {
      "cell_type": "code",
      "metadata": {
        "id": "wS7_o0Ssx2mV",
        "outputId": "7287be0a-376d-42d2-8025-867c9027ad4f"
      },
      "source": [
        "np.mean(df_ultra['mb_used'])"
      ],
      "execution_count": null,
      "outputs": [
        {
          "output_type": "execute_result",
          "data": {
            "text/plain": [
              "19614.590425531915"
            ]
          },
          "metadata": {
            "tags": []
          },
          "execution_count": 62
        }
      ]
    },
    {
      "cell_type": "code",
      "metadata": {
        "id": "m0n5RBY8x2mW",
        "outputId": "63871010-4aeb-4984-8664-ad9805df3e43"
      },
      "source": [
        "np.var(df_smart['mb_used'])"
      ],
      "execution_count": null,
      "outputs": [
        {
          "output_type": "execute_result",
          "data": {
            "text/plain": [
              "33622866.61431355"
            ]
          },
          "metadata": {
            "tags": []
          },
          "execution_count": 63
        }
      ]
    },
    {
      "cell_type": "code",
      "metadata": {
        "id": "O0OuL8MEx2mX",
        "outputId": "c709ab95-a207-4323-ecbd-e2dca3ab1127"
      },
      "source": [
        "np.var(df_ultra['mb_used'])"
      ],
      "execution_count": null,
      "outputs": [
        {
          "output_type": "execute_result",
          "data": {
            "text/plain": [
              "92771221.72852534"
            ]
          },
          "metadata": {
            "tags": []
          },
          "execution_count": 64
        }
      ]
    },
    {
      "cell_type": "code",
      "metadata": {
        "id": "iwVTz2HLx2mZ",
        "outputId": "774c4330-a4e3-4e0d-e3d1-bf47722d2c31"
      },
      "source": [
        "np.std(df_smart['mb_used'])"
      ],
      "execution_count": null,
      "outputs": [
        {
          "output_type": "execute_result",
          "data": {
            "text/plain": [
              "5798.522795877719"
            ]
          },
          "metadata": {
            "tags": []
          },
          "execution_count": 65
        }
      ]
    },
    {
      "cell_type": "code",
      "metadata": {
        "id": "543z4ZBPx2mZ",
        "outputId": "f33f73e7-3ff1-4f00-ede6-ad811a1eb193"
      },
      "source": [
        "np.std(df_ultra['mb_used'])"
      ],
      "execution_count": null,
      "outputs": [
        {
          "output_type": "execute_result",
          "data": {
            "text/plain": [
              "9631.78185636102"
            ]
          },
          "metadata": {
            "tags": []
          },
          "execution_count": 66
        }
      ]
    },
    {
      "cell_type": "code",
      "metadata": {
        "id": "QDFwDWx9x2ma",
        "outputId": "142d438b-4703-4057-b889-d09c7cb27292"
      },
      "source": [
        "df_smart.groupby('month')['user_id'].agg('count').plot(kind='bar', color='r', figsize=(7,5))\n",
        "df_ultra.groupby('month')['user_id'].agg('count').plot(kind='bar', color='b', figsize=(7,5))\n",
        "plt.title('Количество пользователей тарифов \"Смарт\" и \"Ультра\" по месяцам')\n",
        "plt.xlabel('месяц')\n",
        "plt.ylabel('количество пользователей')\n",
        "plt.show()"
      ],
      "execution_count": null,
      "outputs": [
        {
          "output_type": "display_data",
          "data": {
            "image/png": "[encoded data removed]",
            "text/plain": [
              "<Figure size 504x360 with 1 Axes>"
            ]
          },
          "metadata": {
            "tags": [],
            "needs_background": "light"
          }
        }
      ]
    },
    {
      "cell_type": "markdown",
      "metadata": {
        "id": "M-RQU2kMx2mb"
      },
      "source": [
        "На представленной диаграмме можем заметить, что в течение года увеличивается количество пользователей обоих тарифов."
      ]
    },
    {
      "cell_type": "markdown",
      "metadata": {
        "id": "0T-KJJA0x2mc"
      },
      "source": [
        "### Вывод:"
      ]
    },
    {
      "cell_type": "markdown",
      "metadata": {
        "id": "nysqFwoZx2md"
      },
      "source": [
        "В данном блоке проанализировали данные о пользователях двух тарифов. Исходя из проведенных исследований, можем сказать, что пользователи тарифа Ультра, кроме интернет-трафика, укладываются в свой тарифный план и не платят почти ничего сверх него. А вот пользователям тарифа Смарт часто не хватает ни смс, ни минут, ни объема интернет-трафика, заложенного в их абонентскую плату. Что касается дисперсии, стандартного отклонения и среднего, то у тарифа Ультра эти значения по всем параметрам выше, так как верхняя граница использования исследуемых параметров у данного тарифа выше и соответсвенно разброс данных относительно среднего будет больше."
      ]
    },
    {
      "cell_type": "markdown",
      "metadata": {
        "id": "Jhp1zbg9x2mg"
      },
      "source": [
        "## 5. Проверка гипотез\n",
        "<a id= \"hypotheses\"></a>"
      ]
    },
    {
      "cell_type": "markdown",
      "metadata": {
        "id": "wb19MQUSx2mh"
      },
      "source": [
        "### Проверим гипотезу, что средняя выручка пльзователей тарифов ультра и смарт одинаковая"
      ]
    },
    {
      "cell_type": "markdown",
      "metadata": {
        "id": "UwRfvvCax2mh"
      },
      "source": [
        "Сформулируем нулевую гипотезу(H0), что средняя выручка пользователей тарифа ультра и пользователей тарифа смарт одинакова. И соответственно альтернативная гипотеза(H1), что средняя выручка пользователей разных тарифов различна"
      ]
    },
    {
      "cell_type": "code",
      "metadata": {
        "id": "eUFXsR69x2mj"
      },
      "source": [
        "smart = np.array(df_smart['cost'])\n",
        "ultra = np.array(df_ultra['cost'])"
      ],
      "execution_count": null,
      "outputs": []
    },
    {
      "cell_type": "code",
      "metadata": {
        "id": "_-Fa3JDlx2mj",
        "outputId": "a1b57b92-3f05-4591-b902-8bedad4ebac4"
      },
      "source": [
        "np.var(smart)"
      ],
      "execution_count": null,
      "outputs": [
        {
          "output_type": "execute_result",
          "data": {
            "text/plain": [
              "681218.0250832714"
            ]
          },
          "metadata": {
            "tags": []
          },
          "execution_count": 69
        }
      ]
    },
    {
      "cell_type": "code",
      "metadata": {
        "id": "wVoTVQNhx2ml",
        "outputId": "513fee8c-d950-4cb3-fc50-90ee8fbd2b59"
      },
      "source": [
        "np.var(ultra)"
      ],
      "execution_count": null,
      "outputs": [
        {
          "output_type": "execute_result",
          "data": {
            "text/plain": [
              "112127.58884110456"
            ]
          },
          "metadata": {
            "tags": []
          },
          "execution_count": 70
        }
      ]
    },
    {
      "cell_type": "code",
      "metadata": {
        "id": "mTg0tZfOx2mn",
        "outputId": "49a04baa-1d88-4ee1-d910-57414bfde6b6"
      },
      "source": [
        "alpha = .05\n",
        "results_tariff = st.ttest_ind(ultra, smart, equal_var=False)\n",
        "print('p-значение:', results_tariff.pvalue)\n",
        "if results_tariff.pvalue < alpha:\n",
        "    print(\"Отвергаем нулевую гипотезу\")\n",
        "else:\n",
        "    print(\"Не получилось отвергнуть нулевую гипотезу\")"
      ],
      "execution_count": null,
      "outputs": [
        {
          "output_type": "stream",
          "text": [
            "p-значение: 3.0219026919316575e-206\n",
            "Отвергаем нулевую гипотезу\n"
          ],
          "name": "stdout"
        }
      ]
    },
    {
      "cell_type": "markdown",
      "metadata": {
        "id": "pU_dV2Kbx2mo"
      },
      "source": [
        "Значение pvalue очень маленькое, в связи с чем не пожем принять нулевую гипотезу и делаем вывод, что данные выборки различны."
      ]
    },
    {
      "cell_type": "code",
      "metadata": {
        "id": "D-If0jk0x2mq",
        "outputId": "2555ea88-37b4-48ab-bb1c-b74783553d82"
      },
      "source": [
        "np.mean(smart)"
      ],
      "execution_count": null,
      "outputs": [
        {
          "output_type": "execute_result",
          "data": {
            "text/plain": [
              "1295.377545691906"
            ]
          },
          "metadata": {
            "tags": []
          },
          "execution_count": 72
        }
      ]
    },
    {
      "cell_type": "code",
      "metadata": {
        "id": "BJGb6Dcax2mr",
        "outputId": "5b959b5a-3dcf-4bf7-f253-5cff59fffbf6"
      },
      "source": [
        "np.mean(ultra)"
      ],
      "execution_count": null,
      "outputs": [
        {
          "output_type": "execute_result",
          "data": {
            "text/plain": [
              "2049.7340425531916"
            ]
          },
          "metadata": {
            "tags": []
          },
          "execution_count": 73
        }
      ]
    },
    {
      "cell_type": "code",
      "metadata": {
        "id": "ZSGl00wwx2ms",
        "outputId": "a7b98748-e749-4eec-e2a8-36a1551a223d"
      },
      "source": [
        "plt.hist(ultra, color='g')\n",
        "plt.hist(smart, color='r', alpha=0.5)\n",
        "plt.title('Объем выручки пользователей тарифов \"Смарт\" и \"Ультра\"')\n",
        "plt.xlabel('Выручка')\n",
        "plt.show()"
      ],
      "execution_count": null,
      "outputs": [
        {
          "output_type": "display_data",
          "data": {
            "image/png": "[encoded data removed]",
            "text/plain": [
              "<Figure size 432x288 with 1 Axes>"
            ]
          },
          "metadata": {
            "tags": [],
            "needs_background": "light"
          }
        }
      ]
    },
    {
      "cell_type": "code",
      "metadata": {
        "id": "hH-olGghx2mt",
        "outputId": "e309d313-b399-462d-9954-b4ba7cb5b3ab"
      },
      "source": [
        "np.std(ultra)"
      ],
      "execution_count": null,
      "outputs": [
        {
          "output_type": "execute_result",
          "data": {
            "text/plain": [
              "334.8545786473653"
            ]
          },
          "metadata": {
            "tags": []
          },
          "execution_count": 75
        }
      ]
    },
    {
      "cell_type": "code",
      "metadata": {
        "id": "BkdFdWrQx2mu",
        "outputId": "efa4a375-deff-40d7-9a5b-90a43fad2939"
      },
      "source": [
        "np.std(smart)"
      ],
      "execution_count": null,
      "outputs": [
        {
          "output_type": "execute_result",
          "data": {
            "text/plain": [
              "825.359330887627"
            ]
          },
          "metadata": {
            "tags": []
          },
          "execution_count": 76
        }
      ]
    },
    {
      "cell_type": "markdown",
      "metadata": {
        "id": "l5IEF8_tx2mv"
      },
      "source": [
        "### Вывод:"
      ]
    },
    {
      "cell_type": "markdown",
      "metadata": {
        "id": "YYBo7SoLx2mw"
      },
      "source": [
        "Несмотря на то, что общий объем выручки по тарифу Смарт выше, что связано с большим количеством клиентов у данного тарифа, средняя выручка по тарифу ультра выше, что связано со стоимость почти в 4 раза превышающую стоимость тарифа Смарт. Также интересно, что средняя выручка по тарифу Смарт больше чем в два раза превышают стоимость абонентской платы, что указывает на то, что пользователи этого тарифа часто переплачивают за использование сверх тарифного плана. В связи с этим видим, что и значения стандартного отконения и дисперсии у Смарт больше. А вот среднее тарифа Ультра практически равно стоимости абонентской платы тарифа и переплата незначительна."
      ]
    },
    {
      "cell_type": "markdown",
      "metadata": {
        "id": "YE6Z51CIx2mx"
      },
      "source": [
        "### Поверим гипотезу, что средняя выручка пользователей из Москвы сопоставима с выручкой пользователей из других регионов"
      ]
    },
    {
      "cell_type": "markdown",
      "metadata": {
        "id": "vqgKkrelx2mx"
      },
      "source": [
        "Сформулируем нулевую гипотезу(H0), что средняя выручка пользователей из Москвы равна средней выручке пользователей из других регионов. А альтернативная гипотеза(H1) будет выглядеть следующим образом: Средняя выручка пользователей из Москвы отличается от средней выручки пользователей из других регионов."
      ]
    },
    {
      "cell_type": "markdown",
      "metadata": {
        "id": "eAhFvM0Ix2m0"
      },
      "source": [
        "Создадим две переменные, хранящие информацию о пользователях из Москвы и других регионов."
      ]
    },
    {
      "cell_type": "code",
      "metadata": {
        "id": "YRR3WLu7x2m0"
      },
      "source": [
        "msc = df.query('city == \"Москва\"')\n",
        "other = df.query('city != \"Москва\"')"
      ],
      "execution_count": null,
      "outputs": []
    },
    {
      "cell_type": "code",
      "metadata": {
        "id": "7WNnB6YGx2m1"
      },
      "source": [
        "msc_cost = np.array(msc['cost'])\n",
        "other_cost = np.array(other['cost'])"
      ],
      "execution_count": null,
      "outputs": []
    },
    {
      "cell_type": "markdown",
      "metadata": {
        "id": "NR0PhM6ux2m2"
      },
      "source": [
        "Проведем статистический тест и проверим нулевую гипотезу, что средняя выручка пользователей из Москвы равнозначна выручке пользователей из других регионов."
      ]
    },
    {
      "cell_type": "code",
      "metadata": {
        "id": "0ovJ5AqQx2m2",
        "outputId": "3c0f7340-5824-4e44-ed3d-18add9572841"
      },
      "source": [
        "np.var(msc_cost)"
      ],
      "execution_count": null,
      "outputs": [
        {
          "output_type": "execute_result",
          "data": {
            "text/plain": [
              "587872.2327599438"
            ]
          },
          "metadata": {
            "tags": []
          },
          "execution_count": 79
        }
      ]
    },
    {
      "cell_type": "code",
      "metadata": {
        "id": "GnMYz17vx2m3",
        "outputId": "c392b2f5-4b7d-4c0d-aefd-f2e1e86a5725"
      },
      "source": [
        "np.var(other_cost)"
      ],
      "execution_count": null,
      "outputs": [
        {
          "output_type": "execute_result",
          "data": {
            "text/plain": [
              "646123.5091943443"
            ]
          },
          "metadata": {
            "tags": []
          },
          "execution_count": 80
        }
      ]
    },
    {
      "cell_type": "code",
      "metadata": {
        "id": "Rjs4xLtYx2m5",
        "outputId": "85ebc5e6-e654-4300-8585-4afd1f33ca48"
      },
      "source": [
        "alpha = .05\n",
        "results_city = st.ttest_ind(msc_cost, other_cost, equal_var=False)\n",
        "print('p-значение:', results_city.pvalue)\n",
        "if (results_city.pvalue < alpha):\n",
        "    print(\"Отвергаем нулевую гипотезу\")\n",
        "else:\n",
        "    print(\"Не получилось отвергнуть нулевую гипотезу\")"
      ],
      "execution_count": null,
      "outputs": [
        {
          "output_type": "stream",
          "text": [
            "p-значение: 0.11294385160577562\n",
            "Не получилось отвергнуть нулевую гипотезу\n"
          ],
          "name": "stdout"
        }
      ]
    },
    {
      "cell_type": "markdown",
      "metadata": {
        "id": "0oQhhK3Vx2m7"
      },
      "source": [
        "Принимаем нулевую гипотезу о том, что средняя выручка пользователей из Москвы и средняя выручка по остальным регионам одинакова. Вероятность 11 процентов достаточна, чтобы принять данную гипотезу."
      ]
    },
    {
      "cell_type": "code",
      "metadata": {
        "id": "yusr1GfSx2m7",
        "outputId": "5b072233-19b9-4167-e739-c15cdf6a00af"
      },
      "source": [
        "other['cost'].describe()"
      ],
      "execution_count": null,
      "outputs": [
        {
          "output_type": "execute_result",
          "data": {
            "text/plain": [
              "count    2176.000000\n",
              "mean     1496.776195\n",
              "std       804.002847\n",
              "min       550.000000\n",
              "25%       733.000000\n",
              "50%      1550.000000\n",
              "75%      1950.000000\n",
              "max      6770.000000\n",
              "Name: cost, dtype: float64"
            ]
          },
          "metadata": {
            "tags": []
          },
          "execution_count": 82
        }
      ]
    },
    {
      "cell_type": "code",
      "metadata": {
        "id": "mRPPOKrfx2m8",
        "outputId": "cdda7a8c-bd3e-4e4c-c283-cc41560af34d"
      },
      "source": [
        "msc['cost'].describe()"
      ],
      "execution_count": null,
      "outputs": [
        {
          "output_type": "execute_result",
          "data": {
            "text/plain": [
              "count     491.000000\n",
              "mean     1558.173116\n",
              "std       767.510242\n",
              "min       550.000000\n",
              "25%       798.000000\n",
              "50%      1859.000000\n",
              "75%      1950.000000\n",
              "max      5321.000000\n",
              "Name: cost, dtype: float64"
            ]
          },
          "metadata": {
            "tags": []
          },
          "execution_count": 83
        }
      ]
    },
    {
      "cell_type": "markdown",
      "metadata": {
        "id": "JcN5e5ksx2m9"
      },
      "source": [
        "Найдя среднее, стандартное отклонение и дисперсию выбоок по Москве и другим регионам, видим, что значения несильно отличаются друг от друга, чем можем подтвердить равенство двух выборок и правильность нулевой гипотезы."
      ]
    },
    {
      "cell_type": "code",
      "metadata": {
        "id": "VR7onumKx2m-",
        "outputId": "3e217871-cfd5-4ebd-c252-3dfe40091da4"
      },
      "source": [
        "len(msc['user_id'].value_counts()) / len(df['user_id'].value_counts())"
      ],
      "execution_count": null,
      "outputs": [
        {
          "output_type": "execute_result",
          "data": {
            "text/plain": [
              "0.1957040572792363"
            ]
          },
          "metadata": {
            "tags": []
          },
          "execution_count": 84
        }
      ]
    },
    {
      "cell_type": "markdown",
      "metadata": {
        "id": "_DQIrw04x2m_"
      },
      "source": [
        "Количество пользователей из Москвы составляет почти 1/5 от общего количества."
      ]
    },
    {
      "cell_type": "code",
      "metadata": {
        "id": "eYo2Yqytx2nA",
        "outputId": "6d78eef7-df0d-4399-e880-5845513743f2"
      },
      "source": [
        "plt.hist(msc_cost, color='b')\n",
        "plt.hist(other_cost, alpha=0.5, color='g')\n",
        "plt.title('Объем выручки пользователей из Москвы и других регионов')\n",
        "plt.xlabel('Выручка')\n",
        "plt.show()"
      ],
      "execution_count": null,
      "outputs": [
        {
          "output_type": "display_data",
          "data": {
            "image/png": "[encoded data removed]",
            "text/plain": [
              "<Figure size 432x288 with 1 Axes>"
            ]
          },
          "metadata": {
            "tags": [],
            "needs_background": "light"
          }
        }
      ]
    },
    {
      "cell_type": "markdown",
      "metadata": {
        "id": "zHGE-7Xjx2nB"
      },
      "source": [
        "### Вывод:"
      ]
    },
    {
      "cell_type": "markdown",
      "metadata": {
        "id": "lIu346FAx2nC"
      },
      "source": [
        "По графику хорошо заметно, что несмотря на то, что количество пользователей из Москвы значительно меньше, чем из других регионов вместе взятых, распределены данные одинаково, о чем говорят близкие зачения среднего, стандартного отклонения и дисперсии. Проверив нулевую гипотезу, выяснили, что средняя выручка по выборкам из Москвы и других регинов очень схожа. "
      ]
    },
    {
      "cell_type": "markdown",
      "metadata": {
        "id": "_TM9QKuAx2nC"
      },
      "source": [
        "## Финальный вывод\n",
        "<a id= \"conclusion\"></a>"
      ]
    },
    {
      "cell_type": "markdown",
      "metadata": {
        "id": "LmIP80Acx2nD"
      },
      "source": [
        "В данном проекте мы проанализировали данные о пользователях тарифов компании \"Мегалайн\". Данная компания предлагает своим пользователям два тарифа: Смарт - более выгодный и экономный тариф, и Ультра - тариф более дорогой, но включающий в свой тарифный план значительно больше минут, смс и объем интернет-трафика. Задачей проекта было выяснить, какой тариф лучше и приносит компании больше денег. Проанализировав данные о 500 пользователей компании можем отметить следующие выводы:\n",
        "\n",
        "- По общему объему выручки конечно лидирует тариф смарт, что объясняется большим, чем у тарифа Ультра, количеством пользователей.\n",
        "- Количество пользователей каждого тарифа в течение года росло, но рост у тарифа Смарт был чуть более быстрым.\n",
        "- Разброс данных по выручке  тарифа Смарт более большой, о чем свидетельствует его стандартное отконение. Это говорит о том, что пользователи этого тарифа чаще используют минуты, смс и интернет сверх тарифного плана. Порой им выгоднее было бы использовать тариф ультра, цена которого составляет около 2000 рублей. А также средняя выручка по тарифу Смарт больше чем в два раза превышает стоимость абонентской платы. А вот средняя выручка по тарифу Ультра близка к его стоимости. \n",
        "\n",
        "Проверив сформулированные нулевые гипотезы сделаем следующие выводы:\n",
        "\n",
        "- Средняя выручка по тарифам Смарт и Ультра различна. Средняя выручка по тарифу Ультра выше, но количество пользователей тарифа Смарт больше, что говорит о большей популярности и выгодности данного тарифа. \n",
        "- Средняя выручка по пользователям из Москвы и других регионов одинакова.\n",
        "\n",
        "Подведя итог можно сказать, что несмотря на экономность тарифа Смарт, есть пользователи, которые за счет дополнительных минут смс и гигабайтов, платят больше, чем пользователи тарифа Ультра. В сявзи с этим считаю, что как для пользователей, так и для оператора более выгодным можно считать тариф Смарт. Для первых он выгоден тем, что есть пользователи, которые укладываются в тарифный план и платят при этом в 4 раза меньше, чем, если бы пользовались тарифом Ультра. А оператору выгоден тем, что есть пользователи, которые используют тариф сверх плана и при этом приносят достаточно большую выручку компании. В то время как пользователи тарифа Ультра не выходят за лимит сообщений и звонков. В то же время тариф Ультра выгоден тем, что каждый месяц пользователь приносит компании достаточно высокую фиксированную сумму, какое количество смс, звонков и интернета он бы не истратил. Но все же считаю, что Смарт более выгоден, так как компания должна ориентироваться на интересы пользователей)"
      ]
    }
  ]
}