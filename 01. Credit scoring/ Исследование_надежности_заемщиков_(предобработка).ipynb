{
  "nbformat": 4,
  "nbformat_minor": 0,
  "metadata": {
    "kernelspec": {
      "display_name": "Python 3",
      "language": "python",
      "name": "python3"
    },
    "language_info": {
      "codemirror_mode": {
        "name": "ipython",
        "version": 3
      },
      "file_extension": ".py",
      "mimetype": "text/x-python",
      "name": "python",
      "nbconvert_exporter": "python",
      "pygments_lexer": "ipython3",
      "version": "3.7.8"
    },
    "toc": {
      "base_numbering": 1,
      "nav_menu": {},
      "number_sections": true,
      "sideBar": true,
      "skip_h1_title": false,
      "title_cell": "Table of Contents",
      "title_sidebar": "Contents",
      "toc_cell": false,
      "toc_position": {},
      "toc_section_display": true,
      "toc_window_display": false
    },
    "colab": {
      "name": "Исследование надежности заемщиков (предобработка).ipynb",
      "provenance": []
    }
  },
  "cells": [
    {
      "cell_type": "markdown",
      "metadata": {
        "id": "jTFYajsfu9X3"
      },
      "source": [
        "## Исследование надёжности заёмщиков\n"
      ]
    },
    {
      "cell_type": "markdown",
      "metadata": {
        "id": "LzOCXxRSu9X8"
      },
      "source": [
        "### Шаг 1. Откройте файл с данными и изучите общую информацию. "
      ]
    },
    {
      "cell_type": "code",
      "metadata": {
        "id": "D6cFqyR-u9X-",
        "outputId": "e6763f81-36dc-44fa-d3dc-8da433dcba92"
      },
      "source": [
        "import pandas as pd\n",
        "data = pd.read_csv('/datasets/data.csv')\n",
        "data.info()"
      ],
      "execution_count": null,
      "outputs": [
        {
          "output_type": "stream",
          "text": [
            "<class 'pandas.core.frame.DataFrame'>\n",
            "RangeIndex: 21525 entries, 0 to 21524\n",
            "Data columns (total 12 columns):\n",
            "children            21525 non-null int64\n",
            "days_employed       19351 non-null float64\n",
            "dob_years           21525 non-null int64\n",
            "education           21525 non-null object\n",
            "education_id        21525 non-null int64\n",
            "family_status       21525 non-null object\n",
            "family_status_id    21525 non-null int64\n",
            "gender              21525 non-null object\n",
            "income_type         21525 non-null object\n",
            "debt                21525 non-null int64\n",
            "total_income        19351 non-null float64\n",
            "purpose             21525 non-null object\n",
            "dtypes: float64(2), int64(5), object(5)\n",
            "memory usage: 2.0+ MB\n"
          ],
          "name": "stdout"
        }
      ]
    },
    {
      "cell_type": "markdown",
      "metadata": {
        "id": "3VbqPfMTu9YG"
      },
      "source": [
        "Вывели на экран информацию о данной таблице."
      ]
    },
    {
      "cell_type": "code",
      "metadata": {
        "id": "JIZRJ_FAu9YI",
        "outputId": "0941967c-7ddc-4598-f6c3-db579f7a18ef"
      },
      "source": [
        "data.head(10)"
      ],
      "execution_count": null,
      "outputs": [
        {
          "output_type": "execute_result",
          "data": {
            "text/html": [
              "<div>\n",
              "<style scoped>\n",
              "    .dataframe tbody tr th:only-of-type {\n",
              "        vertical-align: middle;\n",
              "    }\n",
              "\n",
              "    .dataframe tbody tr th {\n",
              "        vertical-align: top;\n",
              "    }\n",
              "\n",
              "    .dataframe thead th {\n",
              "        text-align: right;\n",
              "    }\n",
              "</style>\n",
              "<table border=\"1\" class=\"dataframe\">\n",
              "  <thead>\n",
              "    <tr style=\"text-align: right;\">\n",
              "      <th></th>\n",
              "      <th>children</th>\n",
              "      <th>days_employed</th>\n",
              "      <th>dob_years</th>\n",
              "      <th>education</th>\n",
              "      <th>education_id</th>\n",
              "      <th>family_status</th>\n",
              "      <th>family_status_id</th>\n",
              "      <th>gender</th>\n",
              "      <th>income_type</th>\n",
              "      <th>debt</th>\n",
              "      <th>total_income</th>\n",
              "      <th>purpose</th>\n",
              "    </tr>\n",
              "  </thead>\n",
              "  <tbody>\n",
              "    <tr>\n",
              "      <td>0</td>\n",
              "      <td>1</td>\n",
              "      <td>-8437.673028</td>\n",
              "      <td>42</td>\n",
              "      <td>высшее</td>\n",
              "      <td>0</td>\n",
              "      <td>женат / замужем</td>\n",
              "      <td>0</td>\n",
              "      <td>F</td>\n",
              "      <td>сотрудник</td>\n",
              "      <td>0</td>\n",
              "      <td>253875.639453</td>\n",
              "      <td>покупка жилья</td>\n",
              "    </tr>\n",
              "    <tr>\n",
              "      <td>1</td>\n",
              "      <td>1</td>\n",
              "      <td>-4024.803754</td>\n",
              "      <td>36</td>\n",
              "      <td>среднее</td>\n",
              "      <td>1</td>\n",
              "      <td>женат / замужем</td>\n",
              "      <td>0</td>\n",
              "      <td>F</td>\n",
              "      <td>сотрудник</td>\n",
              "      <td>0</td>\n",
              "      <td>112080.014102</td>\n",
              "      <td>приобретение автомобиля</td>\n",
              "    </tr>\n",
              "    <tr>\n",
              "      <td>2</td>\n",
              "      <td>0</td>\n",
              "      <td>-5623.422610</td>\n",
              "      <td>33</td>\n",
              "      <td>Среднее</td>\n",
              "      <td>1</td>\n",
              "      <td>женат / замужем</td>\n",
              "      <td>0</td>\n",
              "      <td>M</td>\n",
              "      <td>сотрудник</td>\n",
              "      <td>0</td>\n",
              "      <td>145885.952297</td>\n",
              "      <td>покупка жилья</td>\n",
              "    </tr>\n",
              "    <tr>\n",
              "      <td>3</td>\n",
              "      <td>3</td>\n",
              "      <td>-4124.747207</td>\n",
              "      <td>32</td>\n",
              "      <td>среднее</td>\n",
              "      <td>1</td>\n",
              "      <td>женат / замужем</td>\n",
              "      <td>0</td>\n",
              "      <td>M</td>\n",
              "      <td>сотрудник</td>\n",
              "      <td>0</td>\n",
              "      <td>267628.550329</td>\n",
              "      <td>дополнительное образование</td>\n",
              "    </tr>\n",
              "    <tr>\n",
              "      <td>4</td>\n",
              "      <td>0</td>\n",
              "      <td>340266.072047</td>\n",
              "      <td>53</td>\n",
              "      <td>среднее</td>\n",
              "      <td>1</td>\n",
              "      <td>гражданский брак</td>\n",
              "      <td>1</td>\n",
              "      <td>F</td>\n",
              "      <td>пенсионер</td>\n",
              "      <td>0</td>\n",
              "      <td>158616.077870</td>\n",
              "      <td>сыграть свадьбу</td>\n",
              "    </tr>\n",
              "    <tr>\n",
              "      <td>5</td>\n",
              "      <td>0</td>\n",
              "      <td>-926.185831</td>\n",
              "      <td>27</td>\n",
              "      <td>высшее</td>\n",
              "      <td>0</td>\n",
              "      <td>гражданский брак</td>\n",
              "      <td>1</td>\n",
              "      <td>M</td>\n",
              "      <td>компаньон</td>\n",
              "      <td>0</td>\n",
              "      <td>255763.565419</td>\n",
              "      <td>покупка жилья</td>\n",
              "    </tr>\n",
              "    <tr>\n",
              "      <td>6</td>\n",
              "      <td>0</td>\n",
              "      <td>-2879.202052</td>\n",
              "      <td>43</td>\n",
              "      <td>высшее</td>\n",
              "      <td>0</td>\n",
              "      <td>женат / замужем</td>\n",
              "      <td>0</td>\n",
              "      <td>F</td>\n",
              "      <td>компаньон</td>\n",
              "      <td>0</td>\n",
              "      <td>240525.971920</td>\n",
              "      <td>операции с жильем</td>\n",
              "    </tr>\n",
              "    <tr>\n",
              "      <td>7</td>\n",
              "      <td>0</td>\n",
              "      <td>-152.779569</td>\n",
              "      <td>50</td>\n",
              "      <td>СРЕДНЕЕ</td>\n",
              "      <td>1</td>\n",
              "      <td>женат / замужем</td>\n",
              "      <td>0</td>\n",
              "      <td>M</td>\n",
              "      <td>сотрудник</td>\n",
              "      <td>0</td>\n",
              "      <td>135823.934197</td>\n",
              "      <td>образование</td>\n",
              "    </tr>\n",
              "    <tr>\n",
              "      <td>8</td>\n",
              "      <td>2</td>\n",
              "      <td>-6929.865299</td>\n",
              "      <td>35</td>\n",
              "      <td>ВЫСШЕЕ</td>\n",
              "      <td>0</td>\n",
              "      <td>гражданский брак</td>\n",
              "      <td>1</td>\n",
              "      <td>F</td>\n",
              "      <td>сотрудник</td>\n",
              "      <td>0</td>\n",
              "      <td>95856.832424</td>\n",
              "      <td>на проведение свадьбы</td>\n",
              "    </tr>\n",
              "    <tr>\n",
              "      <td>9</td>\n",
              "      <td>0</td>\n",
              "      <td>-2188.756445</td>\n",
              "      <td>41</td>\n",
              "      <td>среднее</td>\n",
              "      <td>1</td>\n",
              "      <td>женат / замужем</td>\n",
              "      <td>0</td>\n",
              "      <td>M</td>\n",
              "      <td>сотрудник</td>\n",
              "      <td>0</td>\n",
              "      <td>144425.938277</td>\n",
              "      <td>покупка жилья для семьи</td>\n",
              "    </tr>\n",
              "  </tbody>\n",
              "</table>\n",
              "</div>"
            ],
            "text/plain": [
              "   children  days_employed  dob_years education  education_id  \\\n",
              "0         1   -8437.673028         42    высшее             0   \n",
              "1         1   -4024.803754         36   среднее             1   \n",
              "2         0   -5623.422610         33   Среднее             1   \n",
              "3         3   -4124.747207         32   среднее             1   \n",
              "4         0  340266.072047         53   среднее             1   \n",
              "5         0    -926.185831         27    высшее             0   \n",
              "6         0   -2879.202052         43    высшее             0   \n",
              "7         0    -152.779569         50   СРЕДНЕЕ             1   \n",
              "8         2   -6929.865299         35    ВЫСШЕЕ             0   \n",
              "9         0   -2188.756445         41   среднее             1   \n",
              "\n",
              "      family_status  family_status_id gender income_type  debt   total_income  \\\n",
              "0   женат / замужем                 0      F   сотрудник     0  253875.639453   \n",
              "1   женат / замужем                 0      F   сотрудник     0  112080.014102   \n",
              "2   женат / замужем                 0      M   сотрудник     0  145885.952297   \n",
              "3   женат / замужем                 0      M   сотрудник     0  267628.550329   \n",
              "4  гражданский брак                 1      F   пенсионер     0  158616.077870   \n",
              "5  гражданский брак                 1      M   компаньон     0  255763.565419   \n",
              "6   женат / замужем                 0      F   компаньон     0  240525.971920   \n",
              "7   женат / замужем                 0      M   сотрудник     0  135823.934197   \n",
              "8  гражданский брак                 1      F   сотрудник     0   95856.832424   \n",
              "9   женат / замужем                 0      M   сотрудник     0  144425.938277   \n",
              "\n",
              "                      purpose  \n",
              "0               покупка жилья  \n",
              "1     приобретение автомобиля  \n",
              "2               покупка жилья  \n",
              "3  дополнительное образование  \n",
              "4             сыграть свадьбу  \n",
              "5               покупка жилья  \n",
              "6           операции с жильем  \n",
              "7                 образование  \n",
              "8       на проведение свадьбы  \n",
              "9     покупка жилья для семьи  "
            ]
          },
          "metadata": {
            "tags": []
          },
          "execution_count": 2
        }
      ]
    },
    {
      "cell_type": "markdown",
      "metadata": {
        "id": "BVFK4W8Cu9YL"
      },
      "source": [
        "Рассмотрим первые 10 строк таблицы. \n",
        "Всего таблица содержит 12 столбцов.\n",
        "\n",
        "Видим, что данные в столбце 'days_employed' очень странные. Много отрицательных чисел, очень большие числа(если переводить их в года получается 900 лет, чего быть не может). Рассмотрим данные этого столбца подробнее."
      ]
    },
    {
      "cell_type": "code",
      "metadata": {
        "id": "Wo6hvtnnu9YN",
        "outputId": "34d0169b-5945-406d-fbfe-60ee7448746f"
      },
      "source": [
        "days_employed_new = data[data['days_employed'] > 0]\n",
        "days_employed_new.head(10)"
      ],
      "execution_count": null,
      "outputs": [
        {
          "output_type": "execute_result",
          "data": {
            "text/html": [
              "<div>\n",
              "<style scoped>\n",
              "    .dataframe tbody tr th:only-of-type {\n",
              "        vertical-align: middle;\n",
              "    }\n",
              "\n",
              "    .dataframe tbody tr th {\n",
              "        vertical-align: top;\n",
              "    }\n",
              "\n",
              "    .dataframe thead th {\n",
              "        text-align: right;\n",
              "    }\n",
              "</style>\n",
              "<table border=\"1\" class=\"dataframe\">\n",
              "  <thead>\n",
              "    <tr style=\"text-align: right;\">\n",
              "      <th></th>\n",
              "      <th>children</th>\n",
              "      <th>days_employed</th>\n",
              "      <th>dob_years</th>\n",
              "      <th>education</th>\n",
              "      <th>education_id</th>\n",
              "      <th>family_status</th>\n",
              "      <th>family_status_id</th>\n",
              "      <th>gender</th>\n",
              "      <th>income_type</th>\n",
              "      <th>debt</th>\n",
              "      <th>total_income</th>\n",
              "      <th>purpose</th>\n",
              "    </tr>\n",
              "  </thead>\n",
              "  <tbody>\n",
              "    <tr>\n",
              "      <td>4</td>\n",
              "      <td>0</td>\n",
              "      <td>340266.072047</td>\n",
              "      <td>53</td>\n",
              "      <td>среднее</td>\n",
              "      <td>1</td>\n",
              "      <td>гражданский брак</td>\n",
              "      <td>1</td>\n",
              "      <td>F</td>\n",
              "      <td>пенсионер</td>\n",
              "      <td>0</td>\n",
              "      <td>158616.077870</td>\n",
              "      <td>сыграть свадьбу</td>\n",
              "    </tr>\n",
              "    <tr>\n",
              "      <td>18</td>\n",
              "      <td>0</td>\n",
              "      <td>400281.136913</td>\n",
              "      <td>53</td>\n",
              "      <td>среднее</td>\n",
              "      <td>1</td>\n",
              "      <td>вдовец / вдова</td>\n",
              "      <td>2</td>\n",
              "      <td>F</td>\n",
              "      <td>пенсионер</td>\n",
              "      <td>0</td>\n",
              "      <td>56823.777243</td>\n",
              "      <td>на покупку подержанного автомобиля</td>\n",
              "    </tr>\n",
              "    <tr>\n",
              "      <td>24</td>\n",
              "      <td>1</td>\n",
              "      <td>338551.952911</td>\n",
              "      <td>57</td>\n",
              "      <td>среднее</td>\n",
              "      <td>1</td>\n",
              "      <td>Не женат / не замужем</td>\n",
              "      <td>4</td>\n",
              "      <td>F</td>\n",
              "      <td>пенсионер</td>\n",
              "      <td>0</td>\n",
              "      <td>290547.235997</td>\n",
              "      <td>операции с коммерческой недвижимостью</td>\n",
              "    </tr>\n",
              "    <tr>\n",
              "      <td>25</td>\n",
              "      <td>0</td>\n",
              "      <td>363548.489348</td>\n",
              "      <td>67</td>\n",
              "      <td>среднее</td>\n",
              "      <td>1</td>\n",
              "      <td>женат / замужем</td>\n",
              "      <td>0</td>\n",
              "      <td>M</td>\n",
              "      <td>пенсионер</td>\n",
              "      <td>0</td>\n",
              "      <td>55112.757732</td>\n",
              "      <td>покупка недвижимости</td>\n",
              "    </tr>\n",
              "    <tr>\n",
              "      <td>30</td>\n",
              "      <td>1</td>\n",
              "      <td>335581.668515</td>\n",
              "      <td>62</td>\n",
              "      <td>среднее</td>\n",
              "      <td>1</td>\n",
              "      <td>женат / замужем</td>\n",
              "      <td>0</td>\n",
              "      <td>F</td>\n",
              "      <td>пенсионер</td>\n",
              "      <td>0</td>\n",
              "      <td>171456.067993</td>\n",
              "      <td>операции с коммерческой недвижимостью</td>\n",
              "    </tr>\n",
              "    <tr>\n",
              "      <td>35</td>\n",
              "      <td>0</td>\n",
              "      <td>394021.072184</td>\n",
              "      <td>68</td>\n",
              "      <td>среднее</td>\n",
              "      <td>1</td>\n",
              "      <td>гражданский брак</td>\n",
              "      <td>1</td>\n",
              "      <td>M</td>\n",
              "      <td>пенсионер</td>\n",
              "      <td>0</td>\n",
              "      <td>77805.677436</td>\n",
              "      <td>на проведение свадьбы</td>\n",
              "    </tr>\n",
              "    <tr>\n",
              "      <td>50</td>\n",
              "      <td>0</td>\n",
              "      <td>353731.432338</td>\n",
              "      <td>63</td>\n",
              "      <td>среднее</td>\n",
              "      <td>1</td>\n",
              "      <td>женат / замужем</td>\n",
              "      <td>0</td>\n",
              "      <td>F</td>\n",
              "      <td>пенсионер</td>\n",
              "      <td>0</td>\n",
              "      <td>92342.730612</td>\n",
              "      <td>автомобили</td>\n",
              "    </tr>\n",
              "    <tr>\n",
              "      <td>56</td>\n",
              "      <td>0</td>\n",
              "      <td>370145.087237</td>\n",
              "      <td>64</td>\n",
              "      <td>среднее</td>\n",
              "      <td>1</td>\n",
              "      <td>вдовец / вдова</td>\n",
              "      <td>2</td>\n",
              "      <td>F</td>\n",
              "      <td>пенсионер</td>\n",
              "      <td>0</td>\n",
              "      <td>149141.043533</td>\n",
              "      <td>образование</td>\n",
              "    </tr>\n",
              "    <tr>\n",
              "      <td>71</td>\n",
              "      <td>0</td>\n",
              "      <td>338113.529892</td>\n",
              "      <td>62</td>\n",
              "      <td>среднее</td>\n",
              "      <td>1</td>\n",
              "      <td>женат / замужем</td>\n",
              "      <td>0</td>\n",
              "      <td>F</td>\n",
              "      <td>пенсионер</td>\n",
              "      <td>0</td>\n",
              "      <td>43929.696397</td>\n",
              "      <td>автомобили</td>\n",
              "    </tr>\n",
              "    <tr>\n",
              "      <td>78</td>\n",
              "      <td>0</td>\n",
              "      <td>359722.945074</td>\n",
              "      <td>61</td>\n",
              "      <td>высшее</td>\n",
              "      <td>0</td>\n",
              "      <td>женат / замужем</td>\n",
              "      <td>0</td>\n",
              "      <td>M</td>\n",
              "      <td>пенсионер</td>\n",
              "      <td>0</td>\n",
              "      <td>175127.646000</td>\n",
              "      <td>сделка с автомобилем</td>\n",
              "    </tr>\n",
              "  </tbody>\n",
              "</table>\n",
              "</div>"
            ],
            "text/plain": [
              "    children  days_employed  dob_years education  education_id  \\\n",
              "4          0  340266.072047         53   среднее             1   \n",
              "18         0  400281.136913         53   среднее             1   \n",
              "24         1  338551.952911         57   среднее             1   \n",
              "25         0  363548.489348         67   среднее             1   \n",
              "30         1  335581.668515         62   среднее             1   \n",
              "35         0  394021.072184         68   среднее             1   \n",
              "50         0  353731.432338         63   среднее             1   \n",
              "56         0  370145.087237         64   среднее             1   \n",
              "71         0  338113.529892         62   среднее             1   \n",
              "78         0  359722.945074         61    высшее             0   \n",
              "\n",
              "            family_status  family_status_id gender income_type  debt  \\\n",
              "4        гражданский брак                 1      F   пенсионер     0   \n",
              "18         вдовец / вдова                 2      F   пенсионер     0   \n",
              "24  Не женат / не замужем                 4      F   пенсионер     0   \n",
              "25        женат / замужем                 0      M   пенсионер     0   \n",
              "30        женат / замужем                 0      F   пенсионер     0   \n",
              "35       гражданский брак                 1      M   пенсионер     0   \n",
              "50        женат / замужем                 0      F   пенсионер     0   \n",
              "56         вдовец / вдова                 2      F   пенсионер     0   \n",
              "71        женат / замужем                 0      F   пенсионер     0   \n",
              "78        женат / замужем                 0      M   пенсионер     0   \n",
              "\n",
              "     total_income                                purpose  \n",
              "4   158616.077870                        сыграть свадьбу  \n",
              "18   56823.777243     на покупку подержанного автомобиля  \n",
              "24  290547.235997  операции с коммерческой недвижимостью  \n",
              "25   55112.757732                   покупка недвижимости  \n",
              "30  171456.067993  операции с коммерческой недвижимостью  \n",
              "35   77805.677436                  на проведение свадьбы  \n",
              "50   92342.730612                             автомобили  \n",
              "56  149141.043533                            образование  \n",
              "71   43929.696397                             автомобили  \n",
              "78  175127.646000                   сделка с автомобилем  "
            ]
          },
          "metadata": {
            "tags": []
          },
          "execution_count": 3
        }
      ]
    },
    {
      "cell_type": "markdown",
      "metadata": {
        "id": "s0du2uHTu9YQ"
      },
      "source": [
        "Посмотрев на положительные значения в столбце 'days_employed', замечаем, что в столбце 'income_type' только пенсионеры.\n",
        "Проверим уникальные значения отсортированного датасета."
      ]
    },
    {
      "cell_type": "code",
      "metadata": {
        "id": "jLjvexV0u9YS",
        "outputId": "7f7acac1-a453-422d-862e-2295d86de1b9"
      },
      "source": [
        "print('Количество положительных значений в столбце days_employed:', len(days_employed_new))\n",
        "days_employed_new.groupby('income_type')['days_employed'].count()"
      ],
      "execution_count": null,
      "outputs": [
        {
          "output_type": "stream",
          "text": [
            "Количество положительных значений в столбце days_employed: 3445\n"
          ],
          "name": "stdout"
        },
        {
          "output_type": "execute_result",
          "data": {
            "text/plain": [
              "income_type\n",
              "безработный       2\n",
              "пенсионер      3443\n",
              "Name: days_employed, dtype: int64"
            ]
          },
          "metadata": {
            "tags": []
          },
          "execution_count": 4
        }
      ]
    },
    {
      "cell_type": "markdown",
      "metadata": {
        "id": "7GWbgsoNu9YV"
      },
      "source": [
        "Видим, что положительные значения столбца 'days_employed' только у пенсионеров и безработных.\n",
        "всего строк с положительными значениями трудового стажа 3445, соответственно все они и приходятся на пенсионеров и безработных,\n",
        "то есть у тех категорий граждан, которые в данный момент не работают. Также заметили, что все эти числа очень большие(300 000 - 400 000). В столбце указан трудовой стаж в днях, а если перевести эти числа в года, получается 800 - 1000 лет, что не может быть верно. Соответственно во время заполнения данных произошла ошибка, либо данные указаны не в днях, а каких-либо более мелких единицах. "
      ]
    },
    {
      "cell_type": "markdown",
      "metadata": {
        "id": "67rE_l78u9YX"
      },
      "source": [
        "Посмотрем данные о количестве детей."
      ]
    },
    {
      "cell_type": "code",
      "metadata": {
        "id": "Fs-STxIfu9YY",
        "outputId": "6c641b0b-34d3-4526-f3fe-3d7925cb92ec"
      },
      "source": [
        "data['children'].value_counts()"
      ],
      "execution_count": null,
      "outputs": [
        {
          "output_type": "execute_result",
          "data": {
            "text/plain": [
              " 0     14149\n",
              " 1      4818\n",
              " 2      2055\n",
              " 3       330\n",
              " 20       76\n",
              "-1        47\n",
              " 4        41\n",
              " 5         9\n",
              "Name: children, dtype: int64"
            ]
          },
          "metadata": {
            "tags": []
          },
          "execution_count": 5
        }
      ]
    },
    {
      "cell_type": "markdown",
      "metadata": {
        "id": "3HU5aTVLu9Ya"
      },
      "source": [
        "Видим, что в столбце есть отрицательные значения (-1) и большие значения (20). Заменим эти значения на 1 и 2 соответственно."
      ]
    },
    {
      "cell_type": "code",
      "metadata": {
        "id": "WAe1IOShu9Yc",
        "outputId": "28fffc74-b737-4aca-81a3-ffd56ece997c"
      },
      "source": [
        "data.loc[data['children'] == -1, 'children'] = 1\n",
        "data.loc[data['children'] == 20, 'children'] = 2\n",
        "data['children'].value_counts()"
      ],
      "execution_count": null,
      "outputs": [
        {
          "output_type": "execute_result",
          "data": {
            "text/plain": [
              "0    14149\n",
              "1     4865\n",
              "2     2131\n",
              "3      330\n",
              "4       41\n",
              "5        9\n",
              "Name: children, dtype: int64"
            ]
          },
          "metadata": {
            "tags": []
          },
          "execution_count": 6
        }
      ]
    },
    {
      "cell_type": "markdown",
      "metadata": {
        "id": "LKSYhMyNu9Ye"
      },
      "source": [
        "### Вывод"
      ]
    },
    {
      "cell_type": "markdown",
      "metadata": {
        "id": "6hm6vZweu9Yf"
      },
      "source": [
        "Изучив информацию о данных, заметили несколько проблем. В столбцах с трудовым стажем и количеством детей нашли некорректные значения(отрицательные и очень большие). В первом случае решили ничего не изменять, так как данные для анализа нам не понадобятся. А значения о количестве детей изменили (-1 на 1 и 20 на 2).\n",
        "Для исследования нам понадобятся данные столбцов \"children\", \"family_status\", \"total_income\", \"debt\"."
      ]
    },
    {
      "cell_type": "markdown",
      "metadata": {
        "id": "tKw5uQV4u9Yi"
      },
      "source": [
        "### Шаг 2. Предобработка данных"
      ]
    },
    {
      "cell_type": "markdown",
      "metadata": {
        "id": "ONG8g-nUu9Yk"
      },
      "source": [
        "### Обработка пропусков"
      ]
    },
    {
      "cell_type": "markdown",
      "metadata": {
        "id": "1UwPrI3Mu9Yl"
      },
      "source": [
        "Посмотрим, сколько и в каких столбцах присутствуют пропуски."
      ]
    },
    {
      "cell_type": "code",
      "metadata": {
        "scrolled": true,
        "id": "n-ApVRvcu9Ym",
        "outputId": "e5583de6-85f3-42b6-dbf7-3d938aafa3c5"
      },
      "source": [
        "data.isnull().sum() "
      ],
      "execution_count": null,
      "outputs": [
        {
          "output_type": "execute_result",
          "data": {
            "text/plain": [
              "children               0\n",
              "days_employed       2174\n",
              "dob_years              0\n",
              "education              0\n",
              "education_id           0\n",
              "family_status          0\n",
              "family_status_id       0\n",
              "gender                 0\n",
              "income_type            0\n",
              "debt                   0\n",
              "total_income        2174\n",
              "purpose                0\n",
              "dtype: int64"
            ]
          },
          "metadata": {
            "tags": []
          },
          "execution_count": 7
        }
      ]
    },
    {
      "cell_type": "markdown",
      "metadata": {
        "id": "Ew9-hzWEu9Yo"
      },
      "source": [
        "Так как столбец \"days_employed\" для исследования нам не потребуется, заменим пропуски нулями. "
      ]
    },
    {
      "cell_type": "code",
      "metadata": {
        "id": "wxL7WVVPu9Yq",
        "outputId": "ac0a55f7-2674-4da3-b903-0d124d745dfb"
      },
      "source": [
        "data['days_employed'] = data['days_employed'].fillna(0)\n",
        "data['days_employed'].isnull().sum()"
      ],
      "execution_count": null,
      "outputs": [
        {
          "output_type": "execute_result",
          "data": {
            "text/plain": [
              "0"
            ]
          },
          "metadata": {
            "tags": []
          },
          "execution_count": 8
        }
      ]
    },
    {
      "cell_type": "markdown",
      "metadata": {
        "id": "t0fT_d7Vu9Ys"
      },
      "source": [
        "Пропуски в столбце \"total_income\"(доход) заменим медианным значением. В случае с зарплатами лучше использовать медиану, а не среднее арифметическое, так как среднее очень чувствительно к сильно отклоняющимся от общей массы значениям. "
      ]
    },
    {
      "cell_type": "code",
      "metadata": {
        "id": "7RuBxd1qu9Yt",
        "outputId": "1cc0d448-198b-45f2-e0cd-08966992bee4"
      },
      "source": [
        "income_median = data['total_income'].median()\n",
        "data['total_income'] = data['total_income'].fillna(income_median)\n",
        "data['total_income'].isnull().sum()"
      ],
      "execution_count": null,
      "outputs": [
        {
          "output_type": "execute_result",
          "data": {
            "text/plain": [
              "0"
            ]
          },
          "metadata": {
            "tags": []
          },
          "execution_count": 9
        }
      ]
    },
    {
      "cell_type": "markdown",
      "metadata": {
        "id": "edvv_Vozu9Yv"
      },
      "source": [
        "Проверим наличие пропусков вызовом метододов для суммирования пропущенных значений."
      ]
    },
    {
      "cell_type": "code",
      "metadata": {
        "scrolled": true,
        "id": "Xcas2-zAu9Yx",
        "outputId": "279fe9c5-86cd-41c6-8ecc-f4d62a0b45e8"
      },
      "source": [
        "data.isnull().sum()"
      ],
      "execution_count": null,
      "outputs": [
        {
          "output_type": "execute_result",
          "data": {
            "text/plain": [
              "children            0\n",
              "days_employed       0\n",
              "dob_years           0\n",
              "education           0\n",
              "education_id        0\n",
              "family_status       0\n",
              "family_status_id    0\n",
              "gender              0\n",
              "income_type         0\n",
              "debt                0\n",
              "total_income        0\n",
              "purpose             0\n",
              "dtype: int64"
            ]
          },
          "metadata": {
            "tags": []
          },
          "execution_count": 10
        }
      ]
    },
    {
      "cell_type": "markdown",
      "metadata": {
        "id": "UYs4lMl5u9Yy"
      },
      "source": [
        "Получим общую информацию о данных и убедимся, что чистка выполнена успешно."
      ]
    },
    {
      "cell_type": "code",
      "metadata": {
        "id": "s-26kJVJu9Y0",
        "outputId": "3a4c589c-ab11-4d0e-db25-879365733154"
      },
      "source": [
        "data.info()"
      ],
      "execution_count": null,
      "outputs": [
        {
          "output_type": "stream",
          "text": [
            "<class 'pandas.core.frame.DataFrame'>\n",
            "RangeIndex: 21525 entries, 0 to 21524\n",
            "Data columns (total 12 columns):\n",
            "children            21525 non-null int64\n",
            "days_employed       21525 non-null float64\n",
            "dob_years           21525 non-null int64\n",
            "education           21525 non-null object\n",
            "education_id        21525 non-null int64\n",
            "family_status       21525 non-null object\n",
            "family_status_id    21525 non-null int64\n",
            "gender              21525 non-null object\n",
            "income_type         21525 non-null object\n",
            "debt                21525 non-null int64\n",
            "total_income        21525 non-null float64\n",
            "purpose             21525 non-null object\n",
            "dtypes: float64(2), int64(5), object(5)\n",
            "memory usage: 2.0+ MB\n"
          ],
          "name": "stdout"
        }
      ]
    },
    {
      "cell_type": "markdown",
      "metadata": {
        "id": "sowVw7UEu9Y1"
      },
      "source": [
        "### Вывод"
      ]
    },
    {
      "cell_type": "markdown",
      "metadata": {
        "id": "s6rsX77Cu9Y3"
      },
      "source": [
        "Заполнили пропуски в столбцах 'days_employed'(трудовой стаж) и 'total_income'(доход). Причины таких пропусков могут быть различны. Например, клиент не указал эти данные при обращении за кредитом."
      ]
    },
    {
      "cell_type": "markdown",
      "metadata": {
        "id": "0kvUAf3Ou9Y6"
      },
      "source": [
        "### Замена типа данных"
      ]
    },
    {
      "cell_type": "code",
      "metadata": {
        "id": "uANNwRXDu9Y7",
        "outputId": "f97f30a0-ff2c-4290-abb1-6eb1e77b047b"
      },
      "source": [
        "data.info()"
      ],
      "execution_count": null,
      "outputs": [
        {
          "output_type": "stream",
          "text": [
            "<class 'pandas.core.frame.DataFrame'>\n",
            "RangeIndex: 21525 entries, 0 to 21524\n",
            "Data columns (total 12 columns):\n",
            "children            21525 non-null int64\n",
            "days_employed       21525 non-null float64\n",
            "dob_years           21525 non-null int64\n",
            "education           21525 non-null object\n",
            "education_id        21525 non-null int64\n",
            "family_status       21525 non-null object\n",
            "family_status_id    21525 non-null int64\n",
            "gender              21525 non-null object\n",
            "income_type         21525 non-null object\n",
            "debt                21525 non-null int64\n",
            "total_income        21525 non-null float64\n",
            "purpose             21525 non-null object\n",
            "dtypes: float64(2), int64(5), object(5)\n",
            "memory usage: 2.0+ MB\n"
          ],
          "name": "stdout"
        }
      ]
    },
    {
      "cell_type": "code",
      "metadata": {
        "id": "zdeGqbFNu9Y9"
      },
      "source": [
        "data['days_employed'] = data['days_employed'].astype('int')\n",
        "data['total_income'] = data['total_income'].astype('int')"
      ],
      "execution_count": null,
      "outputs": []
    },
    {
      "cell_type": "code",
      "metadata": {
        "id": "58chAohcu9Y-",
        "outputId": "434556a7-6bd2-4d80-c506-132dc0935a44"
      },
      "source": [
        "data.info()"
      ],
      "execution_count": null,
      "outputs": [
        {
          "output_type": "stream",
          "text": [
            "<class 'pandas.core.frame.DataFrame'>\n",
            "RangeIndex: 21525 entries, 0 to 21524\n",
            "Data columns (total 12 columns):\n",
            "children            21525 non-null int64\n",
            "days_employed       21525 non-null int64\n",
            "dob_years           21525 non-null int64\n",
            "education           21525 non-null object\n",
            "education_id        21525 non-null int64\n",
            "family_status       21525 non-null object\n",
            "family_status_id    21525 non-null int64\n",
            "gender              21525 non-null object\n",
            "income_type         21525 non-null object\n",
            "debt                21525 non-null int64\n",
            "total_income        21525 non-null int64\n",
            "purpose             21525 non-null object\n",
            "dtypes: int64(7), object(5)\n",
            "memory usage: 2.0+ MB\n"
          ],
          "name": "stdout"
        }
      ]
    },
    {
      "cell_type": "markdown",
      "metadata": {
        "id": "xUrEJnmwu9ZA"
      },
      "source": [
        "### Вывод"
      ]
    },
    {
      "cell_type": "markdown",
      "metadata": {
        "id": "bAAo-1PTu9ZB"
      },
      "source": [
        "Столбцы 'days_employed' и 'total_income' имеют тип данных float. Для удобства проведения с ними математических\n",
        "операций, изменили тип данных на int (целочисленный)."
      ]
    },
    {
      "cell_type": "markdown",
      "metadata": {
        "id": "vui1fphzu9ZD"
      },
      "source": [
        "### Обработка дубликатов"
      ]
    },
    {
      "cell_type": "markdown",
      "metadata": {
        "id": "UL63eCHtu9ZF"
      },
      "source": [
        "При выводе на экран первых строк датасета, заметили, что значения в столбце образование написаны разным регистром. Приведем все значения к нижнему регистру."
      ]
    },
    {
      "cell_type": "code",
      "metadata": {
        "scrolled": true,
        "id": "CBNY9GQVu9ZG",
        "outputId": "b40120cf-8f72-43f6-9ffb-512e631a3fa8"
      },
      "source": [
        "data['education'].value_counts()"
      ],
      "execution_count": null,
      "outputs": [
        {
          "output_type": "execute_result",
          "data": {
            "text/plain": [
              "среднее                13750\n",
              "высшее                  4718\n",
              "СРЕДНЕЕ                  772\n",
              "Среднее                  711\n",
              "неоконченное высшее      668\n",
              "ВЫСШЕЕ                   274\n",
              "Высшее                   268\n",
              "начальное                250\n",
              "Неоконченное высшее       47\n",
              "НЕОКОНЧЕННОЕ ВЫСШЕЕ       29\n",
              "НАЧАЛЬНОЕ                 17\n",
              "Начальное                 15\n",
              "ученая степень             4\n",
              "Ученая степень             1\n",
              "УЧЕНАЯ СТЕПЕНЬ             1\n",
              "Name: education, dtype: int64"
            ]
          },
          "metadata": {
            "tags": []
          },
          "execution_count": 15
        }
      ]
    },
    {
      "cell_type": "code",
      "metadata": {
        "id": "HvVq9gUBu9ZI",
        "outputId": "315402a6-a4c7-4a84-90a1-86681ba8d1cd"
      },
      "source": [
        "data['education'] = data['education'].str.lower()\n",
        "data['education'].value_counts()"
      ],
      "execution_count": null,
      "outputs": [
        {
          "output_type": "execute_result",
          "data": {
            "text/plain": [
              "среднее                15233\n",
              "высшее                  5260\n",
              "неоконченное высшее      744\n",
              "начальное                282\n",
              "ученая степень             6\n",
              "Name: education, dtype: int64"
            ]
          },
          "metadata": {
            "tags": []
          },
          "execution_count": 16
        }
      ]
    },
    {
      "cell_type": "markdown",
      "metadata": {
        "id": "iYMd-8Mpu9ZJ"
      },
      "source": [
        "Проверим остальные столбцы."
      ]
    },
    {
      "cell_type": "code",
      "metadata": {
        "id": "xFwaQ81zu9ZL",
        "outputId": "be27d306-c795-42ae-a015-42a6c3e54e8b"
      },
      "source": [
        "data['family_status'].value_counts()"
      ],
      "execution_count": null,
      "outputs": [
        {
          "output_type": "execute_result",
          "data": {
            "text/plain": [
              "женат / замужем          12380\n",
              "гражданский брак          4177\n",
              "Не женат / не замужем     2813\n",
              "в разводе                 1195\n",
              "вдовец / вдова             960\n",
              "Name: family_status, dtype: int64"
            ]
          },
          "metadata": {
            "tags": []
          },
          "execution_count": 17
        }
      ]
    },
    {
      "cell_type": "code",
      "metadata": {
        "id": "4CqoWJF9u9ZN",
        "outputId": "d75d326c-e224-436b-bfd1-3b46afac9a54"
      },
      "source": [
        "data['income_type'].value_counts()"
      ],
      "execution_count": null,
      "outputs": [
        {
          "output_type": "execute_result",
          "data": {
            "text/plain": [
              "сотрудник          11119\n",
              "компаньон           5085\n",
              "пенсионер           3856\n",
              "госслужащий         1459\n",
              "безработный            2\n",
              "предприниматель        2\n",
              "в декрете              1\n",
              "студент                1\n",
              "Name: income_type, dtype: int64"
            ]
          },
          "metadata": {
            "tags": []
          },
          "execution_count": 18
        }
      ]
    },
    {
      "cell_type": "markdown",
      "metadata": {
        "id": "9H2mJrihu9ZU"
      },
      "source": [
        "Выведем количество дубликатов."
      ]
    },
    {
      "cell_type": "code",
      "metadata": {
        "id": "21zI7xaiu9ZW",
        "outputId": "e2998b76-edb5-4d79-eb8e-8c85883e5646"
      },
      "source": [
        "data.duplicated().sum()"
      ],
      "execution_count": null,
      "outputs": [
        {
          "output_type": "execute_result",
          "data": {
            "text/plain": [
              "71"
            ]
          },
          "metadata": {
            "tags": []
          },
          "execution_count": 19
        }
      ]
    },
    {
      "cell_type": "code",
      "metadata": {
        "id": "n5Y1Ol8Bu9ZX"
      },
      "source": [
        "data = data.drop_duplicates().reset_index(drop=True)"
      ],
      "execution_count": null,
      "outputs": []
    },
    {
      "cell_type": "code",
      "metadata": {
        "id": "8VJR-V1Wu9ZY",
        "outputId": "a090f8af-f173-4818-b220-631812a1f324"
      },
      "source": [
        "data.duplicated().sum()"
      ],
      "execution_count": null,
      "outputs": [
        {
          "output_type": "execute_result",
          "data": {
            "text/plain": [
              "0"
            ]
          },
          "metadata": {
            "tags": []
          },
          "execution_count": 21
        }
      ]
    },
    {
      "cell_type": "markdown",
      "metadata": {
        "id": "U63EwCrAu9Za"
      },
      "source": [
        "### Вывод"
      ]
    },
    {
      "cell_type": "markdown",
      "metadata": {
        "id": "RSvaeueUu9Zb"
      },
      "source": [
        "Дубликаты могли появиться вследствие сбоя в записи данных. Дубликаты удалили. Привели значения столбца \"education\" к нижнему регистру."
      ]
    },
    {
      "cell_type": "markdown",
      "metadata": {
        "id": "xLuLEn_Qu9Zd"
      },
      "source": [
        "### Лемматизация"
      ]
    },
    {
      "cell_type": "markdown",
      "metadata": {
        "id": "pDYxDy4tu9Ze"
      },
      "source": [
        "В этом блоке проведем лемматизацию данных столбца с целями кредита, чтобы в итоге можно было \n",
        "корректно провести исследование зависимости наличия долга по кредиту от целей его взятия.\n",
        "Выведем на экран список уникальных значений столбца \"purpose\".\n",
        "Замечаем, что одинаковые цели имеют разное написание."
      ]
    },
    {
      "cell_type": "code",
      "metadata": {
        "id": "-JrrcE02u9Zg",
        "outputId": "8cb78f6a-d6fe-4303-9f71-67d8937d7ec4"
      },
      "source": [
        "data['purpose'].value_counts()"
      ],
      "execution_count": null,
      "outputs": [
        {
          "output_type": "execute_result",
          "data": {
            "text/plain": [
              "свадьба                                   791\n",
              "на проведение свадьбы                     768\n",
              "сыграть свадьбу                           765\n",
              "операции с недвижимостью                  675\n",
              "покупка коммерческой недвижимости         661\n",
              "операции с жильем                         652\n",
              "покупка жилья для сдачи                   651\n",
              "операции с коммерческой недвижимостью     650\n",
              "покупка жилья                             646\n",
              "жилье                                     646\n",
              "покупка жилья для семьи                   638\n",
              "строительство собственной недвижимости    635\n",
              "недвижимость                              633\n",
              "операции со своей недвижимостью           627\n",
              "строительство жилой недвижимости          624\n",
              "покупка недвижимости                      621\n",
              "покупка своего жилья                      620\n",
              "строительство недвижимости                619\n",
              "ремонт жилью                              607\n",
              "покупка жилой недвижимости                606\n",
              "на покупку своего автомобиля              505\n",
              "заняться высшим образованием              496\n",
              "автомобиль                                494\n",
              "сделка с подержанным автомобилем          486\n",
              "свой автомобиль                           478\n",
              "на покупку подержанного автомобиля        478\n",
              "автомобили                                478\n",
              "на покупку автомобиля                     471\n",
              "приобретение автомобиля                   461\n",
              "дополнительное образование                460\n",
              "сделка с автомобилем                      455\n",
              "высшее образование                        452\n",
              "образование                               447\n",
              "получение дополнительного образования     446\n",
              "получение образования                     442\n",
              "профильное образование                    436\n",
              "получение высшего образования             426\n",
              "заняться образованием                     408\n",
              "Name: purpose, dtype: int64"
            ]
          },
          "metadata": {
            "tags": []
          },
          "execution_count": 22
        }
      ]
    },
    {
      "cell_type": "markdown",
      "metadata": {
        "id": "9Q3UwDN-u9Zi"
      },
      "source": [
        "Заметили, что все цели можно сгруппировать в несколько крупных групп. Но так как цели имеют разное написание, необходимо провести лемматизаццию."
      ]
    },
    {
      "cell_type": "code",
      "metadata": {
        "id": "qhTcc3Mqu9Zj"
      },
      "source": [
        "from pymystem3 import Mystem\n",
        "m = Mystem()"
      ],
      "execution_count": null,
      "outputs": []
    },
    {
      "cell_type": "code",
      "metadata": {
        "id": "_qIWDoY1u9Zk",
        "outputId": "39c2f63d-2e94-438a-f413-b16427cfcc2d"
      },
      "source": [
        "text_lemmas = ''\n",
        "for element in data['purpose'].unique():\n",
        "    text_lemmas = text_lemmas + ',' + element\n",
        "text_lemmas"
      ],
      "execution_count": null,
      "outputs": [
        {
          "output_type": "execute_result",
          "data": {
            "text/plain": [
              "',покупка жилья,приобретение автомобиля,дополнительное образование,сыграть свадьбу,операции с жильем,образование,на проведение свадьбы,покупка жилья для семьи,покупка недвижимости,покупка коммерческой недвижимости,покупка жилой недвижимости,строительство собственной недвижимости,недвижимость,строительство недвижимости,на покупку подержанного автомобиля,на покупку своего автомобиля,операции с коммерческой недвижимостью,строительство жилой недвижимости,жилье,операции со своей недвижимостью,автомобили,заняться образованием,сделка с подержанным автомобилем,получение образования,автомобиль,свадьба,получение дополнительного образования,покупка своего жилья,операции с недвижимостью,получение высшего образования,свой автомобиль,сделка с автомобилем,профильное образование,высшее образование,покупка жилья для сдачи,на покупку автомобиля,ремонт жилью,заняться высшим образованием'"
            ]
          },
          "metadata": {
            "tags": []
          },
          "execution_count": 24
        }
      ]
    },
    {
      "cell_type": "markdown",
      "metadata": {
        "id": "pRcHuJ2yu9Zm"
      },
      "source": [
        "Напишем функцию, которая будет лемматизировать строки столбца с целями кредита, получим список лемм и с помощью условных операторов проверим вхождение конкретных лемм в этот список. При их наличии функция будет возвращать название конкретной категории. И в конце применим функцию с помощью метода .apply к столбцу 'purpose' и добавим новый столбец с категориями, которые впоследствие будем группировать. Выделим следующие категории: автомобиль, жилье и недвижимость объединим в одну категорию, свадьба и образование, а также выделим отдельно другую категории при отсутвии подходящей."
      ]
    },
    {
      "cell_type": "code",
      "metadata": {
        "id": "f34d6cJsu9Zo"
      },
      "source": [
        "def lemmatization(text):\n",
        "    lemmas = ' '.join(m.lemmatize(text))\n",
        "       \n",
        "    if 'автомобиль' in lemmas:\n",
        "        return 'автомобиль'\n",
        "    elif ('недвижимость' in lemmas) or ('жилье' in lemmas):\n",
        "        return 'недвижимость'\n",
        "    elif 'свадьба' in lemmas:\n",
        "        return 'свадьба' \n",
        "    elif 'образование' in lemmas:\n",
        "        return 'образование'\n",
        "    else:\n",
        "        return 'другая категория'\n",
        "    \n",
        "data['lemmas'] = data['purpose'].apply(lemmatization)"
      ],
      "execution_count": null,
      "outputs": []
    },
    {
      "cell_type": "markdown",
      "metadata": {
        "id": "8WXcEyGJu9Zq"
      },
      "source": [
        "Проверим наличие нового столбца 'lemmas'"
      ]
    },
    {
      "cell_type": "code",
      "metadata": {
        "id": "wSXHV7y2u9Zr",
        "outputId": "741e85ce-2e76-43ca-aea5-8026c9dc1001"
      },
      "source": [
        "data.head(10)"
      ],
      "execution_count": null,
      "outputs": [
        {
          "output_type": "execute_result",
          "data": {
            "text/html": [
              "<div>\n",
              "<style scoped>\n",
              "    .dataframe tbody tr th:only-of-type {\n",
              "        vertical-align: middle;\n",
              "    }\n",
              "\n",
              "    .dataframe tbody tr th {\n",
              "        vertical-align: top;\n",
              "    }\n",
              "\n",
              "    .dataframe thead th {\n",
              "        text-align: right;\n",
              "    }\n",
              "</style>\n",
              "<table border=\"1\" class=\"dataframe\">\n",
              "  <thead>\n",
              "    <tr style=\"text-align: right;\">\n",
              "      <th></th>\n",
              "      <th>children</th>\n",
              "      <th>days_employed</th>\n",
              "      <th>dob_years</th>\n",
              "      <th>education</th>\n",
              "      <th>education_id</th>\n",
              "      <th>family_status</th>\n",
              "      <th>family_status_id</th>\n",
              "      <th>gender</th>\n",
              "      <th>income_type</th>\n",
              "      <th>debt</th>\n",
              "      <th>total_income</th>\n",
              "      <th>purpose</th>\n",
              "      <th>lemmas</th>\n",
              "    </tr>\n",
              "  </thead>\n",
              "  <tbody>\n",
              "    <tr>\n",
              "      <td>0</td>\n",
              "      <td>1</td>\n",
              "      <td>-8437</td>\n",
              "      <td>42</td>\n",
              "      <td>высшее</td>\n",
              "      <td>0</td>\n",
              "      <td>женат / замужем</td>\n",
              "      <td>0</td>\n",
              "      <td>F</td>\n",
              "      <td>сотрудник</td>\n",
              "      <td>0</td>\n",
              "      <td>253875</td>\n",
              "      <td>покупка жилья</td>\n",
              "      <td>недвижимость</td>\n",
              "    </tr>\n",
              "    <tr>\n",
              "      <td>1</td>\n",
              "      <td>1</td>\n",
              "      <td>-4024</td>\n",
              "      <td>36</td>\n",
              "      <td>среднее</td>\n",
              "      <td>1</td>\n",
              "      <td>женат / замужем</td>\n",
              "      <td>0</td>\n",
              "      <td>F</td>\n",
              "      <td>сотрудник</td>\n",
              "      <td>0</td>\n",
              "      <td>112080</td>\n",
              "      <td>приобретение автомобиля</td>\n",
              "      <td>автомобиль</td>\n",
              "    </tr>\n",
              "    <tr>\n",
              "      <td>2</td>\n",
              "      <td>0</td>\n",
              "      <td>-5623</td>\n",
              "      <td>33</td>\n",
              "      <td>среднее</td>\n",
              "      <td>1</td>\n",
              "      <td>женат / замужем</td>\n",
              "      <td>0</td>\n",
              "      <td>M</td>\n",
              "      <td>сотрудник</td>\n",
              "      <td>0</td>\n",
              "      <td>145885</td>\n",
              "      <td>покупка жилья</td>\n",
              "      <td>недвижимость</td>\n",
              "    </tr>\n",
              "    <tr>\n",
              "      <td>3</td>\n",
              "      <td>3</td>\n",
              "      <td>-4124</td>\n",
              "      <td>32</td>\n",
              "      <td>среднее</td>\n",
              "      <td>1</td>\n",
              "      <td>женат / замужем</td>\n",
              "      <td>0</td>\n",
              "      <td>M</td>\n",
              "      <td>сотрудник</td>\n",
              "      <td>0</td>\n",
              "      <td>267628</td>\n",
              "      <td>дополнительное образование</td>\n",
              "      <td>образование</td>\n",
              "    </tr>\n",
              "    <tr>\n",
              "      <td>4</td>\n",
              "      <td>0</td>\n",
              "      <td>340266</td>\n",
              "      <td>53</td>\n",
              "      <td>среднее</td>\n",
              "      <td>1</td>\n",
              "      <td>гражданский брак</td>\n",
              "      <td>1</td>\n",
              "      <td>F</td>\n",
              "      <td>пенсионер</td>\n",
              "      <td>0</td>\n",
              "      <td>158616</td>\n",
              "      <td>сыграть свадьбу</td>\n",
              "      <td>свадьба</td>\n",
              "    </tr>\n",
              "    <tr>\n",
              "      <td>5</td>\n",
              "      <td>0</td>\n",
              "      <td>-926</td>\n",
              "      <td>27</td>\n",
              "      <td>высшее</td>\n",
              "      <td>0</td>\n",
              "      <td>гражданский брак</td>\n",
              "      <td>1</td>\n",
              "      <td>M</td>\n",
              "      <td>компаньон</td>\n",
              "      <td>0</td>\n",
              "      <td>255763</td>\n",
              "      <td>покупка жилья</td>\n",
              "      <td>недвижимость</td>\n",
              "    </tr>\n",
              "    <tr>\n",
              "      <td>6</td>\n",
              "      <td>0</td>\n",
              "      <td>-2879</td>\n",
              "      <td>43</td>\n",
              "      <td>высшее</td>\n",
              "      <td>0</td>\n",
              "      <td>женат / замужем</td>\n",
              "      <td>0</td>\n",
              "      <td>F</td>\n",
              "      <td>компаньон</td>\n",
              "      <td>0</td>\n",
              "      <td>240525</td>\n",
              "      <td>операции с жильем</td>\n",
              "      <td>недвижимость</td>\n",
              "    </tr>\n",
              "    <tr>\n",
              "      <td>7</td>\n",
              "      <td>0</td>\n",
              "      <td>-152</td>\n",
              "      <td>50</td>\n",
              "      <td>среднее</td>\n",
              "      <td>1</td>\n",
              "      <td>женат / замужем</td>\n",
              "      <td>0</td>\n",
              "      <td>M</td>\n",
              "      <td>сотрудник</td>\n",
              "      <td>0</td>\n",
              "      <td>135823</td>\n",
              "      <td>образование</td>\n",
              "      <td>образование</td>\n",
              "    </tr>\n",
              "    <tr>\n",
              "      <td>8</td>\n",
              "      <td>2</td>\n",
              "      <td>-6929</td>\n",
              "      <td>35</td>\n",
              "      <td>высшее</td>\n",
              "      <td>0</td>\n",
              "      <td>гражданский брак</td>\n",
              "      <td>1</td>\n",
              "      <td>F</td>\n",
              "      <td>сотрудник</td>\n",
              "      <td>0</td>\n",
              "      <td>95856</td>\n",
              "      <td>на проведение свадьбы</td>\n",
              "      <td>свадьба</td>\n",
              "    </tr>\n",
              "    <tr>\n",
              "      <td>9</td>\n",
              "      <td>0</td>\n",
              "      <td>-2188</td>\n",
              "      <td>41</td>\n",
              "      <td>среднее</td>\n",
              "      <td>1</td>\n",
              "      <td>женат / замужем</td>\n",
              "      <td>0</td>\n",
              "      <td>M</td>\n",
              "      <td>сотрудник</td>\n",
              "      <td>0</td>\n",
              "      <td>144425</td>\n",
              "      <td>покупка жилья для семьи</td>\n",
              "      <td>недвижимость</td>\n",
              "    </tr>\n",
              "  </tbody>\n",
              "</table>\n",
              "</div>"
            ],
            "text/plain": [
              "   children  days_employed  dob_years education  education_id  \\\n",
              "0         1          -8437         42    высшее             0   \n",
              "1         1          -4024         36   среднее             1   \n",
              "2         0          -5623         33   среднее             1   \n",
              "3         3          -4124         32   среднее             1   \n",
              "4         0         340266         53   среднее             1   \n",
              "5         0           -926         27    высшее             0   \n",
              "6         0          -2879         43    высшее             0   \n",
              "7         0           -152         50   среднее             1   \n",
              "8         2          -6929         35    высшее             0   \n",
              "9         0          -2188         41   среднее             1   \n",
              "\n",
              "      family_status  family_status_id gender income_type  debt  total_income  \\\n",
              "0   женат / замужем                 0      F   сотрудник     0        253875   \n",
              "1   женат / замужем                 0      F   сотрудник     0        112080   \n",
              "2   женат / замужем                 0      M   сотрудник     0        145885   \n",
              "3   женат / замужем                 0      M   сотрудник     0        267628   \n",
              "4  гражданский брак                 1      F   пенсионер     0        158616   \n",
              "5  гражданский брак                 1      M   компаньон     0        255763   \n",
              "6   женат / замужем                 0      F   компаньон     0        240525   \n",
              "7   женат / замужем                 0      M   сотрудник     0        135823   \n",
              "8  гражданский брак                 1      F   сотрудник     0         95856   \n",
              "9   женат / замужем                 0      M   сотрудник     0        144425   \n",
              "\n",
              "                      purpose        lemmas  \n",
              "0               покупка жилья  недвижимость  \n",
              "1     приобретение автомобиля    автомобиль  \n",
              "2               покупка жилья  недвижимость  \n",
              "3  дополнительное образование   образование  \n",
              "4             сыграть свадьбу       свадьба  \n",
              "5               покупка жилья  недвижимость  \n",
              "6           операции с жильем  недвижимость  \n",
              "7                 образование   образование  \n",
              "8       на проведение свадьбы       свадьба  \n",
              "9     покупка жилья для семьи  недвижимость  "
            ]
          },
          "metadata": {
            "tags": []
          },
          "execution_count": 26
        }
      ]
    },
    {
      "cell_type": "markdown",
      "metadata": {
        "id": "eR2tgz2Gu9Zu"
      },
      "source": [
        "### Вывод"
      ]
    },
    {
      "cell_type": "markdown",
      "metadata": {
        "id": "jdr797P-u9Zv"
      },
      "source": [
        "Провели лемматизацию целей кредита. Разделили их на 4 категории: недвижимость, автомобили, свадьба и образование."
      ]
    },
    {
      "cell_type": "markdown",
      "metadata": {
        "id": "F-_TjVqdu9Zz"
      },
      "source": [
        "### Категоризация данных"
      ]
    },
    {
      "cell_type": "markdown",
      "metadata": {
        "id": "KJuDkp6ju9Z0"
      },
      "source": [
        "Проведем категоризацию.\n",
        "Напишем функцию для столбца \"children\", которая на вход будет принимать количество детей и возвращать 3 группы(нет детей, 1 ребенок, 2 и более ребенка)."
      ]
    },
    {
      "cell_type": "code",
      "metadata": {
        "scrolled": true,
        "id": "g7LgMtj1u9Z1",
        "outputId": "43801d74-5e5e-45c9-ac83-af5b39f62ed0"
      },
      "source": [
        "def children_group(children):\n",
        "    if children == 0:\n",
        "        return \"нет детей\"\n",
        "    if children == 1:\n",
        "        return \"1 ребенок\"\n",
        "    if children >= 2:\n",
        "        return \"2 и более ребенка\"\n",
        "    return \"другое\"\n",
        "data['children_group'] = data['children'].apply(children_group)\n",
        "data.head()\n",
        "    \n",
        "    "
      ],
      "execution_count": null,
      "outputs": [
        {
          "output_type": "execute_result",
          "data": {
            "text/html": [
              "<div>\n",
              "<style scoped>\n",
              "    .dataframe tbody tr th:only-of-type {\n",
              "        vertical-align: middle;\n",
              "    }\n",
              "\n",
              "    .dataframe tbody tr th {\n",
              "        vertical-align: top;\n",
              "    }\n",
              "\n",
              "    .dataframe thead th {\n",
              "        text-align: right;\n",
              "    }\n",
              "</style>\n",
              "<table border=\"1\" class=\"dataframe\">\n",
              "  <thead>\n",
              "    <tr style=\"text-align: right;\">\n",
              "      <th></th>\n",
              "      <th>children</th>\n",
              "      <th>days_employed</th>\n",
              "      <th>dob_years</th>\n",
              "      <th>education</th>\n",
              "      <th>education_id</th>\n",
              "      <th>family_status</th>\n",
              "      <th>family_status_id</th>\n",
              "      <th>gender</th>\n",
              "      <th>income_type</th>\n",
              "      <th>debt</th>\n",
              "      <th>total_income</th>\n",
              "      <th>purpose</th>\n",
              "      <th>lemmas</th>\n",
              "      <th>children_group</th>\n",
              "    </tr>\n",
              "  </thead>\n",
              "  <tbody>\n",
              "    <tr>\n",
              "      <td>0</td>\n",
              "      <td>1</td>\n",
              "      <td>-8437</td>\n",
              "      <td>42</td>\n",
              "      <td>высшее</td>\n",
              "      <td>0</td>\n",
              "      <td>женат / замужем</td>\n",
              "      <td>0</td>\n",
              "      <td>F</td>\n",
              "      <td>сотрудник</td>\n",
              "      <td>0</td>\n",
              "      <td>253875</td>\n",
              "      <td>покупка жилья</td>\n",
              "      <td>недвижимость</td>\n",
              "      <td>1 ребенок</td>\n",
              "    </tr>\n",
              "    <tr>\n",
              "      <td>1</td>\n",
              "      <td>1</td>\n",
              "      <td>-4024</td>\n",
              "      <td>36</td>\n",
              "      <td>среднее</td>\n",
              "      <td>1</td>\n",
              "      <td>женат / замужем</td>\n",
              "      <td>0</td>\n",
              "      <td>F</td>\n",
              "      <td>сотрудник</td>\n",
              "      <td>0</td>\n",
              "      <td>112080</td>\n",
              "      <td>приобретение автомобиля</td>\n",
              "      <td>автомобиль</td>\n",
              "      <td>1 ребенок</td>\n",
              "    </tr>\n",
              "    <tr>\n",
              "      <td>2</td>\n",
              "      <td>0</td>\n",
              "      <td>-5623</td>\n",
              "      <td>33</td>\n",
              "      <td>среднее</td>\n",
              "      <td>1</td>\n",
              "      <td>женат / замужем</td>\n",
              "      <td>0</td>\n",
              "      <td>M</td>\n",
              "      <td>сотрудник</td>\n",
              "      <td>0</td>\n",
              "      <td>145885</td>\n",
              "      <td>покупка жилья</td>\n",
              "      <td>недвижимость</td>\n",
              "      <td>нет детей</td>\n",
              "    </tr>\n",
              "    <tr>\n",
              "      <td>3</td>\n",
              "      <td>3</td>\n",
              "      <td>-4124</td>\n",
              "      <td>32</td>\n",
              "      <td>среднее</td>\n",
              "      <td>1</td>\n",
              "      <td>женат / замужем</td>\n",
              "      <td>0</td>\n",
              "      <td>M</td>\n",
              "      <td>сотрудник</td>\n",
              "      <td>0</td>\n",
              "      <td>267628</td>\n",
              "      <td>дополнительное образование</td>\n",
              "      <td>образование</td>\n",
              "      <td>2 и более ребенка</td>\n",
              "    </tr>\n",
              "    <tr>\n",
              "      <td>4</td>\n",
              "      <td>0</td>\n",
              "      <td>340266</td>\n",
              "      <td>53</td>\n",
              "      <td>среднее</td>\n",
              "      <td>1</td>\n",
              "      <td>гражданский брак</td>\n",
              "      <td>1</td>\n",
              "      <td>F</td>\n",
              "      <td>пенсионер</td>\n",
              "      <td>0</td>\n",
              "      <td>158616</td>\n",
              "      <td>сыграть свадьбу</td>\n",
              "      <td>свадьба</td>\n",
              "      <td>нет детей</td>\n",
              "    </tr>\n",
              "  </tbody>\n",
              "</table>\n",
              "</div>"
            ],
            "text/plain": [
              "   children  days_employed  dob_years education  education_id  \\\n",
              "0         1          -8437         42    высшее             0   \n",
              "1         1          -4024         36   среднее             1   \n",
              "2         0          -5623         33   среднее             1   \n",
              "3         3          -4124         32   среднее             1   \n",
              "4         0         340266         53   среднее             1   \n",
              "\n",
              "      family_status  family_status_id gender income_type  debt  total_income  \\\n",
              "0   женат / замужем                 0      F   сотрудник     0        253875   \n",
              "1   женат / замужем                 0      F   сотрудник     0        112080   \n",
              "2   женат / замужем                 0      M   сотрудник     0        145885   \n",
              "3   женат / замужем                 0      M   сотрудник     0        267628   \n",
              "4  гражданский брак                 1      F   пенсионер     0        158616   \n",
              "\n",
              "                      purpose        lemmas     children_group  \n",
              "0               покупка жилья  недвижимость          1 ребенок  \n",
              "1     приобретение автомобиля    автомобиль          1 ребенок  \n",
              "2               покупка жилья  недвижимость          нет детей  \n",
              "3  дополнительное образование   образование  2 и более ребенка  \n",
              "4             сыграть свадьбу       свадьба          нет детей  "
            ]
          },
          "metadata": {
            "tags": []
          },
          "execution_count": 27
        }
      ]
    },
    {
      "cell_type": "markdown",
      "metadata": {
        "id": "t4P8RDAbu9Z4"
      },
      "source": [
        "В столбце \"income_type\" выделим несколько групп по суммам дохода. Напишем функцию для категоризации столбца, как в предыдущем коде."
      ]
    },
    {
      "cell_type": "code",
      "metadata": {
        "id": "JutOydy5u9Z7",
        "outputId": "c1d60269-37dc-48be-df29-e380a4b03c4e"
      },
      "source": [
        "def income_group(income):\n",
        "    if income <= 50000:\n",
        "        return \"0-50 000\"\n",
        "    if income > 50000 and income <= 100000:\n",
        "        return \"50 000-100 000\"\n",
        "    if income > 100000 and income <= 500000:\n",
        "        return \"100 000-500 000\"\n",
        "    if income > 500000 and income <= 1000000:\n",
        "        return \"500 000 - 1000000\"\n",
        "    if income > 1000000:\n",
        "        return \"больше 1 000 000\"\n",
        "    return \"другое\"\n",
        "data['income_group'] = data['total_income'].apply(income_group)\n",
        "data.head()"
      ],
      "execution_count": null,
      "outputs": [
        {
          "output_type": "execute_result",
          "data": {
            "text/html": [
              "<div>\n",
              "<style scoped>\n",
              "    .dataframe tbody tr th:only-of-type {\n",
              "        vertical-align: middle;\n",
              "    }\n",
              "\n",
              "    .dataframe tbody tr th {\n",
              "        vertical-align: top;\n",
              "    }\n",
              "\n",
              "    .dataframe thead th {\n",
              "        text-align: right;\n",
              "    }\n",
              "</style>\n",
              "<table border=\"1\" class=\"dataframe\">\n",
              "  <thead>\n",
              "    <tr style=\"text-align: right;\">\n",
              "      <th></th>\n",
              "      <th>children</th>\n",
              "      <th>days_employed</th>\n",
              "      <th>dob_years</th>\n",
              "      <th>education</th>\n",
              "      <th>education_id</th>\n",
              "      <th>family_status</th>\n",
              "      <th>family_status_id</th>\n",
              "      <th>gender</th>\n",
              "      <th>income_type</th>\n",
              "      <th>debt</th>\n",
              "      <th>total_income</th>\n",
              "      <th>purpose</th>\n",
              "      <th>lemmas</th>\n",
              "      <th>children_group</th>\n",
              "      <th>income_group</th>\n",
              "    </tr>\n",
              "  </thead>\n",
              "  <tbody>\n",
              "    <tr>\n",
              "      <td>0</td>\n",
              "      <td>1</td>\n",
              "      <td>-8437</td>\n",
              "      <td>42</td>\n",
              "      <td>высшее</td>\n",
              "      <td>0</td>\n",
              "      <td>женат / замужем</td>\n",
              "      <td>0</td>\n",
              "      <td>F</td>\n",
              "      <td>сотрудник</td>\n",
              "      <td>0</td>\n",
              "      <td>253875</td>\n",
              "      <td>покупка жилья</td>\n",
              "      <td>недвижимость</td>\n",
              "      <td>1 ребенок</td>\n",
              "      <td>100 000-500 000</td>\n",
              "    </tr>\n",
              "    <tr>\n",
              "      <td>1</td>\n",
              "      <td>1</td>\n",
              "      <td>-4024</td>\n",
              "      <td>36</td>\n",
              "      <td>среднее</td>\n",
              "      <td>1</td>\n",
              "      <td>женат / замужем</td>\n",
              "      <td>0</td>\n",
              "      <td>F</td>\n",
              "      <td>сотрудник</td>\n",
              "      <td>0</td>\n",
              "      <td>112080</td>\n",
              "      <td>приобретение автомобиля</td>\n",
              "      <td>автомобиль</td>\n",
              "      <td>1 ребенок</td>\n",
              "      <td>100 000-500 000</td>\n",
              "    </tr>\n",
              "    <tr>\n",
              "      <td>2</td>\n",
              "      <td>0</td>\n",
              "      <td>-5623</td>\n",
              "      <td>33</td>\n",
              "      <td>среднее</td>\n",
              "      <td>1</td>\n",
              "      <td>женат / замужем</td>\n",
              "      <td>0</td>\n",
              "      <td>M</td>\n",
              "      <td>сотрудник</td>\n",
              "      <td>0</td>\n",
              "      <td>145885</td>\n",
              "      <td>покупка жилья</td>\n",
              "      <td>недвижимость</td>\n",
              "      <td>нет детей</td>\n",
              "      <td>100 000-500 000</td>\n",
              "    </tr>\n",
              "    <tr>\n",
              "      <td>3</td>\n",
              "      <td>3</td>\n",
              "      <td>-4124</td>\n",
              "      <td>32</td>\n",
              "      <td>среднее</td>\n",
              "      <td>1</td>\n",
              "      <td>женат / замужем</td>\n",
              "      <td>0</td>\n",
              "      <td>M</td>\n",
              "      <td>сотрудник</td>\n",
              "      <td>0</td>\n",
              "      <td>267628</td>\n",
              "      <td>дополнительное образование</td>\n",
              "      <td>образование</td>\n",
              "      <td>2 и более ребенка</td>\n",
              "      <td>100 000-500 000</td>\n",
              "    </tr>\n",
              "    <tr>\n",
              "      <td>4</td>\n",
              "      <td>0</td>\n",
              "      <td>340266</td>\n",
              "      <td>53</td>\n",
              "      <td>среднее</td>\n",
              "      <td>1</td>\n",
              "      <td>гражданский брак</td>\n",
              "      <td>1</td>\n",
              "      <td>F</td>\n",
              "      <td>пенсионер</td>\n",
              "      <td>0</td>\n",
              "      <td>158616</td>\n",
              "      <td>сыграть свадьбу</td>\n",
              "      <td>свадьба</td>\n",
              "      <td>нет детей</td>\n",
              "      <td>100 000-500 000</td>\n",
              "    </tr>\n",
              "  </tbody>\n",
              "</table>\n",
              "</div>"
            ],
            "text/plain": [
              "   children  days_employed  dob_years education  education_id  \\\n",
              "0         1          -8437         42    высшее             0   \n",
              "1         1          -4024         36   среднее             1   \n",
              "2         0          -5623         33   среднее             1   \n",
              "3         3          -4124         32   среднее             1   \n",
              "4         0         340266         53   среднее             1   \n",
              "\n",
              "      family_status  family_status_id gender income_type  debt  total_income  \\\n",
              "0   женат / замужем                 0      F   сотрудник     0        253875   \n",
              "1   женат / замужем                 0      F   сотрудник     0        112080   \n",
              "2   женат / замужем                 0      M   сотрудник     0        145885   \n",
              "3   женат / замужем                 0      M   сотрудник     0        267628   \n",
              "4  гражданский брак                 1      F   пенсионер     0        158616   \n",
              "\n",
              "                      purpose        lemmas     children_group  \\\n",
              "0               покупка жилья  недвижимость          1 ребенок   \n",
              "1     приобретение автомобиля    автомобиль          1 ребенок   \n",
              "2               покупка жилья  недвижимость          нет детей   \n",
              "3  дополнительное образование   образование  2 и более ребенка   \n",
              "4             сыграть свадьбу       свадьба          нет детей   \n",
              "\n",
              "      income_group  \n",
              "0  100 000-500 000  \n",
              "1  100 000-500 000  \n",
              "2  100 000-500 000  \n",
              "3  100 000-500 000  \n",
              "4  100 000-500 000  "
            ]
          },
          "metadata": {
            "tags": []
          },
          "execution_count": 28
        }
      ]
    },
    {
      "cell_type": "markdown",
      "metadata": {
        "id": "0P0RAnvXu9Z_"
      },
      "source": [
        "### Вывод"
      ]
    },
    {
      "cell_type": "markdown",
      "metadata": {
        "id": "HHm6u0lVu9aA"
      },
      "source": [
        "Количественные данные, которые нам необходимы для исследования (количество детей и сумма дохода), объединили в несколько категорий."
      ]
    },
    {
      "cell_type": "markdown",
      "metadata": {
        "id": "BhWgnuGku9aC"
      },
      "source": [
        "### Шаг 3. Ответьте на вопросы"
      ]
    },
    {
      "cell_type": "markdown",
      "metadata": {
        "id": "wlvyTKanu9aD"
      },
      "source": [
        "- ### Есть ли зависимость между наличием детей и возвратом кредита в срок?"
      ]
    },
    {
      "cell_type": "code",
      "metadata": {
        "id": "XqHI9gZHu9aE",
        "outputId": "04937367-cbf8-4cc6-b6f3-fbb038f638fe"
      },
      "source": [
        "data.groupby('children_group')['debt'].agg(['count', 'sum', 'mean'])"
      ],
      "execution_count": null,
      "outputs": [
        {
          "output_type": "execute_result",
          "data": {
            "text/html": [
              "<div>\n",
              "<style scoped>\n",
              "    .dataframe tbody tr th:only-of-type {\n",
              "        vertical-align: middle;\n",
              "    }\n",
              "\n",
              "    .dataframe tbody tr th {\n",
              "        vertical-align: top;\n",
              "    }\n",
              "\n",
              "    .dataframe thead th {\n",
              "        text-align: right;\n",
              "    }\n",
              "</style>\n",
              "<table border=\"1\" class=\"dataframe\">\n",
              "  <thead>\n",
              "    <tr style=\"text-align: right;\">\n",
              "      <th></th>\n",
              "      <th>count</th>\n",
              "      <th>sum</th>\n",
              "      <th>mean</th>\n",
              "    </tr>\n",
              "    <tr>\n",
              "      <th>children_group</th>\n",
              "      <th></th>\n",
              "      <th></th>\n",
              "      <th></th>\n",
              "    </tr>\n",
              "  </thead>\n",
              "  <tbody>\n",
              "    <tr>\n",
              "      <td>1 ребенок</td>\n",
              "      <td>4855</td>\n",
              "      <td>445</td>\n",
              "      <td>0.091658</td>\n",
              "    </tr>\n",
              "    <tr>\n",
              "      <td>2 и более ребенка</td>\n",
              "      <td>2508</td>\n",
              "      <td>233</td>\n",
              "      <td>0.092903</td>\n",
              "    </tr>\n",
              "    <tr>\n",
              "      <td>нет детей</td>\n",
              "      <td>14091</td>\n",
              "      <td>1063</td>\n",
              "      <td>0.075438</td>\n",
              "    </tr>\n",
              "  </tbody>\n",
              "</table>\n",
              "</div>"
            ],
            "text/plain": [
              "                   count   sum      mean\n",
              "children_group                          \n",
              "1 ребенок           4855   445  0.091658\n",
              "2 и более ребенка   2508   233  0.092903\n",
              "нет детей          14091  1063  0.075438"
            ]
          },
          "metadata": {
            "tags": []
          },
          "execution_count": 29
        }
      ]
    },
    {
      "cell_type": "markdown",
      "metadata": {
        "id": "61_-hbG3u9aG"
      },
      "source": [
        "В сводной таблице сделали группироку таких значений, как общее количество бравших кредит(count), количество должников(sum) и доля должников по отношению к общему количеству(mean).Исходя из сводной таблицы видим, что меньше всего долгов у тех, у кого нет детей, а в других двух группах значения почти одинаковые. Добавим столбец с семейным положением, чтобы посмотреть зависимость от двух столбцов одновременно."
      ]
    },
    {
      "cell_type": "code",
      "metadata": {
        "id": "Bk8bbJggu9aL",
        "outputId": "d5551196-a417-40b2-e950-9f6b4803b4cb"
      },
      "source": [
        "data.groupby(['children_group', 'family_status'])['debt'].agg(['count', 'sum', 'mean'])"
      ],
      "execution_count": null,
      "outputs": [
        {
          "output_type": "execute_result",
          "data": {
            "text/html": [
              "<div>\n",
              "<style scoped>\n",
              "    .dataframe tbody tr th:only-of-type {\n",
              "        vertical-align: middle;\n",
              "    }\n",
              "\n",
              "    .dataframe tbody tr th {\n",
              "        vertical-align: top;\n",
              "    }\n",
              "\n",
              "    .dataframe thead th {\n",
              "        text-align: right;\n",
              "    }\n",
              "</style>\n",
              "<table border=\"1\" class=\"dataframe\">\n",
              "  <thead>\n",
              "    <tr style=\"text-align: right;\">\n",
              "      <th></th>\n",
              "      <th></th>\n",
              "      <th>count</th>\n",
              "      <th>sum</th>\n",
              "      <th>mean</th>\n",
              "    </tr>\n",
              "    <tr>\n",
              "      <th>children_group</th>\n",
              "      <th>family_status</th>\n",
              "      <th></th>\n",
              "      <th></th>\n",
              "      <th></th>\n",
              "    </tr>\n",
              "  </thead>\n",
              "  <tbody>\n",
              "    <tr>\n",
              "      <td rowspan=\"5\" valign=\"top\">1 ребенок</td>\n",
              "      <td>Не женат / не замужем</td>\n",
              "      <td>454</td>\n",
              "      <td>52</td>\n",
              "      <td>0.114537</td>\n",
              "    </tr>\n",
              "    <tr>\n",
              "      <td>в разводе</td>\n",
              "      <td>316</td>\n",
              "      <td>21</td>\n",
              "      <td>0.066456</td>\n",
              "    </tr>\n",
              "    <tr>\n",
              "      <td>вдовец / вдова</td>\n",
              "      <td>81</td>\n",
              "      <td>7</td>\n",
              "      <td>0.086420</td>\n",
              "    </tr>\n",
              "    <tr>\n",
              "      <td>гражданский брак</td>\n",
              "      <td>1000</td>\n",
              "      <td>118</td>\n",
              "      <td>0.118000</td>\n",
              "    </tr>\n",
              "    <tr>\n",
              "      <td>женат / замужем</td>\n",
              "      <td>3004</td>\n",
              "      <td>247</td>\n",
              "      <td>0.082224</td>\n",
              "    </tr>\n",
              "    <tr>\n",
              "      <td rowspan=\"5\" valign=\"top\">2 и более ребенка</td>\n",
              "      <td>Не женат / не замужем</td>\n",
              "      <td>94</td>\n",
              "      <td>12</td>\n",
              "      <td>0.127660</td>\n",
              "    </tr>\n",
              "    <tr>\n",
              "      <td>в разводе</td>\n",
              "      <td>95</td>\n",
              "      <td>9</td>\n",
              "      <td>0.094737</td>\n",
              "    </tr>\n",
              "    <tr>\n",
              "      <td>вдовец / вдова</td>\n",
              "      <td>31</td>\n",
              "      <td>3</td>\n",
              "      <td>0.096774</td>\n",
              "    </tr>\n",
              "    <tr>\n",
              "      <td>гражданский брак</td>\n",
              "      <td>421</td>\n",
              "      <td>41</td>\n",
              "      <td>0.097387</td>\n",
              "    </tr>\n",
              "    <tr>\n",
              "      <td>женат / замужем</td>\n",
              "      <td>1867</td>\n",
              "      <td>168</td>\n",
              "      <td>0.089984</td>\n",
              "    </tr>\n",
              "    <tr>\n",
              "      <td rowspan=\"5\" valign=\"top\">нет детей</td>\n",
              "      <td>Не женат / не замужем</td>\n",
              "      <td>2262</td>\n",
              "      <td>210</td>\n",
              "      <td>0.092838</td>\n",
              "    </tr>\n",
              "    <tr>\n",
              "      <td>в разводе</td>\n",
              "      <td>784</td>\n",
              "      <td>55</td>\n",
              "      <td>0.070153</td>\n",
              "    </tr>\n",
              "    <tr>\n",
              "      <td>вдовец / вдова</td>\n",
              "      <td>847</td>\n",
              "      <td>53</td>\n",
              "      <td>0.062574</td>\n",
              "    </tr>\n",
              "    <tr>\n",
              "      <td>гражданский брак</td>\n",
              "      <td>2730</td>\n",
              "      <td>229</td>\n",
              "      <td>0.083883</td>\n",
              "    </tr>\n",
              "    <tr>\n",
              "      <td>женат / замужем</td>\n",
              "      <td>7468</td>\n",
              "      <td>516</td>\n",
              "      <td>0.069095</td>\n",
              "    </tr>\n",
              "  </tbody>\n",
              "</table>\n",
              "</div>"
            ],
            "text/plain": [
              "                                         count  sum      mean\n",
              "children_group    family_status                              \n",
              "1 ребенок         Не женат / не замужем    454   52  0.114537\n",
              "                  в разводе                316   21  0.066456\n",
              "                  вдовец / вдова            81    7  0.086420\n",
              "                  гражданский брак        1000  118  0.118000\n",
              "                  женат / замужем         3004  247  0.082224\n",
              "2 и более ребенка Не женат / не замужем     94   12  0.127660\n",
              "                  в разводе                 95    9  0.094737\n",
              "                  вдовец / вдова            31    3  0.096774\n",
              "                  гражданский брак         421   41  0.097387\n",
              "                  женат / замужем         1867  168  0.089984\n",
              "нет детей         Не женат / не замужем   2262  210  0.092838\n",
              "                  в разводе                784   55  0.070153\n",
              "                  вдовец / вдова           847   53  0.062574\n",
              "                  гражданский брак        2730  229  0.083883\n",
              "                  женат / замужем         7468  516  0.069095"
            ]
          },
          "metadata": {
            "tags": []
          },
          "execution_count": 30
        }
      ]
    },
    {
      "cell_type": "markdown",
      "metadata": {
        "id": "_PlKFt8eu9aN"
      },
      "source": [
        "### Вывод"
      ]
    },
    {
      "cell_type": "markdown",
      "metadata": {
        "id": "FgqgrvP1u9aO"
      },
      "source": [
        "Исходя из данных, можно сделать вывод, что у неимеющих детей долгов по кредитам меньше. Если сравнивать одновременно с семейным положением, то можно сказать, что у неженатых долгов больше. И чем больше детей в семье, тем чаще такие семьи (неполные) имеют долги по кредиту."
      ]
    },
    {
      "cell_type": "markdown",
      "metadata": {
        "id": "vC70p150u9aP"
      },
      "source": [
        "- ### Есть ли зависимость между семейным положением и возвратом кредита в срок?"
      ]
    },
    {
      "cell_type": "code",
      "metadata": {
        "id": "5emCDauku9aR",
        "outputId": "7df6d93d-8099-483e-fe8b-2a5af40f9c72"
      },
      "source": [
        "family_debt = data.groupby(['family_status_id', 'family_status'])['debt'].agg(['count', 'sum', 'mean'])\n",
        "family_debt"
      ],
      "execution_count": null,
      "outputs": [
        {
          "output_type": "execute_result",
          "data": {
            "text/html": [
              "<div>\n",
              "<style scoped>\n",
              "    .dataframe tbody tr th:only-of-type {\n",
              "        vertical-align: middle;\n",
              "    }\n",
              "\n",
              "    .dataframe tbody tr th {\n",
              "        vertical-align: top;\n",
              "    }\n",
              "\n",
              "    .dataframe thead th {\n",
              "        text-align: right;\n",
              "    }\n",
              "</style>\n",
              "<table border=\"1\" class=\"dataframe\">\n",
              "  <thead>\n",
              "    <tr style=\"text-align: right;\">\n",
              "      <th></th>\n",
              "      <th></th>\n",
              "      <th>count</th>\n",
              "      <th>sum</th>\n",
              "      <th>mean</th>\n",
              "    </tr>\n",
              "    <tr>\n",
              "      <th>family_status_id</th>\n",
              "      <th>family_status</th>\n",
              "      <th></th>\n",
              "      <th></th>\n",
              "      <th></th>\n",
              "    </tr>\n",
              "  </thead>\n",
              "  <tbody>\n",
              "    <tr>\n",
              "      <td>0</td>\n",
              "      <td>женат / замужем</td>\n",
              "      <td>12339</td>\n",
              "      <td>931</td>\n",
              "      <td>0.075452</td>\n",
              "    </tr>\n",
              "    <tr>\n",
              "      <td>1</td>\n",
              "      <td>гражданский брак</td>\n",
              "      <td>4151</td>\n",
              "      <td>388</td>\n",
              "      <td>0.093471</td>\n",
              "    </tr>\n",
              "    <tr>\n",
              "      <td>2</td>\n",
              "      <td>вдовец / вдова</td>\n",
              "      <td>959</td>\n",
              "      <td>63</td>\n",
              "      <td>0.065693</td>\n",
              "    </tr>\n",
              "    <tr>\n",
              "      <td>3</td>\n",
              "      <td>в разводе</td>\n",
              "      <td>1195</td>\n",
              "      <td>85</td>\n",
              "      <td>0.071130</td>\n",
              "    </tr>\n",
              "    <tr>\n",
              "      <td>4</td>\n",
              "      <td>Не женат / не замужем</td>\n",
              "      <td>2810</td>\n",
              "      <td>274</td>\n",
              "      <td>0.097509</td>\n",
              "    </tr>\n",
              "  </tbody>\n",
              "</table>\n",
              "</div>"
            ],
            "text/plain": [
              "                                        count  sum      mean\n",
              "family_status_id family_status                              \n",
              "0                женат / замужем        12339  931  0.075452\n",
              "1                гражданский брак        4151  388  0.093471\n",
              "2                вдовец / вдова           959   63  0.065693\n",
              "3                в разводе               1195   85  0.071130\n",
              "4                Не женат / не замужем   2810  274  0.097509"
            ]
          },
          "metadata": {
            "tags": []
          },
          "execution_count": 31
        }
      ]
    },
    {
      "cell_type": "code",
      "metadata": {
        "id": "4TQnIKUUu9aY",
        "outputId": "10c5ea44-68e9-407b-9aa6-28b42c94f705"
      },
      "source": [
        "# напишем функцию, которая будет проводить группировку по заданным столбцам и выводить сводную таблицу\n",
        "def group_data(row1, row2):\n",
        "    result = data.groupby(row1)[row2].agg(['count', 'sum', 'mean'])\n",
        "    return result\n",
        "print(group_data('family_status', 'debt'))"
      ],
      "execution_count": null,
      "outputs": [
        {
          "output_type": "stream",
          "text": [
            "                       count  sum      mean\n",
            "family_status                              \n",
            "Не женат / не замужем   2810  274  0.097509\n",
            "в разводе               1195   85  0.071130\n",
            "вдовец / вдова           959   63  0.065693\n",
            "гражданский брак        4151  388  0.093471\n",
            "женат / замужем        12339  931  0.075452\n"
          ],
          "name": "stdout"
        }
      ]
    },
    {
      "cell_type": "markdown",
      "metadata": {
        "id": "CnrUsYCKu9aa"
      },
      "source": [
        "### Вывод"
      ]
    },
    {
      "cell_type": "markdown",
      "metadata": {
        "id": "mQsLywzUu9ab"
      },
      "source": [
        "Таблица показывает зависимость семейного положения и наличия задолженности по кредиту.\n",
        "Исходя из таблицы можем сделать вывод, что больше всех имеют долги по кредитам такие категории граждан, как неженатые(незамужние) и живущие в гражданском браке(по 9 %, смотрим столбец 'mean').\n",
        "Меньше всего доля должников среди вдовцов(6%). Стоит отметить, что столбец \"sum\" не является наглядным для того, чтобы делать вывод о количестве должников, так как показывает лишь число долгов в данной групе, но не учитывает вес категории. Поэтому лучше смотреть среднее арифметическое(долю, отношение количества должников к к общему количеству взявших кредит)."
      ]
    },
    {
      "cell_type": "markdown",
      "metadata": {
        "id": "xNCyUOnVu9ad"
      },
      "source": [
        "- ### Есть ли зависимость между уровнем дохода и возвратом кредита в срок?"
      ]
    },
    {
      "cell_type": "code",
      "metadata": {
        "id": "tm2ecUhbu9ae",
        "outputId": "bdab3d1c-90c9-4edb-de4a-a3cd34c65029"
      },
      "source": [
        "data.groupby('income_group')['debt'].agg(['count', 'sum', 'mean'])"
      ],
      "execution_count": null,
      "outputs": [
        {
          "output_type": "execute_result",
          "data": {
            "text/html": [
              "<div>\n",
              "<style scoped>\n",
              "    .dataframe tbody tr th:only-of-type {\n",
              "        vertical-align: middle;\n",
              "    }\n",
              "\n",
              "    .dataframe tbody tr th {\n",
              "        vertical-align: top;\n",
              "    }\n",
              "\n",
              "    .dataframe thead th {\n",
              "        text-align: right;\n",
              "    }\n",
              "</style>\n",
              "<table border=\"1\" class=\"dataframe\">\n",
              "  <thead>\n",
              "    <tr style=\"text-align: right;\">\n",
              "      <th></th>\n",
              "      <th>count</th>\n",
              "      <th>sum</th>\n",
              "      <th>mean</th>\n",
              "    </tr>\n",
              "    <tr>\n",
              "      <th>income_group</th>\n",
              "      <th></th>\n",
              "      <th></th>\n",
              "      <th></th>\n",
              "    </tr>\n",
              "  </thead>\n",
              "  <tbody>\n",
              "    <tr>\n",
              "      <td>0-50 000</td>\n",
              "      <td>372</td>\n",
              "      <td>23</td>\n",
              "      <td>0.061828</td>\n",
              "    </tr>\n",
              "    <tr>\n",
              "      <td>100 000-500 000</td>\n",
              "      <td>16769</td>\n",
              "      <td>1373</td>\n",
              "      <td>0.081877</td>\n",
              "    </tr>\n",
              "    <tr>\n",
              "      <td>50 000-100 000</td>\n",
              "      <td>4091</td>\n",
              "      <td>331</td>\n",
              "      <td>0.080909</td>\n",
              "    </tr>\n",
              "    <tr>\n",
              "      <td>500 000 - 1000000</td>\n",
              "      <td>197</td>\n",
              "      <td>12</td>\n",
              "      <td>0.060914</td>\n",
              "    </tr>\n",
              "    <tr>\n",
              "      <td>больше 1 000 000</td>\n",
              "      <td>25</td>\n",
              "      <td>2</td>\n",
              "      <td>0.080000</td>\n",
              "    </tr>\n",
              "  </tbody>\n",
              "</table>\n",
              "</div>"
            ],
            "text/plain": [
              "                   count   sum      mean\n",
              "income_group                            \n",
              "0-50 000             372    23  0.061828\n",
              "100 000-500 000    16769  1373  0.081877\n",
              "50 000-100 000      4091   331  0.080909\n",
              "500 000 - 1000000    197    12  0.060914\n",
              "больше 1 000 000      25     2  0.080000"
            ]
          },
          "metadata": {
            "tags": []
          },
          "execution_count": 32
        }
      ]
    },
    {
      "cell_type": "markdown",
      "metadata": {
        "id": "Drdbv_TVu9ag"
      },
      "source": [
        "### Вывод"
      ]
    },
    {
      "cell_type": "markdown",
      "metadata": {
        "id": "fFp2H0Nwu9ah"
      },
      "source": [
        "По представленной сводной таблице сложно судить о влиянии суммы дохода на наличие долгов по кредиту. Можно только выделить две группы (с низким доходом и достаточно высоким), которые реже имеют долги по кредиту(6%), остальные же имеют почти одинаковые значения(8%)"
      ]
    },
    {
      "cell_type": "markdown",
      "metadata": {
        "id": "-NYqJ14Ru9aj"
      },
      "source": [
        "- ### Как разные цели кредита влияют на его возврат в срок?"
      ]
    },
    {
      "cell_type": "code",
      "metadata": {
        "id": "YHE8zY3Wu9ak",
        "outputId": "2b02bc3a-6bfd-40d4-fc9e-59d0ce4c7e24"
      },
      "source": [
        "data.groupby('lemmas')['debt'].agg(['count', 'sum', 'mean'])"
      ],
      "execution_count": null,
      "outputs": [
        {
          "output_type": "execute_result",
          "data": {
            "text/html": [
              "<div>\n",
              "<style scoped>\n",
              "    .dataframe tbody tr th:only-of-type {\n",
              "        vertical-align: middle;\n",
              "    }\n",
              "\n",
              "    .dataframe tbody tr th {\n",
              "        vertical-align: top;\n",
              "    }\n",
              "\n",
              "    .dataframe thead th {\n",
              "        text-align: right;\n",
              "    }\n",
              "</style>\n",
              "<table border=\"1\" class=\"dataframe\">\n",
              "  <thead>\n",
              "    <tr style=\"text-align: right;\">\n",
              "      <th></th>\n",
              "      <th>count</th>\n",
              "      <th>sum</th>\n",
              "      <th>mean</th>\n",
              "    </tr>\n",
              "    <tr>\n",
              "      <th>lemmas</th>\n",
              "      <th></th>\n",
              "      <th></th>\n",
              "      <th></th>\n",
              "    </tr>\n",
              "  </thead>\n",
              "  <tbody>\n",
              "    <tr>\n",
              "      <td>автомобиль</td>\n",
              "      <td>4306</td>\n",
              "      <td>403</td>\n",
              "      <td>0.093590</td>\n",
              "    </tr>\n",
              "    <tr>\n",
              "      <td>недвижимость</td>\n",
              "      <td>10811</td>\n",
              "      <td>782</td>\n",
              "      <td>0.072334</td>\n",
              "    </tr>\n",
              "    <tr>\n",
              "      <td>образование</td>\n",
              "      <td>4013</td>\n",
              "      <td>370</td>\n",
              "      <td>0.092200</td>\n",
              "    </tr>\n",
              "    <tr>\n",
              "      <td>свадьба</td>\n",
              "      <td>2324</td>\n",
              "      <td>186</td>\n",
              "      <td>0.080034</td>\n",
              "    </tr>\n",
              "  </tbody>\n",
              "</table>\n",
              "</div>"
            ],
            "text/plain": [
              "              count  sum      mean\n",
              "lemmas                            \n",
              "автомобиль     4306  403  0.093590\n",
              "недвижимость  10811  782  0.072334\n",
              "образование    4013  370  0.092200\n",
              "свадьба        2324  186  0.080034"
            ]
          },
          "metadata": {
            "tags": []
          },
          "execution_count": 33
        }
      ]
    },
    {
      "cell_type": "markdown",
      "metadata": {
        "id": "32VU3kd5u9al"
      },
      "source": [
        "### Вывод"
      ]
    },
    {
      "cell_type": "markdown",
      "metadata": {
        "id": "Tmpi2gLuu9am"
      },
      "source": [
        "Из таблицы можно сделать вывод, что гораздо чаще люди берут кредит на недвижимость (почти половина всех клиентов). Эта же группа и выплачивает кредиты наиболее ответственно. Среди клиентов, берущих кредиты на автомобиль и образование чаще встречаются должники."
      ]
    },
    {
      "cell_type": "code",
      "metadata": {
        "id": "K3sHvEpnu9an",
        "outputId": "65095c23-aaa6-49fc-836f-019ef1f8b317"
      },
      "source": [
        "data.groupby('education')['debt'].agg(['count', 'sum', 'mean'])"
      ],
      "execution_count": null,
      "outputs": [
        {
          "output_type": "execute_result",
          "data": {
            "text/html": [
              "<div>\n",
              "<style scoped>\n",
              "    .dataframe tbody tr th:only-of-type {\n",
              "        vertical-align: middle;\n",
              "    }\n",
              "\n",
              "    .dataframe tbody tr th {\n",
              "        vertical-align: top;\n",
              "    }\n",
              "\n",
              "    .dataframe thead th {\n",
              "        text-align: right;\n",
              "    }\n",
              "</style>\n",
              "<table border=\"1\" class=\"dataframe\">\n",
              "  <thead>\n",
              "    <tr style=\"text-align: right;\">\n",
              "      <th></th>\n",
              "      <th>count</th>\n",
              "      <th>sum</th>\n",
              "      <th>mean</th>\n",
              "    </tr>\n",
              "    <tr>\n",
              "      <th>education</th>\n",
              "      <th></th>\n",
              "      <th></th>\n",
              "      <th></th>\n",
              "    </tr>\n",
              "  </thead>\n",
              "  <tbody>\n",
              "    <tr>\n",
              "      <td>высшее</td>\n",
              "      <td>5250</td>\n",
              "      <td>278</td>\n",
              "      <td>0.052952</td>\n",
              "    </tr>\n",
              "    <tr>\n",
              "      <td>начальное</td>\n",
              "      <td>282</td>\n",
              "      <td>31</td>\n",
              "      <td>0.109929</td>\n",
              "    </tr>\n",
              "    <tr>\n",
              "      <td>неоконченное высшее</td>\n",
              "      <td>744</td>\n",
              "      <td>68</td>\n",
              "      <td>0.091398</td>\n",
              "    </tr>\n",
              "    <tr>\n",
              "      <td>среднее</td>\n",
              "      <td>15172</td>\n",
              "      <td>1364</td>\n",
              "      <td>0.089902</td>\n",
              "    </tr>\n",
              "    <tr>\n",
              "      <td>ученая степень</td>\n",
              "      <td>6</td>\n",
              "      <td>0</td>\n",
              "      <td>0.000000</td>\n",
              "    </tr>\n",
              "  </tbody>\n",
              "</table>\n",
              "</div>"
            ],
            "text/plain": [
              "                     count   sum      mean\n",
              "education                                 \n",
              "высшее                5250   278  0.052952\n",
              "начальное              282    31  0.109929\n",
              "неоконченное высшее    744    68  0.091398\n",
              "среднее              15172  1364  0.089902\n",
              "ученая степень           6     0  0.000000"
            ]
          },
          "metadata": {
            "tags": []
          },
          "execution_count": 34
        }
      ]
    },
    {
      "cell_type": "markdown",
      "metadata": {
        "id": "wlql9k58u9ap"
      },
      "source": [
        "Проверили зависимость наличия кредитного долга от образования. Прослеживается очень интересная зависимость. Чем образованнее клиент, тем меньше среди таких категорий граждан встречается должников. Например, больше всего долгов у тех лиц, которые имеют только начальное образование. А среди клиентов с ученой степенью (их число, правда, совсем небольшое, 6 человек) должников нет вообще."
      ]
    },
    {
      "cell_type": "markdown",
      "metadata": {
        "id": "GEe6fSwju9as"
      },
      "source": [
        "### Шаг 4. Общий вывод"
      ]
    },
    {
      "cell_type": "markdown",
      "metadata": {
        "id": "E1KkEj2-u9at"
      },
      "source": [
        "В ходе данного проекта исследования попытались найти зависимость возврата кредита в срок, зная информацию об определенных данных клиента. Для начала выполнили все необходимые операции по предобработке данных(изменили некорректные данные, заполнили пропуски, удалили дубликаты, заменили типы данных, проведи лемматизацию целей кредита и сформировали категории для группировки). Затем сгруппировали сводные таблицы для анализа данных и ответили на поставленные вопросы.\n",
        "В заключение, можно сказать, что наиболее надежные заемщики это женатые люди (также вдовцы и люди в разводе, но суммарное количество таких клиентов в несколько раз ниже), без детей и с высшим образование независимо от суммы дохода, решившие взять кредит для покупки новой квартиры."
      ]
    }
  ]
}